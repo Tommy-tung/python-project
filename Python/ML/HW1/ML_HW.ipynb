{
 "cells": [
  {
   "cell_type": "code",
   "execution_count": 2,
   "metadata": {},
   "outputs": [],
   "source": [
    "import numpy as np\n",
    "import pandas as pd \n",
    "import os \n",
    "from random import *"
   ]
  },
  {
   "cell_type": "code",
   "execution_count": 3,
   "metadata": {},
   "outputs": [
    {
     "name": "stdout",
     "output_type": "stream",
     "text": [
      "/Users/tommy84729/python\n"
     ]
    }
   ],
   "source": [
    "print(os.getcwd())\n",
    "os.chdir('/Users/tommy84729/python/Dataset')"
   ]
  },
  {
   "cell_type": "markdown",
   "metadata": {},
   "source": [
    "### 匯入資料（train & target dataset）並將date資料移除 ###"
   ]
  },
  {
   "cell_type": "code",
   "execution_count": 4,
   "metadata": {},
   "outputs": [],
   "source": [
    "train=pd.read_csv(\"dataset_X.csv\").iloc[ : , 1: ]\n",
    "target=pd.read_csv(\"dataset_T.csv\").iloc[ : , 1: ]"
   ]
  },
  {
   "cell_type": "markdown",
   "metadata": {},
   "source": [
    "### 分別看一下train和target的資料狀況，以及變數的狀況 ###"
   ]
  },
  {
   "cell_type": "code",
   "execution_count": 5,
   "metadata": {},
   "outputs": [
    {
     "name": "stdout",
     "output_type": "stream",
     "text": [
      "<class 'pandas.core.frame.DataFrame'>\n",
      "RangeIndex: 1096 entries, 0 to 1095\n",
      "Data columns (total 17 columns):\n",
      "AMB_TEMP      1096 non-null float64\n",
      "CH4           1096 non-null float64\n",
      "CO            1096 non-null float64\n",
      "NMHC          1096 non-null float64\n",
      "NO            1096 non-null float64\n",
      "NO2           1096 non-null float64\n",
      "NOx           1096 non-null float64\n",
      "O3            1096 non-null float64\n",
      "PM10          1096 non-null float64\n",
      "RAINFALL      1096 non-null float64\n",
      "RH            1096 non-null float64\n",
      "SO2           1096 non-null float64\n",
      "THC           1096 non-null float64\n",
      "WD_HR         1096 non-null float64\n",
      "WIND_DIREC    1096 non-null float64\n",
      "WIND_SPEED    1096 non-null float64\n",
      "WS_HR         1096 non-null float64\n",
      "dtypes: float64(17)\n",
      "memory usage: 145.7 KB\n"
     ]
    }
   ],
   "source": [
    "train.info()"
   ]
  },
  {
   "cell_type": "code",
   "execution_count": 6,
   "metadata": {},
   "outputs": [
    {
     "name": "stdout",
     "output_type": "stream",
     "text": [
      "<class 'pandas.core.frame.DataFrame'>\n",
      "RangeIndex: 1096 entries, 0 to 1095\n",
      "Data columns (total 1 columns):\n",
      "PM2.5    1096 non-null float64\n",
      "dtypes: float64(1)\n",
      "memory usage: 8.7 KB\n"
     ]
    }
   ],
   "source": [
    "target.info()"
   ]
  },
  {
   "cell_type": "markdown",
   "metadata": {},
   "source": [
    "#### 可以看到train和target兩筆資料集中都沒有遺漏值的部分， 另外在train中總共有17項解釋變數 ####"
   ]
  },
  {
   "cell_type": "markdown",
   "metadata": {},
   "source": [
    "## 2.1.(a) ##\n",
    "## Please evaluate the corresponding RMS error on the training set and validation set. \n",
    "## In the feature selection stage, please apply polynomials of order M = 1 and M = 2 over the dimension D = 17 of input data."
   ]
  },
  {
   "cell_type": "markdown",
   "metadata": {},
   "source": [
    "$$Poly\\ (M=2) \\ : \\ y(x,w) = \\omega_0 + \\sum_{i=1}^{D}\n",
    " \\omega_i^2x_i^2 + \\sum_{i=1}^{D}\\sum_{j=1}^{D}x_{ij}x_ix_j \\ $$\n",
    " \n",
    "$$ Error\\ : \\  E(w) = \\frac{1}{2N}\\sum_{n=1}^{N}{\\{y(x_n,w) - t_n\\}} $$ "
   ]
  },
  {
   "cell_type": "markdown",
   "metadata": {},
   "source": [
    "### 定義phi函數來計算phi(x)，包含了0次、1次和2次的部分 ###\n",
    "\n",
    "$$ \\Phi_nj = \\phi(x_n) = \\begin{bmatrix} \\phi_0(x_1) & \\phi_1(x_1) & ... & \\phi_{M-1}(x_1) \\\\ \\phi_0(x_2) & \\phi_1(x_2) & ... & \\phi_{M-1}(x_2) \\\\  . & .& ...&. \\\\ . & .& ...&. \\\\ \\phi_0(x_N) & \\phi_1(x_N) & ... & \\phi_{M-1}(x_N) \\\\\n",
    "\\end{bmatrix}$$\n",
    "\n",
    "$$ W_{ML} = (\\Phi^{\\intercal}\\Phi)^{-1}\\Phi^{\\intercal}Y $$ "
   ]
  },
  {
   "cell_type": "markdown",
   "metadata": {},
   "source": [
    "## 定義切割函數"
   ]
  },
  {
   "cell_type": "code",
   "execution_count": 11,
   "metadata": {},
   "outputs": [],
   "source": [
    "def split(n) : \n",
    "    a=list(range(0,1096))\n",
    "    index = list()\n",
    "    shuffle(a)\n",
    "    num = 1096 // n\n",
    "    for i in range(n-1) : \n",
    "        b = a[num*i:num*(i+1)]\n",
    "        index.append(b)\n",
    "    c = a[num*(n-1):]\n",
    "    index.append(c)\n",
    "    return index"
   ]
  },
  {
   "cell_type": "code",
   "execution_count": 12,
   "metadata": {},
   "outputs": [],
   "source": [
    "def phi(x, m ,n) : \n",
    "    index = split(n)\n",
    "    phi = list()\n",
    "    ans = pd.DataFrame()\n",
    "    for i in range(n) : \n",
    "        cv = x.iloc[index[i]]\n",
    "        train = x.loc[~x.index.isin(index[i])]\n",
    "        if m <= 1 :  \n",
    "            od0_t = pd.DataFrame(np.repeat(1, len(train)))\n",
    "            od0_cv = pd.DataFrame(np.repeat(1, len(cv)))\n",
    "            od1_t = pd.DataFrame(train)\n",
    "            od1_cv = pd.DataFrame(cv)\n",
    "            od0_t.reset_index(drop = True, inplace = True)\n",
    "            od0_cv.reset_index(drop = True, inplace = True)\n",
    "            od1_t.reset_index(drop = True, inplace = True)\n",
    "            od1_cv.reset_index(drop = True, inplace = True)\n",
    "            phi_t = pd.concat([od0_t,od1_t], axis = 1 , ignore_index= True)\n",
    "            phi_cv = pd.concat([od0_cv,od1_cv], axis = 1 , ignore_index= True)\n",
    "            phi.append(phi_t)\n",
    "            phi.append(phi_cv)\n",
    "            \n",
    "        elif m >1 :\n",
    "            od0_t = pd.DataFrame(np.repeat(1, len(train)))\n",
    "            od0_cv = pd.DataFrame(np.repeat(1, len(cv)))\n",
    "            od1_t = pd.DataFrame(train)\n",
    "            od1_cv = pd.DataFrame(cv)\n",
    "            od2_t = pd.DataFrame()\n",
    "            od2_cv = pd.DataFrame()\n",
    "            for k in range(len(train)) : \n",
    "                d = []\n",
    "                trains = pd.DataFrame([train.iloc[k,:]])\n",
    "                for i in range(trains.shape[1]) : \n",
    "                    for j in range(trains.shape[1]) : \n",
    "                        if j >= i :        \n",
    "                            num = trains.iloc[0,i]*trains.iloc[0,j]\n",
    "                            d.append(num)\n",
    "                d = pd.DataFrame(d).transpose()\n",
    "                od2_t = pd.concat([od2_t, d], axis = 0, ignore_index=True)\n",
    "            for k in range(len(cv)) : \n",
    "                d = []\n",
    "                cvs = pd.DataFrame([cv.iloc[k,:]])\n",
    "                for i in range(cvs.shape[1]) : \n",
    "                    for j in range(cvs.shape[1]) : \n",
    "                        if j >= i :        \n",
    "                            num = cvs.iloc[0,i]*cvs.iloc[0,j]\n",
    "                            d.append(num)\n",
    "                d = pd.DataFrame(d).transpose()\n",
    "                od2_cv = pd.concat([od2_cv, d], axis = 0, ignore_index=True)\n",
    "            od0_t.reset_index(drop = True, inplace = True)\n",
    "            od0_cv.reset_index(drop = True, inplace = True)\n",
    "            od1_t.reset_index(drop = True, inplace = True)\n",
    "            od1_cv.reset_index(drop = True, inplace = True)\n",
    "            od2_t.reset_index(drop = True, inplace = True)\n",
    "            od2_cv.reset_index(drop = True, inplace = True)           \n",
    "            phi_t = pd.concat([od0_t,od1_t,od2_t], axis = 1 , ignore_index= True)\n",
    "            phi_cv = pd.concat([od0_cv,od1_cv,od2_cv], axis = 1 , ignore_index= True)\n",
    "            phi.append(phi_t)\n",
    "            phi.append(phi_cv)\n",
    "    return  [index , phi]"
   ]
  },
  {
   "cell_type": "markdown",
   "metadata": {},
   "source": [
    "### 定義估計函數，包含了係數的估計以及RMSE的計算 ###"
   ]
  },
  {
   "cell_type": "code",
   "execution_count": 28,
   "metadata": {},
   "outputs": [],
   "source": [
    "def estimate(phi, target) : \n",
    "    ans = pd.DataFrame()\n",
    "    index = phi[0]\n",
    "    phi = phi[1]\n",
    "    for i in range(len(phi)//2) : \n",
    "        phi_train = phi[2*i]\n",
    "        phi_cv = phi[2*i + 1]\n",
    "        target_cv = target.iloc[index[i]]\n",
    "        target_train = target.loc[~target.index.isin(index[i])]\n",
    "        w = np.linalg.inv(phi_train.values.T.dot(phi_train.values)).dot(phi_train.values.T).dot(target_train.values)\n",
    "        nt = np.repeat(1,len(target_train))\n",
    "        nc = np.repeat(1,len(target_cv))\n",
    "        RMSE_train = (nt.dot((phi_train.values.dot(w) - target_train.values)** 2) *(1/len(target_train))) ** (1/2)\n",
    "        RMSE_cv = (nc.dot((phi_cv.values.dot(w) - target_cv.values)** 2) *(1/len(target_cv))) ** (1/2)\n",
    "        est = pd.DataFrame([w,RMSE_train, RMSE_cv]).transpose()\n",
    "        ans = pd.concat([est,ans],axis = 0)\n",
    "    return ans\n"
   ]
  },
  {
   "cell_type": "markdown",
   "metadata": {},
   "source": [
    "### 分別計算M=2、M=1的train和cv之phi值以及RMSE，另外CV選擇5組###"
   ]
  },
  {
   "cell_type": "markdown",
   "metadata": {},
   "source": [
    "#### M=2 ####"
   ]
  },
  {
   "cell_type": "code",
   "execution_count": 14,
   "metadata": {},
   "outputs": [
    {
     "name": "stdout",
     "output_type": "stream",
     "text": [
      "             train_RMSE               cv_RMSE\n",
      "0  [3.3303181800916346]   [4.189775058922326]\n",
      "0  [3.3093008606901155]   [4.600817032024187]\n",
      "0  [3.1960605259660264]  [4.6990249675649896]\n",
      "0   [3.340694611128524]   [4.775224042428947]\n",
      "0  [3.1859276161398653]   [5.502359841588144]\n"
     ]
    }
   ],
   "source": [
    "phi_2 = phi(train , 2, 5)\n",
    "est_2 = estimate(phi_2, target)\n",
    "est_2.columns = ['w', 'train_RMSE', 'cv_RMSE']\n",
    "print(est_2.iloc[ : , 1:])"
   ]
  },
  {
   "cell_type": "markdown",
   "metadata": {},
   "source": [
    "在M=2的情況下，可以看到train的Rmse在[3.2,3.3]之間，CV的部分RMSE卻比train大很多，這表示我們的model存在著over-fitting的問題"
   ]
  },
  {
   "cell_type": "markdown",
   "metadata": {},
   "source": [
    "#### M=1 ####"
   ]
  },
  {
   "cell_type": "code",
   "execution_count": 15,
   "metadata": {},
   "outputs": [
    {
     "name": "stdout",
     "output_type": "stream",
     "text": [
      "   train_RMSE   cv_RMSE\n",
      "1    4.010777  4.541331\n",
      "2    4.089115  4.237307\n",
      "3    4.100977  4.157073\n",
      "4    4.141310  4.006769\n",
      "5    4.147419  3.965697\n"
     ]
    }
   ],
   "source": [
    "phi_1 = phi(train , 1, 5)\n",
    "est_1 = estimate(phi_1, target)\n",
    "est_1.columns = ['w', 'train_RMSE', 'cv_RMSE']\n",
    "est_1.index = ['1', '2', '3', '4', '5']\n",
    "est_1 = est_1.astype({\"train_RMSE\": float, \"cv_RMSE\": float})\n",
    "print(est_1.iloc[ : , 1:])"
   ]
  },
  {
   "cell_type": "markdown",
   "metadata": {},
   "source": [
    "在M=1的情況下，可以看到在train的RMSE相較於M=2的情況來說比較高，原因是我們的model相對簡單，但是與CV的RMSE與train的結果一致，所以在M=1的model中，沒有over-fitting的問題"
   ]
  },
  {
   "cell_type": "markdown",
   "metadata": {},
   "source": [
    "## 2.1.(b) ##"
   ]
  },
  {
   "cell_type": "markdown",
   "metadata": {},
   "source": [
    "###   Please analyze the weights of polynomial models for M = 1 and select the most contributive attribute which has the lowest RMS error on the Training Dataset. ###"
   ]
  },
  {
   "cell_type": "code",
   "execution_count": 17,
   "metadata": {},
   "outputs": [
    {
     "name": "stdout",
     "output_type": "stream",
     "text": [
      "   train_RMSE   cv_RMSE\n",
      "1    4.010777  4.541331\n",
      "2    4.089115  4.237307\n",
      "3    4.100977  4.157073\n",
      "4    4.141310  4.006769\n",
      "5    4.147419  3.965697\n",
      "cv_RMSE平均最小的S為第5組，RMSE = 3.9656974157022034\n"
     ]
    }
   ],
   "source": [
    "print(est_1.iloc[ : , 1:])\n",
    "min = int(est_1[['cv_RMSE']].idxmin())\n",
    "print('cv_RMSE平均最小的S為第{num}組，RMSE = {n}'.format(num = int(est_1[['cv_RMSE']].idxmin()), n = est_1.iloc[min-1,2]))"
   ]
  },
  {
   "cell_type": "markdown",
   "metadata": {},
   "source": [
    "### 接著我們將這一組的係數取出來 ###"
   ]
  },
  {
   "cell_type": "code",
   "execution_count": 18,
   "metadata": {},
   "outputs": [
    {
     "name": "stdout",
     "output_type": "stream",
     "text": [
      "[[-2.54950233e+01]\n",
      " [ 4.01963036e-02]\n",
      " [ 2.59312214e+01]\n",
      " [ 2.11421770e+01]\n",
      " [-2.56897128e+01]\n",
      " [ 1.35691812e+00]\n",
      " [ 1.89115549e+00]\n",
      " [-1.68807135e+00]\n",
      " [ 2.05822229e-02]\n",
      " [ 4.18774094e-01]\n",
      " [-9.77538251e-01]\n",
      " [ 6.95351852e-02]\n",
      " [ 3.87195305e-01]\n",
      " [-1.68751089e+01]\n",
      " [ 3.75798039e-02]\n",
      " [-3.16457581e-02]\n",
      " [ 1.79422061e+00]\n",
      " [-3.33245043e+00]]\n"
     ]
    }
   ],
   "source": [
    "print(est_1.iloc[min-1,0])"
   ]
  },
  {
   "cell_type": "markdown",
   "metadata": {},
   "source": [
    "## 2.2 ##"
   ]
  },
  {
   "cell_type": "markdown",
   "metadata": {},
   "source": [
    "### (a) Choose some of air quality measurement in dataset X.csv and design your model. ### "
   ]
  },
  {
   "cell_type": "markdown",
   "metadata": {},
   "source": [
    "選擇Gaussian basis function，並挑選11個解釋變數進行分析 "
   ]
  },
  {
   "cell_type": "code",
   "execution_count": 19,
   "metadata": {},
   "outputs": [
    {
     "name": "stdout",
     "output_type": "stream",
     "text": [
      "['AMB_TEMP', 'CH4', 'CO', 'NMHC', 'NO', 'NO2', 'NOx', 'O3', 'PM10', 'RAINFALL', 'RH']\n"
     ]
    }
   ],
   "source": [
    "var = list(train.columns)[:11]\n",
    "print(var)"
   ]
  },
  {
   "cell_type": "markdown",
   "metadata": {},
   "source": [
    "### 找出各變數的mean($\\mu_j $)為何 ###"
   ]
  },
  {
   "cell_type": "code",
   "execution_count": 20,
   "metadata": {},
   "outputs": [],
   "source": [
    "mean_v = list()\n",
    "for i in range(len(var)) :  \n",
    "    mu = np.mean(train[var[i]])\n",
    "    mean_v.append(mu)"
   ]
  },
  {
   "cell_type": "markdown",
   "metadata": {},
   "source": [
    "### 定義Gaussian basis function 和design matrix ### \n",
    "\n",
    "$$Gaussian : \\phi_j(x) = exp{(\\frac{(x-\\mu_j)^2}{2S^2})}$$\n",
    "\n",
    "Where the μj govern the locations of the basis functions in input space, and the parameter s governs their spatial scale."
   ]
  },
  {
   "cell_type": "code",
   "execution_count": 21,
   "metadata": {},
   "outputs": [],
   "source": [
    "def gaussian_bf (x, sigma) : \n",
    "    fun = lambda x : np.exp(-0.5 * (x - np.mean(x)) ** 2 / sigma ** 2)\n",
    "    phi = x.apply(fun)\n",
    "    return phi"
   ]
  },
  {
   "cell_type": "markdown",
   "metadata": {},
   "source": [
    "### 定義函數：係數估計(w) 以及 RMSE ###"
   ]
  },
  {
   "cell_type": "code",
   "execution_count": 39,
   "metadata": {},
   "outputs": [],
   "source": [
    "def estimate_g(phi, train, target) : \n",
    "    w = np.linalg.inv(phi.values.T.dot(phi.values)).dot(phi.values.T).dot(target.values)\n",
    "    n = np.repeat(1,len(train))\n",
    "    RMSE = (n.dot((phi.values.dot(w) - target.values)** 2) *(1/len(train))) ** (1/2)\n",
    "    return [w, RMSE]"
   ]
  },
  {
   "cell_type": "code",
   "execution_count": 46,
   "metadata": {},
   "outputs": [],
   "source": [
    "phi_g = gaussian_bf(train, 0.1).loc[ : ,var]"
   ]
  },
  {
   "cell_type": "code",
   "execution_count": 48,
   "metadata": {},
   "outputs": [
    {
     "data": {
      "text/plain": [
       "[array([[ 11.13008978],\n",
       "        [  4.32191387],\n",
       "        [-10.89412996],\n",
       "        [ 20.65122188],\n",
       "        [ -1.19395632],\n",
       "        [  1.62555175],\n",
       "        [ -1.383968  ],\n",
       "        [  1.50848435],\n",
       "        [  0.61093422],\n",
       "        [  6.69402259],\n",
       "        [  1.97055026]]), array([10.75947448])]"
      ]
     },
     "execution_count": 48,
     "metadata": {},
     "output_type": "execute_result"
    }
   ],
   "source": [
    "train_G = train[var]\n",
    "estimate_g(phi_g,train_G , target)"
   ]
  },
  {
   "cell_type": "markdown",
   "metadata": {},
   "source": [
    "可以看到我們係數的估計為何，以及RMSE"
   ]
  },
  {
   "cell_type": "markdown",
   "metadata": {},
   "source": [
    "### (b) Apply N-fold cross-validation in your training stage to select at least one hyperparameter ###"
   ]
  },
  {
   "cell_type": "markdown",
   "metadata": {},
   "source": [
    "### 我所選擇的hyperparameter為 gaussian fuction裡面的S(sigma)  ###"
   ]
  },
  {
   "cell_type": "markdown",
   "metadata": {},
   "source": [
    "### 首先先將資料切成5份 ### "
   ]
  },
  {
   "cell_type": "code",
   "execution_count": 49,
   "metadata": {},
   "outputs": [],
   "source": [
    "index = split(5)"
   ]
  },
  {
   "cell_type": "markdown",
   "metadata": {},
   "source": [
    "### s的範圍為 0.1 ~ 0.5 ，總共測試5個s，透過上面定義的函數來計算 $\\phi(x)$ 以及各自的RMSE（產生5個dataframe，裡面分別包含5-fold的RMSE結果） ###"
   ]
  },
  {
   "cell_type": "code",
   "execution_count": 50,
   "metadata": {},
   "outputs": [],
   "source": [
    "s = np.linspace(0.1, 0.5 ,5)"
   ]
  },
  {
   "cell_type": "code",
   "execution_count": 59,
   "metadata": {},
   "outputs": [],
   "source": [
    "for k in range(len(s)) :  \n",
    "    ansG_t = pd.DataFrame()\n",
    "    ansG_cv = pd.DataFrame()\n",
    "    for j in range(5) : \n",
    "        train_g = train_G.loc[~train.index.isin(index[j])]\n",
    "        train_g_t = target.loc[~train.index.isin(index[j])]\n",
    "        cv_g = train_G.loc[train.index.isin(index[j])]\n",
    "        cv_g_t = target.loc[train.index.isin(index[j])]\n",
    "        phi = pd.DataFrame()\n",
    "        phicv = pd.DataFrame()\n",
    "        for i in range(len(var)) : \n",
    "            phi_t = pd.DataFrame(gaussian_bf(pd.DataFrame(train_g.loc[ : ,var[i:i+1]]), s[k]))\n",
    "            phi = pd.concat([phi, phi_t], axis = 1 , ignore_index= True)\n",
    "            phi_cv = pd.DataFrame(gaussian_bf(pd.DataFrame(cv_g[var[i]]), s[k]))\n",
    "            phicv = pd.concat([phicv, phi_cv], axis = 1 , ignore_index= True)\n",
    "        ansg_t = estimate_g(phi ,train_g , train_g_t)\n",
    "        ansg_cv = estimate_g(phicv , cv_g , cv_g_t)\n",
    "        ansG_t =  pd.concat([pd.DataFrame(ansg_t[ : ]).T,ansG_t],axis = 0)                              \n",
    "        ansG_cv = pd.concat([pd.DataFrame(ansg_cv[ : ]).T,ansG_cv],axis = 0)\n",
    "        ansG = pd.concat([ansG_t,ansG_cv],axis = 1)\n",
    "    ansG.columns = ['w', 'train_RMSE','w','cv_RMSE']\n",
    "    ansG.index = ['1', '2', '3', '4', '5']\n",
    "    globals()[\"ansG\" + str(k + 1)] = ansG"
   ]
  },
  {
   "cell_type": "markdown",
   "metadata": {},
   "source": [
    "### 針對對應的S值所記算出來的RMSE矩陣，計算cv_RMSE的平均，並找出cv_RMSE平均最小的S為何 ###"
   ]
  },
  {
   "cell_type": "code",
   "execution_count": 86,
   "metadata": {},
   "outputs": [
    {
     "name": "stdout",
     "output_type": "stream",
     "text": [
      "     cv_RMSE\n",
      "1   8.999457\n",
      "2   9.035532\n",
      "3   9.089470\n",
      "4   9.299276\n",
      "5  10.592466\n",
      "RMSE平均最小的S為0.1，RMSE = 8.999457309102066\n"
     ]
    }
   ],
   "source": [
    "mean = pd.DataFrame()\n",
    "for i in range(len(s)) :  \n",
    "    x = pd.DataFrame([np.mean(globals()[\"ansG\" + str(i + 1)].iloc[:, 3:])])\n",
    "    mean = pd.concat([x, mean], axis = 0)\n",
    "mean.index = ['1', '2', '3', '4', '5']\n",
    "min = pd.DataFrame(mean[['cv_RMSE']].idxmin())\n",
    "print(mean)\n",
    "print('RMSE平均最小的S為{num}，RMSE = {n}'.format(num = s[int(min.iloc[0,0])-1] , n = np.min(mean.iloc[:,0])))"
   ]
  },
  {
   "cell_type": "markdown",
   "metadata": {},
   "source": [
    "## 3. Maximum a posteriori(MAP) approach ##"
   ]
  },
  {
   "cell_type": "markdown",
   "metadata": {},
   "source": [
    "### Use maximum a posteriori approach method and repeat 2 . You could choose Gaussian distribution as a prior ###"
   ]
  },
  {
   "cell_type": "markdown",
   "metadata": {},
   "source": [
    "## (a) "
   ]
  },
  {
   "cell_type": "markdown",
   "metadata": {},
   "source": [
    "Gaussian noise model:  \n",
    "$$\\epsilon \\sim N(0,\\ \\beta)$$  \n",
    "透過以下的公式更新我們的參數:   \n",
    "\n",
    "$$p(w|t) = N(w|m_N,\\ S_N)\\ \\rm{,where\\ }$$  \n",
    "$$S_N^{-1} = S_0^{-1} + \\beta \\Phi^T \\Phi$$  \n",
    "$$m_N = S_N (S_0^{-1}m_0 + \\beta \\Phi^T t)$$"
   ]
  },
  {
   "cell_type": "markdown",
   "metadata": {},
   "source": [
    "建立我們的起始參數：$m_0$、$S_0$和$\\beta$"
   ]
  },
  {
   "cell_type": "code",
   "execution_count": 87,
   "metadata": {},
   "outputs": [
    {
     "name": "stdout",
     "output_type": "stream",
     "text": [
      "[0 0 0 0 0 0 0 0 0 0 0]\n",
      "[[1. 0. 0. 0. 0. 0. 0. 0. 0. 0. 0.]\n",
      " [0. 1. 0. 0. 0. 0. 0. 0. 0. 0. 0.]\n",
      " [0. 0. 1. 0. 0. 0. 0. 0. 0. 0. 0.]\n",
      " [0. 0. 0. 1. 0. 0. 0. 0. 0. 0. 0.]\n",
      " [0. 0. 0. 0. 1. 0. 0. 0. 0. 0. 0.]\n",
      " [0. 0. 0. 0. 0. 1. 0. 0. 0. 0. 0.]\n",
      " [0. 0. 0. 0. 0. 0. 1. 0. 0. 0. 0.]\n",
      " [0. 0. 0. 0. 0. 0. 0. 1. 0. 0. 0.]\n",
      " [0. 0. 0. 0. 0. 0. 0. 0. 1. 0. 0.]\n",
      " [0. 0. 0. 0. 0. 0. 0. 0. 0. 1. 0.]\n",
      " [0. 0. 0. 0. 0. 0. 0. 0. 0. 0. 1.]]\n"
     ]
    }
   ],
   "source": [
    "m0 = np.repeat(0,len(var))\n",
    "s0 = np.eye(len(var))\n",
    "b = 1 \n",
    "print(m0)\n",
    "print(s0)"
   ]
  },
  {
   "cell_type": "markdown",
   "metadata": {},
   "source": [
    "## 定義函數：$p(w|t)$"
   ]
  },
  {
   "cell_type": "code",
   "execution_count": 65,
   "metadata": {},
   "outputs": [],
   "source": [
    "def posterior(x, t, sigma , m0, s0, b) : \n",
    "    t = t.values\n",
    "    phi = gaussian_bf (x, sigma)\n",
    "    sn = np.linalg.inv(np.linalg.inv(s0) + b * phi.values.T.dot(phi.values))\n",
    "    mn = sn.dot(np.linalg.inv(s0).dot(m0).reshape(11,1) + b * phi.values.T.dot(t))\n",
    "    return[sn , mn]"
   ]
  },
  {
   "cell_type": "code",
   "execution_count": 66,
   "metadata": {},
   "outputs": [],
   "source": [
    "r = posterior(train.loc[: , var],target,0.1,m0,s0,b)\n",
    "r1 = r[0]"
   ]
  },
  {
   "cell_type": "markdown",
   "metadata": {
    "jupyter": {
     "outputs_hidden": true
    }
   },
   "source": [
    "#### 將資料切分成50份"
   ]
  },
  {
   "cell_type": "markdown",
   "metadata": {},
   "source": [
    "## MAP approach"
   ]
  },
  {
   "cell_type": "code",
   "execution_count": 67,
   "metadata": {},
   "outputs": [],
   "source": [
    "def Map(x, t , sigma , n ,m0, s0, b) : \n",
    "    train = x.loc[ : ,var]\n",
    "    for i in range(n-1) : \n",
    "        x = train.iloc[index[i], : ]\n",
    "        t = target.iloc[index[i], : ]\n",
    "        r = posterior(x, t, 0.1, m0, s0, b)\n",
    "        m0 = r[1]\n",
    "        s0 = r[0]\n",
    "    x = train.iloc[index[49], : ]\n",
    "    t = target.iloc[index[49], : ]\n",
    "    r = posterior(x, t, sigma, m0, s0, b)\n",
    "    return r \n",
    "        "
   ]
  },
  {
   "cell_type": "code",
   "execution_count": 68,
   "metadata": {},
   "outputs": [],
   "source": [
    "index = split(100)"
   ]
  },
  {
   "cell_type": "code",
   "execution_count": 69,
   "metadata": {},
   "outputs": [],
   "source": [
    "m0 = np.repeat(0,len(var))\n",
    "s0 = np.eye(len(var))\n",
    "b = 1 \n",
    "r = Map(train.loc[ : ,var], target , 0.2, 100, m0 , s0 , b)"
   ]
  },
  {
   "cell_type": "code",
   "execution_count": 70,
   "metadata": {},
   "outputs": [
    {
     "name": "stdout",
     "output_type": "stream",
     "text": [
      "[9.79628501]\n"
     ]
    }
   ],
   "source": [
    "n = np.repeat(1,len(train))\n",
    "phi = gaussian_bf (train.loc[ : ,var], 0.2)\n",
    "print((n.dot((phi.values.dot(r[1]) - target.values)** 2) *(1/len(train))) ** (1/2))"
   ]
  },
  {
   "cell_type": "markdown",
   "metadata": {},
   "source": [
    "## (b) ##"
   ]
  },
  {
   "cell_type": "markdown",
   "metadata": {},
   "source": [
    "測試不同的S : (0.1 ,0.2 ,0.3 ,0.4, 0.5)"
   ]
  },
  {
   "cell_type": "markdown",
   "metadata": {},
   "source": [
    "s = 0.1 "
   ]
  },
  {
   "cell_type": "code",
   "execution_count": 79,
   "metadata": {},
   "outputs": [
    {
     "name": "stdout",
     "output_type": "stream",
     "text": [
      "RMSE為10.851152076017991\n"
     ]
    }
   ],
   "source": [
    "r1 = Map(train.loc[ : ,var], target , 0.1, 100, m0 , s0 , b)\n",
    "phi_1 = gaussian_bf (train.loc[ : ,var], 0.1)\n",
    "hyper1 = float((n.dot((phi_1.values.dot(r1[1]) - target.values)** 2) *(1/len(train))) ** (1/2))\n",
    "hyper = [hyper1]\n",
    "print('RMSE為{num}'.format(num = hyper1))\n"
   ]
  },
  {
   "cell_type": "markdown",
   "metadata": {},
   "source": [
    "s = 0.2 "
   ]
  },
  {
   "cell_type": "code",
   "execution_count": 80,
   "metadata": {},
   "outputs": [
    {
     "name": "stdout",
     "output_type": "stream",
     "text": [
      "RMSE為9.796285010886661\n"
     ]
    }
   ],
   "source": [
    "r2 = Map(train.loc[ : ,var], target , 0.2, 100, m0 , s0 , b)\n",
    "phi_2 = gaussian_bf (train.loc[ : ,var], 0.2)\n",
    "hyper2 = float((n.dot((phi_2.values.dot(r2[1]) - target.values)** 2) *(1/len(train))) ** (1/2))\n",
    "hyper.append(hyper2)\n",
    "print('RMSE為{num}'.format(num = hyper2))\n"
   ]
  },
  {
   "cell_type": "markdown",
   "metadata": {},
   "source": [
    "s = 0.3 "
   ]
  },
  {
   "cell_type": "code",
   "execution_count": 81,
   "metadata": {},
   "outputs": [
    {
     "name": "stdout",
     "output_type": "stream",
     "text": [
      "RMSE為9.748188501220547\n"
     ]
    }
   ],
   "source": [
    "r3 = Map(train.loc[ : ,var], target , 0.3, 100, m0 , s0 , b)\n",
    "phi_3 = gaussian_bf (train.loc[ : ,var], 0.3)\n",
    "hyper3 = float((n.dot((phi_3.values.dot(r3[1]) - target.values)** 2) *(1/len(train))) ** (1/2))\n",
    "hyper.append(hyper3)\n",
    "print('RMSE為{num}'.format(num = hyper3))"
   ]
  },
  {
   "cell_type": "markdown",
   "metadata": {},
   "source": [
    "s = 0.4 "
   ]
  },
  {
   "cell_type": "code",
   "execution_count": 82,
   "metadata": {},
   "outputs": [
    {
     "name": "stdout",
     "output_type": "stream",
     "text": [
      "RMSE為9.784211942465895\n"
     ]
    }
   ],
   "source": [
    "r4 = Map(train.loc[ : ,var], target , 0.4, 100, m0 , s0 , b)\n",
    "phi_4 = gaussian_bf (train.loc[ : ,var], 0.4)\n",
    "hyper4 = float((n.dot((phi_4.values.dot(r4[1]) - target.values)** 2) *(1/len(train))) ** (1/2))\n",
    "hyper.append(hyper4)\n",
    "print('RMSE為{num}'.format(num = hyper4))"
   ]
  },
  {
   "cell_type": "markdown",
   "metadata": {},
   "source": [
    "s = 0.5 "
   ]
  },
  {
   "cell_type": "code",
   "execution_count": 83,
   "metadata": {},
   "outputs": [
    {
     "name": "stdout",
     "output_type": "stream",
     "text": [
      "RMSE為9.810886684446048\n"
     ]
    }
   ],
   "source": [
    "r5 = Map(train.loc[ : ,var], target , 0.5, 100, m0 , s0 , b)\n",
    "phi_5 = gaussian_bf (train.loc[ : ,var], 0.5)\n",
    "hyper5 = float((n.dot((phi_5.values.dot(r5[1]) - target.values)** 2) *(1/len(train))) ** (1/2))\n",
    "hyper.append(hyper5)\n",
    "print('RMSE為{num}'.format(num = hyper5))"
   ]
  },
  {
   "cell_type": "markdown",
   "metadata": {},
   "source": [
    "## 找出具有最小RMSE的S"
   ]
  },
  {
   "cell_type": "code",
   "execution_count": 84,
   "metadata": {},
   "outputs": [
    {
     "name": "stdout",
     "output_type": "stream",
     "text": [
      "第3組S有最小的RMSE =9.748188501220547\n"
     ]
    }
   ],
   "source": [
    "hyper = pd.DataFrame(hyper)\n",
    "hyper.columns = ['RMSE']\n",
    "print('第{num}組S有最小的RMSE ={num2}'.format(num = int(hyper[['RMSE']].idxmin())+1 ,num2 = hyper.iloc[int(hyper.idxmin()),0]))"
   ]
  },
  {
   "cell_type": "code",
   "execution_count": null,
   "metadata": {},
   "outputs": [],
   "source": []
  }
 ],
 "metadata": {
  "kernelspec": {
   "display_name": "Python 3",
   "language": "python",
   "name": "python3"
  },
  "language_info": {
   "codemirror_mode": {
    "name": "ipython",
    "version": 3
   },
   "file_extension": ".py",
   "mimetype": "text/x-python",
   "name": "python",
   "nbconvert_exporter": "python",
   "pygments_lexer": "ipython3",
   "version": "3.7.3"
  }
 },
 "nbformat": 4,
 "nbformat_minor": 4
}
