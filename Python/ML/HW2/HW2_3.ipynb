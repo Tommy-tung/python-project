{
 "cells": [
  {
   "cell_type": "markdown",
   "metadata": {},
   "source": [
    "# 3. Nonparametric Methods "
   ]
  },
  {
   "cell_type": "code",
   "execution_count": 495,
   "metadata": {},
   "outputs": [],
   "source": [
    "import pandas as pd\n",
    "import numpy as np \n",
    "import math \n",
    "import matplotlib.pyplot as plt "
   ]
  },
  {
   "cell_type": "markdown",
   "metadata": {},
   "source": [
    "## 3.1 \n",
    "### Use the class with the largest number of occurrences for those K closest training samples to test sample as the prediction of this test sample."
   ]
  },
  {
   "cell_type": "code",
   "execution_count": 497,
   "metadata": {},
   "outputs": [],
   "source": [
    "poke = pd.read_csv('Pokemon.csv').iloc[ : , 1 :  ]\n",
    "poke.iloc[ : , 2:] = poke.iloc[ : , 2 : ].apply(lambda x : (x-x.mean())/x.std())"
   ]
  },
  {
   "cell_type": "code",
   "execution_count": 498,
   "metadata": {},
   "outputs": [],
   "source": [
    "train_poke = poke.iloc[ : 120, :]\n",
    "test_poke = poke.iloc[120: , : ]"
   ]
  },
  {
   "cell_type": "markdown",
   "metadata": {},
   "source": [
    "### 定義距離函數（拿掉了非數值的資料以及generation）"
   ]
  },
  {
   "cell_type": "code",
   "execution_count": 499,
   "metadata": {},
   "outputs": [],
   "source": [
    "def eucl_dist(row1 , row2) : \n",
    "    a = np.array(row1.iloc[: , : ])  \n",
    "    b = np.array(row2.iloc[: , : ])\n",
    "    distance = np.sum((a-b) ** 2)\n",
    "    return math.sqrt(distance)"
   ]
  },
  {
   "cell_type": "code",
   "execution_count": 500,
   "metadata": {},
   "outputs": [
    {
     "data": {
      "text/plain": [
       "3.876190219017044"
      ]
     },
     "execution_count": 500,
     "metadata": {},
     "output_type": "execute_result"
    }
   ],
   "source": [
    "eucl_dist(train_poke.iloc[1:2,2:], test_poke.iloc[3:4, 2:])"
   ]
  },
  {
   "cell_type": "code",
   "execution_count": 540,
   "metadata": {},
   "outputs": [],
   "source": [
    "def takeSecond(elem):\n",
    "    return elem[1]\n",
    "\n",
    "def get_neighbors(train, test_flow, k) : \n",
    "    cal_a = list()\n",
    "    for j in range(len(train)) : \n",
    "        a = eucl_dist(train.iloc[j:j+1,:], test_flow)\n",
    "        cal_a.append((train_poke.loc[j, 'Type 1'] , a))\n",
    "    cal_a.sort(key = takeSecond)\n",
    "    return cal_a[ : k] \n",
    "\n",
    "def predict(train, test, k) : \n",
    "    pred = list()\n",
    "    for i in range(len(test)) : \n",
    "        test_flow = test.iloc[i : i+1, : ]\n",
    "        cal = get_neighbors(train, test_flow, k)\n",
    "        output_values = [row[0] for row in cal]\n",
    "        prediction = max(set(output_values), key=output_values.count)\n",
    "        pred.append(prediction)\n",
    "    return pred \n",
    "        \n",
    "def predict_1(train, test, k) : \n",
    "    pred = list()\n",
    "    for i in range(len(test)) : \n",
    "        test_flow = test.iloc[i : i+1, : ]\n",
    "        cal = get_neighbors(train, test_flow, k)\n",
    "        output_values = [row[0] for row in cal]\n",
    "        prediction = max(set(output_values), key=output_values.count)\n",
    "        category = set(poke.loc[ : , 'Type 1'])\n",
    "        category.remove(prediction)\n",
    "        check = list(category)\n",
    "        a = output_values.count(check[0])\n",
    "        b = output_values.count(check[1])\n",
    "        k_new = k\n",
    "        while a == output_values.count(prediction) or b == output_values.count(prediction) : \n",
    "            k_new -= 1\n",
    "            cal = get_neighbors(train, test_flow, k_new)\n",
    "            output_values = [row[0] for row in cal]\n",
    "            prediction = max(set(output_values), key=output_values.count)\n",
    "            category = set(poke.loc[ : , 'Type 1'])\n",
    "            category.remove(prediction)\n",
    "            check = list(category)\n",
    "            a = output_values.count(check[0])\n",
    "            b = output_values.count(check[1])\n",
    "            print(k_new)\n",
    "        else : \n",
    "            pred.append(prediction)\n",
    "    return pred "
   ]
  },
  {
   "cell_type": "code",
   "execution_count": 504,
   "metadata": {},
   "outputs": [],
   "source": [
    "correct = list()\n",
    "for i in range(1,11) : \n",
    "    table = pd.DataFrame(predict(train_poke.iloc[:, 2:], test_poke.iloc[:, 2:], i), index = None)\n",
    "    table = pd.concat([test_poke.iloc[:, 1:2].reset_index(drop = True),table], ignore_index= True, axis= 1)\n",
    "    table['correct'] = np.where(table[0] == table[1], 1,0)\n",
    "    a = table['correct'].sum() / 38\n",
    "    correct.append(a)"
   ]
  },
  {
   "cell_type": "code",
   "execution_count": 505,
   "metadata": {},
   "outputs": [
    {
     "data": {
      "text/plain": [
       "[<matplotlib.lines.Line2D at 0x1a3cc12400>]"
      ]
     },
     "execution_count": 505,
     "metadata": {},
     "output_type": "execute_result"
    },
    {
     "data": {
      "image/png": "[encoded data removed]",
      "text/plain": [
       "<Figure size 432x288 with 1 Axes>"
      ]
     },
     "metadata": {
      "needs_background": "light"
     },
     "output_type": "display_data"
    }
   ],
   "source": [
    "plt.title('KNN Accuracy')\n",
    "plt.xlabel('K')\n",
    "plt.ylabel('accuracy')\n",
    "plt.plot(range(1,11),correct)"
   ]
  },
  {
   "cell_type": "code",
   "execution_count": 506,
   "metadata": {
    "collapsed": true,
    "jupyter": {
     "outputs_hidden": true
    }
   },
   "outputs": [
    {
     "name": "stdout",
     "output_type": "stream",
     "text": [
      "1\n",
      "1\n",
      "1\n",
      "1\n",
      "1\n",
      "1\n",
      "1\n",
      "1\n",
      "1\n",
      "1\n",
      "1\n",
      "1\n",
      "1\n",
      "1\n",
      "1\n",
      "1\n",
      "1\n",
      "1\n",
      "1\n",
      "1\n",
      "2\n",
      "1\n",
      "2\n",
      "1\n",
      "2\n",
      "1\n",
      "2\n",
      "1\n",
      "2\n",
      "1\n",
      "2\n",
      "1\n",
      "2\n",
      "1\n",
      "3\n",
      "3\n",
      "3\n",
      "3\n",
      "3\n",
      "3\n",
      "3\n",
      "3\n",
      "3\n",
      "3\n",
      "4\n",
      "4\n",
      "3\n",
      "4\n",
      "4\n",
      "3\n",
      "4\n",
      "4\n",
      "3\n",
      "4\n",
      "5\n",
      "5\n",
      "4\n",
      "5\n",
      "4\n",
      "3\n",
      "5\n",
      "5\n",
      "6\n",
      "5\n",
      "6\n",
      "6\n",
      "7\n",
      "7\n",
      "7\n",
      "7\n",
      "6\n",
      "7\n",
      "7\n",
      "8\n",
      "8\n",
      "7\n",
      "8\n",
      "8\n",
      "7\n",
      "9\n",
      "9\n",
      "9\n",
      "9\n",
      "8\n",
      "7\n"
     ]
    },
    {
     "data": {
      "text/plain": [
       "[<matplotlib.lines.Line2D at 0x1a3e427cc0>]"
      ]
     },
     "execution_count": 506,
     "metadata": {},
     "output_type": "execute_result"
    },
    {
     "data": {
      "image/png": "[encoded data removed]",
      "text/plain": [
       "<Figure size 432x288 with 1 Axes>"
      ]
     },
     "metadata": {
      "needs_background": "light"
     },
     "output_type": "display_data"
    }
   ],
   "source": [
    "correct = list()\n",
    "for i in range(1,11) : \n",
    "    table = pd.DataFrame(predict_1(train_poke.iloc[:, 2:], test_poke.iloc[:, 2:], i), index = None)\n",
    "    table = pd.concat([test_poke.iloc[:, 1:2].reset_index(drop = True),table], ignore_index= True, axis= 1)\n",
    "    table['correct'] = np.where(table[0] == table[1], 1,0)\n",
    "    a = table['correct'].sum() / 38\n",
    "    correct.append(a)\n",
    "plt.title('KNN Accuracy')\n",
    "plt.xlabel('K')\n",
    "plt.ylabel('accuracy')\n",
    "plt.plot(range(1,11),correct)"
   ]
  },
  {
   "cell_type": "markdown",
   "metadata": {},
   "source": [
    "# 3.2 KNN with PCA "
   ]
  },
  {
   "cell_type": "code",
   "execution_count": 541,
   "metadata": {},
   "outputs": [],
   "source": [
    "train_poke_pca = train_poke.iloc[ :, 2: ]\n",
    "test_poke_pca = test_poke.iloc[ : , 2: ]\n",
    "cov_poke = np.cov(train_poke_pca.T)\n"
   ]
  },
  {
   "cell_type": "code",
   "execution_count": 542,
   "metadata": {},
   "outputs": [],
   "source": [
    "eig_val_poke, eig_vec_poke = np.linalg.eig(cov_poke)"
   ]
  },
  {
   "cell_type": "code",
   "execution_count": 543,
   "metadata": {},
   "outputs": [],
   "source": [
    "eig_pairs_poke = [(np.abs(eig_val_poke[i]), eig_vec_poke[:,i]) for i in range(len(eig_val_poke))]\n",
    "eig_pairs_poke.sort(key=lambda x: x[0], reverse=True)"
   ]
  },
  {
   "cell_type": "code",
   "execution_count": 544,
   "metadata": {},
   "outputs": [],
   "source": [
    "def eigenvector(eig_pairs, d) : \n",
    "    w_pca = np.array([])\n",
    "    for i in range(d) : \n",
    "        print(eig_pairs[i][0])\n",
    "        w_pca = np.append(w_pca,eig_pairs[i][1])\n",
    "    w_pca = np.array(w_pca.reshape(d, -1).T, dtype = 'float32')\n",
    "    return w_pca"
   ]
  },
  {
   "cell_type": "markdown",
   "metadata": {},
   "source": [
    "### D = 7"
   ]
  },
  {
   "cell_type": "code",
   "execution_count": 552,
   "metadata": {},
   "outputs": [
    {
     "name": "stdout",
     "output_type": "stream",
     "text": [
      "4.0350371714807\n",
      "1.3724669006330599\n",
      "1.0008859850076175\n",
      "0.8833367493344931\n",
      "0.6126682788417983\n",
      "0.5420393223806452\n",
      "0.4759986135339845\n"
     ]
    }
   ],
   "source": [
    "poke_pca = eigenvector(eig_pairs_poke,7)"
   ]
  },
  {
   "cell_type": "markdown",
   "metadata": {},
   "source": [
    "### 將train和test透過我們找出的pca降維"
   ]
  },
  {
   "cell_type": "code",
   "execution_count": 553,
   "metadata": {},
   "outputs": [],
   "source": [
    "train_pca = train_poke_pca @ poke_pca\n",
    "test_pca = test_poke_pca @ poke_pca"
   ]
  },
  {
   "cell_type": "code",
   "execution_count": 554,
   "metadata": {},
   "outputs": [],
   "source": [
    "correct_pca = list()\n",
    "for i in range(1,11) : \n",
    "    table = pd.DataFrame(predict(train_pca, test_pca, i), index = None)\n",
    "    table = pd.concat([test_poke.iloc[:, 1:2].reset_index(drop = True),table], ignore_index= True, axis= 1)\n",
    "    table['correct'] = np.where(table[0] == table[1], 1,0)\n",
    "    a = table['correct'].sum() / 38\n",
    "    correct_pca.append(a)"
   ]
  },
  {
   "cell_type": "code",
   "execution_count": 555,
   "metadata": {},
   "outputs": [
    {
     "data": {
      "text/plain": [
       "[<matplotlib.lines.Line2D at 0x1a3fc06208>]"
      ]
     },
     "execution_count": 555,
     "metadata": {},
     "output_type": "execute_result"
    },
    {
     "data": {
      "image/png": "[encoded data removed]",
      "text/plain": [
       "<Figure size 432x288 with 1 Axes>"
      ]
     },
     "metadata": {
      "needs_background": "light"
     },
     "output_type": "display_data"
    }
   ],
   "source": [
    "plt.title('KNN Accuracy')\n",
    "plt.xlabel('K')\n",
    "plt.ylabel('accuracy')\n",
    "plt.plot(range(1,11),correct_pca)"
   ]
  },
  {
   "cell_type": "markdown",
   "metadata": {},
   "source": [
    "### D = 6 "
   ]
  },
  {
   "cell_type": "code",
   "execution_count": 556,
   "metadata": {},
   "outputs": [
    {
     "name": "stdout",
     "output_type": "stream",
     "text": [
      "4.0350371714807\n",
      "1.3724669006330599\n",
      "1.0008859850076175\n",
      "0.8833367493344931\n",
      "0.6126682788417983\n",
      "0.5420393223806452\n"
     ]
    }
   ],
   "source": [
    "poke_pca = eigenvector(eig_pairs_poke,6)"
   ]
  },
  {
   "cell_type": "code",
   "execution_count": 557,
   "metadata": {},
   "outputs": [],
   "source": [
    "train_pca = train_poke_pca @ poke_pca\n",
    "test_pca = test_poke_pca @ poke_pca"
   ]
  },
  {
   "cell_type": "code",
   "execution_count": 558,
   "metadata": {},
   "outputs": [],
   "source": [
    "correct_pca = list()\n",
    "for i in range(1,11) : \n",
    "    table = pd.DataFrame(predict(train_pca, test_pca, i), index = None)\n",
    "    table = pd.concat([test_poke.iloc[:, 1:2].reset_index(drop = True),table], ignore_index= True, axis= 1)\n",
    "    table['correct'] = np.where(table[0] == table[1], 1,0)\n",
    "    a = table['correct'].sum() / 38\n",
    "    correct_pca.append(a)"
   ]
  },
  {
   "cell_type": "code",
   "execution_count": 559,
   "metadata": {},
   "outputs": [
    {
     "data": {
      "text/plain": [
       "[<matplotlib.lines.Line2D at 0x1a3fe4b860>]"
      ]
     },
     "execution_count": 559,
     "metadata": {},
     "output_type": "execute_result"
    },
    {
     "data": {
      "image/png": "[encoded data removed]",
      "text/plain": [
       "<Figure size 432x288 with 1 Axes>"
      ]
     },
     "metadata": {
      "needs_background": "light"
     },
     "output_type": "display_data"
    }
   ],
   "source": [
    "plt.title('KNN Accuracy')\n",
    "plt.xlabel('K')\n",
    "plt.ylabel('accuracy')\n",
    "plt.plot(range(1,11),correct_pca)"
   ]
  },
  {
   "cell_type": "markdown",
   "metadata": {},
   "source": [
    "### D = 5 "
   ]
  },
  {
   "cell_type": "code",
   "execution_count": 560,
   "metadata": {},
   "outputs": [
    {
     "name": "stdout",
     "output_type": "stream",
     "text": [
      "4.0350371714807\n",
      "1.3724669006330599\n",
      "1.0008859850076175\n",
      "0.8833367493344931\n",
      "0.6126682788417983\n"
     ]
    }
   ],
   "source": [
    "poke_pca = eigenvector(eig_pairs_poke,5)"
   ]
  },
  {
   "cell_type": "code",
   "execution_count": 561,
   "metadata": {},
   "outputs": [],
   "source": [
    "train_pca = train_poke_pca @ poke_pca\n",
    "test_pca = test_poke_pca @ poke_pca"
   ]
  },
  {
   "cell_type": "code",
   "execution_count": 562,
   "metadata": {},
   "outputs": [],
   "source": [
    "correct_pca = list()\n",
    "for i in range(1,11) : \n",
    "    table = pd.DataFrame(predict(train_pca, test_pca, i), index = None)\n",
    "    table = pd.concat([test_poke.iloc[:, 1:2].reset_index(drop = True),table], ignore_index= True, axis= 1)\n",
    "    table['correct'] = np.where(table[0] == table[1], 1,0)\n",
    "    a = table['correct'].sum() / 38\n",
    "    correct_pca.append(a)"
   ]
  },
  {
   "cell_type": "code",
   "execution_count": 563,
   "metadata": {},
   "outputs": [
    {
     "data": {
      "text/plain": [
       "[<matplotlib.lines.Line2D at 0x1a400973c8>]"
      ]
     },
     "execution_count": 563,
     "metadata": {},
     "output_type": "execute_result"
    },
    {
     "data": {
      "image/png": "[encoded data removed]",
      "text/plain": [
       "<Figure size 432x288 with 1 Axes>"
      ]
     },
     "metadata": {
      "needs_background": "light"
     },
     "output_type": "display_data"
    }
   ],
   "source": [
    "plt.title('KNN Accuracy')\n",
    "plt.xlabel('K')\n",
    "plt.ylabel('accuracy')\n",
    "plt.plot(range(1,11),correct_pca)"
   ]
  }
 ],
 "metadata": {
  "kernelspec": {
   "display_name": "Python 3",
   "language": "python",
   "name": "python3"
  },
  "language_info": {
   "codemirror_mode": {
    "name": "ipython",
    "version": 3
   },
   "file_extension": ".py",
   "mimetype": "text/x-python",
   "name": "python",
   "nbconvert_exporter": "python",
   "pygments_lexer": "ipython3",
   "version": "3.7.3"
  }
 },
 "nbformat": 4,
 "nbformat_minor": 4
}
