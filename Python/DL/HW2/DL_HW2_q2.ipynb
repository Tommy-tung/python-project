{
 "cells": [
  {
   "cell_type": "code",
   "execution_count": 1,
   "metadata": {},
   "outputs": [],
   "source": [
    "import numpy as np\n",
    "import matplotlib.pyplot as plt\n",
    "import random\n",
    "import stackprinter\n",
    "import seaborn as sns\n",
    "from itertools import chain\n",
    "import os\n",
    "from PIL import Image\n",
    "import torchvision\n",
    "from torchvision.utils import save_image\n",
    "import torch\n",
    "import torch.nn as nn\n",
    "import torch.nn.functional as F\n",
    "from torch.autograd import Variable\n",
    "from sklearn.metrics import confusion_matrix\n",
    "stackprinter.set_excepthook(style='darkbg2')"
   ]
  },
  {
   "cell_type": "code",
   "execution_count": 3,
   "metadata": {},
   "outputs": [],
   "source": [
    "mypath = '/Users/tommy84729/Coding/DL/ＨＷ2/data'\n",
    "fileList = os.listdir(mypath)\n",
    "fileList.remove('.DS_Store')"
   ]
  },
  {
   "cell_type": "markdown",
   "metadata": {},
   "source": [
    "## data pre-processing"
   ]
  },
  {
   "cell_type": "code",
   "execution_count": 4,
   "metadata": {},
   "outputs": [],
   "source": [
    "def data_preprocessing(mypath,filelist, height, width) : \n",
    "    data = []\n",
    "    for i in range(len(filelist)) : \n",
    "        path_=os.path.join(mypath,fileList[i])\n",
    "        img = Image.open(path_).convert(\"RGB\").resize((height,width))\n",
    "        a = np.transpose(np.array(img)).astype(np.float32)/255\n",
    "        data.append(a)\n",
    "        if (i+1)%1000 == 0 : \n",
    "            print(i)\n",
    "    return data"
   ]
  },
  {
   "cell_type": "code",
   "execution_count": 5,
   "metadata": {},
   "outputs": [
    {
     "name": "stdout",
     "output_type": "stream",
     "text": [
      "999\n",
      "1999\n",
      "2999\n",
      "3999\n",
      "4999\n",
      "5999\n",
      "6999\n",
      "7999\n",
      "8999\n",
      "9999\n",
      "10999\n",
      "11999\n",
      "12999\n",
      "13999\n",
      "14999\n",
      "15999\n",
      "16999\n",
      "17999\n",
      "18999\n",
      "19999\n",
      "20999\n"
     ]
    }
   ],
   "source": [
    "height = 28\n",
    "width = 28\n",
    "data = data_preprocessing(mypath, fileList, height, width)"
   ]
  },
  {
   "cell_type": "code",
   "execution_count": 7,
   "metadata": {},
   "outputs": [],
   "source": [
    "np.savez('/Users/tommy84729/coding/DL/ＨＷ2/data.npz', data = data)"
   ]
  },
  {
   "cell_type": "code",
   "execution_count": null,
   "metadata": {},
   "outputs": [],
   "source": [
    "_,ax = plt.subplots(8,8, figsize = (8,8)) \n",
    "for i in range(8):\n",
    "    for j in range(8):\n",
    "        ax[i,j].imshow(data[8*i+j])\n",
    "        ax[i,j].axis('off')\n",
    "plt.show()"
   ]
  },
  {
   "cell_type": "code",
   "execution_count": 96,
   "metadata": {},
   "outputs": [],
   "source": [
    "batch_size = 64\n",
    "data = np.array(data)\n",
    "feature_train = torch.from_numpy(data)\n",
    "train = torch.utils.data.TensorDataset(feature_train)\n",
    "train_loader = torch.utils.data.DataLoader(train, batch_size = batch_size, shuffle = True)"
   ]
  },
  {
   "cell_type": "markdown",
   "metadata": {},
   "source": [
    "## Model"
   ]
  },
  {
   "cell_type": "code",
   "execution_count": 57,
   "metadata": {},
   "outputs": [],
   "source": [
    "image_size =  height * width\n",
    "h_dim = 400\n",
    "z_dim = 20\n",
    "epoch = 10\n",
    "learning_rate = 1e-3\n",
    "device = torch.device('cuda' if torch.cuda.is_available() else 'cpu')\n"
   ]
  },
  {
   "cell_type": "code",
   "execution_count": 97,
   "metadata": {},
   "outputs": [],
   "source": [
    "class VAE(nn.Module) : \n",
    "    def __init__(self, image_size = image_size , h_dim = h_dim , z_dim = z_dim) : \n",
    "        super(VAE, self).__init__()\n",
    "        self.fc1 = nn.Linear(image_size, h_dim)\n",
    "        self.fc2 = nn.Linear(h_dim, z_dim)\n",
    "        self.fc3 = nn.Linear(h_dim, z_dim)\n",
    "        self.fc4 = nn.Linear(z_dim, h_dim)\n",
    "        self.fc5 = nn.Linear(h_dim, image_size)\n",
    "        \n",
    "    def encode(self, x) : \n",
    "        h = F.relu(self.fc1(x))\n",
    "        return self.fc2(h), self.fc3(h)\n",
    "    \n",
    "    def reparameterize(self, mu, log_var) : \n",
    "        std = torch.exp(log_var/2)\n",
    "        eps = torch.randn_like(std)\n",
    "        \n",
    "        return(mu + eps*std)\n",
    "    \n",
    "    def decode(self, z) : \n",
    "        h = F.relu(self.fc4(z))\n",
    "        return F.sigmoid(self.fc5(h))\n",
    "    \n",
    "    def forward(self, x) : \n",
    "        mu, log_var = self.encode(x)\n",
    "        z = self.reparameterize(mu, log_var)\n",
    "        x_reconst = self.decode(z)\n",
    "        return mu, log_var , x_reconst"
   ]
  },
  {
   "cell_type": "code",
   "execution_count": 98,
   "metadata": {},
   "outputs": [],
   "source": [
    "model = VAE().to(device).float()\n",
    "optimizer = torch.optim.Adam(model.parameters(), lr=learning_rate)"
   ]
  },
  {
   "cell_type": "markdown",
   "metadata": {},
   "source": [
    "## Train"
   ]
  },
  {
   "cell_type": "code",
   "execution_count": 99,
   "metadata": {},
   "outputs": [
    {
     "name": "stdout",
     "output_type": "stream",
     "text": [
      "epoch: 10/10\r"
     ]
    }
   ],
   "source": [
    "total_loss = []\n",
    "for i in range(epoch):\n",
    "    running_loss = 0\n",
    "    for  x in train_loader:\n",
    "        # Forward pass\n",
    "        x = x[0].to(device).view(-1, image_size)\n",
    "        mu,log_var, x_reconst = model(x.float())\n",
    "        reconst_loss = F.binary_cross_entropy(x_reconst, x.float(), size_average=False)\n",
    "        kl_div = - 0.5 * torch.sum(1 + log_var - mu.pow(2) - log_var.exp())\n",
    "        loss = reconst_loss + kl_div.item()\n",
    "        running_loss += loss\n",
    "        optimizer.zero_grad()\n",
    "        loss.backward()\n",
    "        optimizer.step()\n",
    "    total_loss.append(running_loss)\n",
    "    print(f'epoch: {i+1}/{epoch}', end = '\\r')\n",
    "        "
   ]
  },
  {
   "cell_type": "code",
   "execution_count": 100,
   "metadata": {},
   "outputs": [
    {
     "data": {
      "text/plain": [
       "[<matplotlib.lines.Line2D at 0x1a5f78b630>]"
      ]
     },
     "execution_count": 100,
     "metadata": {},
     "output_type": "execute_result"
    },
    {
     "data": {
      "image/png": "[encoded data removed]",
      "text/plain": [
       "<Figure size 432x288 with 1 Axes>"
      ]
     },
     "metadata": {
      "needs_background": "light"
     },
     "output_type": "display_data"
    }
   ],
   "source": [
    "plt.plot(total_loss)"
   ]
  },
  {
   "cell_type": "markdown",
   "metadata": {},
   "source": [
    "## sample "
   ]
  },
  {
   "cell_type": "code",
   "execution_count": 103,
   "metadata": {},
   "outputs": [],
   "source": [
    "with torch.no_grad():\n",
    "  # Save the sampled images\n",
    "    z = torch.randn(1,batch_size, z_dim).to(device)\n",
    "    out = model.decode(z).view(-1, 3, height, width)\n",
    "    save_image(out, os.path.join('/Users/tommy84729/python/DL/ＨＷ2','sampled-{}.png'.format(epoch+1)))"
   ]
  },
  {
   "cell_type": "code",
   "execution_count": 104,
   "metadata": {},
   "outputs": [
    {
     "data": {
      "image/png": "[encoded data removed]",
      "text/plain": [
       "<PIL.Image.Image image mode=RGB size=28x3 at 0x1A42BE7320>"
      ]
     },
     "execution_count": 104,
     "metadata": {},
     "output_type": "execute_result"
    }
   ],
   "source": [
    "Image.fromarray(np.transpose(data[1])*255, 'RGB')"
   ]
  },
  {
   "cell_type": "code",
   "execution_count": 105,
   "metadata": {
    "collapsed": true,
    "jupyter": {
     "outputs_hidden": true
    }
   },
   "outputs": [
    {
     "ename": "RuntimeError",
     "evalue": "size mismatch, m1: [3948 x 28], m2: [2352 x 400] at ../aten/src/TH/generic/THTensorMath.cpp:41",
     "output_type": "error",
     "traceback": [
      "\u001b[38;5;145mFile /Library/anaconda3/lib/python3.7/site-packages/IPython/core/\u001b[0m\u001b[1;38;5;231minteractiveshell.py\u001b[0m\u001b[38;5;145m, line 3325, in run_code\n\u001b[0m    \u001b[38;5;188m\u001b[0m\u001b[38;5;188mexec\u001b[0m\u001b[1;38;5;188m(\u001b[0m\u001b[38;5;188mcode_obj\u001b[0m\u001b[1;38;5;188m,\u001b[0m\u001b[38;5;188m \u001b[0m\u001b[38;5;188mself.user_global_ns\u001b[0m\u001b[1;38;5;188m,\u001b[0m\u001b[38;5;188m \u001b[0m\u001b[38;5;188mself.user_ns\u001b[0m\u001b[1;38;5;188m)\u001b[0m\u001b[38;5;188m\n\u001b[0m\u001b[38;5;145mFile \u001b[0m\u001b[1;38;5;231m<ipython-input-105-efff6ab889e5>\u001b[0m\u001b[38;5;145m, line 1, in <module>\n\u001b[0m\u001b[1;38;5;188m--> 1    \u001b[1;38;5;148m_\u001b[0m\u001b[38;5;188m \u001b[0m\u001b[1;38;5;188m,\u001b[0m\u001b[38;5;188m \u001b[0m\u001b[1;38;5;148m_\u001b[0m\u001b[38;5;188m \u001b[0m\u001b[1;38;5;188m,\u001b[0m\u001b[38;5;188m \u001b[0m\u001b[1;38;5;44mout\u001b[0m\u001b[38;5;188m \u001b[0m\u001b[1;38;5;188m=\u001b[0m\u001b[38;5;188m \u001b[0m\u001b[1;38;5;20mmodel\u001b[0m\u001b[1;38;5;188m(\u001b[0m\u001b[38;5;188mx.float\u001b[0m\u001b[1;38;5;188m(\u001b[0m\u001b[1;38;5;188m)\u001b[0m\u001b[1;38;5;188m)\u001b[0m\u001b[38;5;188m\n\u001b[0m\u001b[0m\u001b[1;38;5;59m    2    \u001b[1;38;5;44mout\u001b[0m\u001b[38;5;188m \u001b[0m\u001b[1;38;5;188m=\u001b[0m\u001b[38;5;188m \u001b[0m\u001b[38;5;188mout.view\u001b[0m\u001b[1;38;5;188m(\u001b[0m\u001b[1;38;5;188m-\u001b[0m\u001b[38;5;188m1\u001b[0m\u001b[1;38;5;188m,\u001b[0m\u001b[38;5;188m 3\u001b[0m\u001b[1;38;5;188m,\u001b[0m\u001b[38;5;188m 28\u001b[0m\u001b[1;38;5;188m,\u001b[0m\u001b[38;5;188m 28\u001b[0m\u001b[1;38;5;188m)\u001b[0m\u001b[1;38;5;188m.\u001b[0m\u001b[38;5;188mfloat\u001b[0m\u001b[1;38;5;188m(\u001b[0m\u001b[1;38;5;188m)\u001b[0m\u001b[38;5;188m\n\u001b[0m\u001b[0m\u001b[38;5;102m    ..................................................\u001b[0m\n\u001b[1;38;5;148m     _ = tensor([[-13.7474, -22.8047, -21.0376, -21.1729, -19.6787, -\n          20.0767, -15.9335,\n                  -17.8336, -22.6897, -16.1117, -21.2702, -24.6458, -\n          22.1293, -20.4836,\n                  -15.0203, -20.8876, -21.4938, -19.1705, -22.1598, -\n          11.5195],\n                 [-12.2797, -19.7853, -19.3934, -21.1498, -16.6041, -\n          18.3339, -13.4736,\n                  -16.6207, -19.2721, -15.4060, -19.3207, -19.4123, -\n          19.6210, -17.7877,\n                  -14.4506, -17.6162, -18.9175, -17.8186, -20.1002, -\n          10.9796],\n                 [-13.3836, -22.1643, -20.5568, -21.2...\n\u001b[0m\u001b[1;38;5;44m     out = tensor([[[[0.6661, 0.6578, 0.8128,  ..., 0.3227, 0.5322, 0.3\n            156],\n                     [0.4023, 0.5845, 0.3102,  ..., 0.6339, 0.2895, 0.4\n            230],\n                     [0.6041, 0.2442, 0.3608,  ..., 0.4298, 0.4333, 0.5\n            336],\n                     ...,\n                     [0.2284, 0.3364, 0.2573,  ..., 0.2191, 0.3047, 0.2\n            637],\n                     [0.3430, 0.2078, 0.1704,  ..., 0.1767, 0.1724, 0.3\n            288],\n                     [0.2840, 0.3758, 0.5548,  ..., 0.2594, 0.2867, 0.4\n            627]],\n           \n                    [[0.3304, 0.3150, 0.4087,  ..., 0.2912, 0.5367, 0.4\n            542],\n                     [0.5423, 0....\n\u001b[0m\u001b[1;38;5;20m     model = VAE(\n               (fc1): Linear(in_features=2352, out_features=400, bias=Tru\n              e)\n               (fc2): Linear(in_features=400, out_features=20, bias=True)\n               (fc3): Linear(in_features=400, out_features=20, bias=True)\n               (fc4): Linear(in_features=20, out_features=400, bias=True)\n               (fc5): Linear(in_features=400, out_features=2352, bias=Tru\n              e)\n             )\n\u001b[0m\u001b[38;5;102m    ..................................................\u001b[0m\n\n\u001b[38;5;145mFile /Library/anaconda3/lib/python3.7/site-packages/torch/nn/modules/\u001b[0m\u001b[1;38;5;231mmodule.py\u001b[0m\u001b[38;5;145m, line 550, in __call__\n\u001b[0m\u001b[1;38;5;59m    540  \u001b[38;5;188m\u001b[0m\u001b[1;38;5;188mdef\u001b[0m\u001b[38;5;188m \u001b[0m\u001b[38;5;188m__call__\u001b[0m\u001b[1;38;5;188m(\u001b[0m\u001b[38;5;20mself\u001b[0m\u001b[1;38;5;188m,\u001b[0m\u001b[38;5;188m \u001b[0m\u001b[1;38;5;188m*\u001b[0m\u001b[1;38;5;76minput\u001b[0m\u001b[1;38;5;188m,\u001b[0m\u001b[38;5;188m \u001b[0m\u001b[1;38;5;188m**\u001b[0m\u001b[1;38;5;44mkwargs\u001b[0m\u001b[1;38;5;188m)\u001b[0m\u001b[1;38;5;188m:\u001b[0m\u001b[38;5;188m\n\u001b[0m\u001b[0m\u001b[38;5;102m (...)\n\u001b[0m\u001b[1;38;5;59m    546  \u001b[38;5;188m            \u001b[0m\u001b[1;38;5;76minput\u001b[0m\u001b[38;5;188m \u001b[0m\u001b[1;38;5;188m=\u001b[0m\u001b[38;5;188m \u001b[0m\u001b[38;5;188mresult\u001b[0m\u001b[38;5;188m\n\u001b[0m\u001b[0m\u001b[1;38;5;59m    547  \u001b[38;5;188m    \u001b[0m\u001b[1;38;5;188mif\u001b[0m\u001b[38;5;188m \u001b[0m\u001b[38;5;188mtorch._C._get_tracing_state\u001b[0m\u001b[1;38;5;188m(\u001b[0m\u001b[1;38;5;188m)\u001b[0m\u001b[1;38;5;188m:\u001b[0m\u001b[38;5;188m\n\u001b[0m\u001b[0m\u001b[1;38;5;59m    548  \u001b[38;5;188m        \u001b[0m\u001b[38;5;188mresult\u001b[0m\u001b[38;5;188m \u001b[0m\u001b[1;38;5;188m=\u001b[0m\u001b[38;5;188m \u001b[0m\u001b[38;5;184mself._slow_forward\u001b[0m\u001b[1;38;5;188m(\u001b[0m\u001b[1;38;5;188m*\u001b[0m\u001b[1;38;5;76minput\u001b[0m\u001b[1;38;5;188m,\u001b[0m\u001b[38;5;188m \u001b[0m\u001b[1;38;5;188m**\u001b[0m\u001b[1;38;5;44mkwargs\u001b[0m\u001b[1;38;5;188m)\u001b[0m\u001b[38;5;188m\n\u001b[0m\u001b[0m\u001b[1;38;5;59m    549  \u001b[38;5;188m    \u001b[0m\u001b[1;38;5;188melse\u001b[0m\u001b[1;38;5;188m:\u001b[0m\u001b[38;5;188m\n\u001b[0m\u001b[0m\u001b[1;38;5;188m--> 550  \u001b[38;5;188m        \u001b[0m\u001b[38;5;188mresult\u001b[0m\u001b[38;5;188m \u001b[0m\u001b[1;38;5;188m=\u001b[0m\u001b[38;5;188m \u001b[0m\u001b[1;38;5;32mself.forward\u001b[0m\u001b[1;38;5;188m(\u001b[0m\u001b[1;38;5;188m*\u001b[0m\u001b[1;38;5;76minput\u001b[0m\u001b[1;38;5;188m,\u001b[0m\u001b[38;5;188m \u001b[0m\u001b[1;38;5;188m**\u001b[0m\u001b[1;38;5;44mkwargs\u001b[0m\u001b[1;38;5;188m)\u001b[0m\u001b[38;5;188m\n\u001b[0m\u001b[0m\u001b[1;38;5;59m    551  \u001b[38;5;188m    \u001b[0m\u001b[1;38;5;188mfor\u001b[0m\u001b[38;5;188m \u001b[0m\u001b[38;5;188mhook\u001b[0m\u001b[38;5;188m \u001b[0m\u001b[1;38;5;188min\u001b[0m\u001b[38;5;188m \u001b[0m\u001b[38;5;188mself._forward_hooks.values\u001b[0m\u001b[1;38;5;188m(\u001b[0m\u001b[1;38;5;188m)\u001b[0m\u001b[1;38;5;188m:\u001b[0m\u001b[38;5;188m\n\u001b[0m\u001b[0m\u001b[38;5;102m    ..................................................\u001b[0m\n\u001b[38;5;20m     self = VAE(\n              (fc1): Linear(in_features=2352, out_features=400, bias=Tru\n             e)\n              (fc2): Linear(in_features=400, out_features=20, bias=True)\n              (fc3): Linear(in_features=400, out_features=20, bias=True)\n              (fc4): Linear(in_features=20, out_features=400, bias=True)\n              (fc5): Linear(in_features=400, out_features=2352, bias=Tru\n             e)\n            )\n\u001b[0m\u001b[1;38;5;76m     input = (\n              tensor([[[[0.7098, 0.3176, 0.6549,  ..., 0.2314, 0.4588, 0.\n              2941],\n                        [0.0392, 0.2471, 0.4706,  ..., 0.5608, 0.5020, 0.\n              1451],\n                        [0.3255, 0.9961, 0.6431,  ..., 0.4314, 0.1294, 0.\n              3490],\n                        ...,\n                        [1.0000, 0.9137, 0.9922,  ..., 0.6314, 1.0000, 0.\n              8275],\n                        [0.7098, 0.7647, 0.5647,  ..., 0.6784, 0.3176, 0.\n              6353],\n                        [1.0000, 0.6000, 0.5961,  ..., 0.1490, 0.3255, 0.\n              4118]],\n              \n                       [[0.1059, 0.4196, 0.3686,  ..., 0.7412, 0.9451, 0.\n              7686],...\n\u001b[0m\u001b[1;38;5;44m     kwargs = {}\n\u001b[0m\u001b[38;5;184m     self._slow_forward = <method 'Module._slow_forward' of VAE(\n                            (fc1): Linear(in_features=2352, out_features=400, bias=Tru\n                           e)\n                            (fc2): Linear(in_features=400, out_features=20, bias=True)\n                            (fc3): Linear(in_features=400, out_features=20, bias=True)\n                            (fc4): Linear(in_features=20, out_features=400, bias=True)\n                            (fc5): Linear(in_features=400, out_features=2352, bias=Tru\n                           e)\n                          ) module.py:521>\n\u001b[0m\u001b[1;38;5;32m     self.forward = <method 'VAE.forward' of VAE(\n                      (fc1): Linear(in_features=2352, out_features=400, bias=Tru\n                     e)\n                      (fc2): Linear(in_features=400, out_features=20, bias=True)\n                      (fc3): Linear(in_features=400, out_features=20, bias=True)\n                      (fc4): Linear(in_features=20, out_features=400, bias=True)\n                      (fc5): Linear(in_features=400, out_features=2352, bias=Tru\n                     e)\n                    ) <ipython-input-97-e36438a76042>:24>\n\u001b[0m\u001b[38;5;102m    ..................................................\u001b[0m\n\n\u001b[38;5;145mFile \u001b[0m\u001b[1;38;5;231m<ipython-input-97-e36438a76042>\u001b[0m\u001b[38;5;145m, line 25, in forward\n\u001b[0m\u001b[1;38;5;59m    24   \u001b[38;5;188m\u001b[0m\u001b[1;38;5;188mdef\u001b[0m\u001b[38;5;188m \u001b[0m\u001b[38;5;188mforward\u001b[0m\u001b[1;38;5;188m(\u001b[0m\u001b[38;5;20mself\u001b[0m\u001b[1;38;5;188m,\u001b[0m\u001b[38;5;188m \u001b[0m\u001b[1;38;5;56mx\u001b[0m\u001b[1;38;5;188m)\u001b[0m\u001b[38;5;188m \u001b[0m\u001b[1;38;5;188m:\u001b[0m\u001b[38;5;188m \n\u001b[0m\u001b[0m\u001b[1;38;5;188m--> 25   \u001b[38;5;188m    \u001b[0m\u001b[1;38;5;76mmu\u001b[0m\u001b[1;38;5;188m,\u001b[0m\u001b[38;5;188m \u001b[0m\u001b[1;38;5;40mlog_var\u001b[0m\u001b[38;5;188m \u001b[0m\u001b[1;38;5;188m=\u001b[0m\u001b[38;5;188m \u001b[0m\u001b[1;38;5;178mself.encode\u001b[0m\u001b[1;38;5;188m(\u001b[0m\u001b[1;38;5;56mx\u001b[0m\u001b[1;38;5;188m)\u001b[0m\u001b[38;5;188m\n\u001b[0m\u001b[0m\u001b[1;38;5;59m    26   \u001b[38;5;188m    \u001b[0m\u001b[38;5;44mz\u001b[0m\u001b[38;5;188m \u001b[0m\u001b[1;38;5;188m=\u001b[0m\u001b[38;5;188m \u001b[0m\u001b[38;5;26mself.reparameterize\u001b[0m\u001b[1;38;5;188m(\u001b[0m\u001b[1;38;5;76mmu\u001b[0m\u001b[1;38;5;188m,\u001b[0m\u001b[38;5;188m \u001b[0m\u001b[1;38;5;40mlog_var\u001b[0m\u001b[1;38;5;188m)\u001b[0m\u001b[38;5;188m\n\u001b[0m\u001b[0m\u001b[38;5;102m    ..................................................\u001b[0m\n\u001b[38;5;20m     self = VAE(\n              (fc1): Linear(in_features=2352, out_features=400, bias=Tru\n             e)\n              (fc2): Linear(in_features=400, out_features=20, bias=True)\n              (fc3): Linear(in_features=400, out_features=20, bias=True)\n              (fc4): Linear(in_features=20, out_features=400, bias=True)\n              (fc5): Linear(in_features=400, out_features=2352, bias=Tru\n             e)\n            )\n\u001b[0m\u001b[1;38;5;56m     x = tensor([[[[0.7098, 0.3176, 0.6549,  ..., 0.2314, 0.4588, 0.2\n          941],\n                   [0.0392, 0.2471, 0.4706,  ..., 0.5608, 0.5020, 0.1\n          451],\n                   [0.3255, 0.9961, 0.6431,  ..., 0.4314, 0.1294, 0.3\n          490],\n                   ...,\n                   [1.0000, 0.9137, 0.9922,  ..., 0.6314, 1.0000, 0.8\n          275],\n                   [0.7098, 0.7647, 0.5647,  ..., 0.6784, 0.3176, 0.6\n          353],\n                   [1.0000, 0.6000, 0.5961,  ..., 0.1490, 0.3255, 0.4\n          118]],\n         \n                  [[0.1059, 0.4196, 0.3686,  ..., 0.7412, 0.9451, 0.7\n          686],\n                   [0.6902, 0....\n\u001b[0m\u001b[1;38;5;76m     mu = tensor([[-1.4644, -3.2240, -0.1164, -1.7011,  1.3009, -0.490\n           1,  1.4778,  2.8152,\n                   -0.0595, -1.9842,  0.3208,  0.3149, -0.0181,  0.461\n           8, -3.7157,  0.4743,\n                    1.2177, -0.5090,  1.3279,  0.5278],\n                  [ 0.4690, -3.6817, -0.5885, -2.4305,  0.4516,  0.258\n           3,  0.1944,  3.6261,\n                    0.1943, -3.4994,  2.1444, -1.1271, -1.1929, -0.710\n           1, -0.1909,  0.1948,\n                   -0.4209,  2.1336, -1.7618,  0.0390],\n                  [-2.5721, -3.3937, -1.3156, -0.2423,  3.0457, -1.584\n           6,  1.1260,  0.5955,...\n\u001b[0m\u001b[1;38;5;40m     log_var = tensor([[-13.9725, -22.7942, -21.0741, -21.2344, -19.7590, -\n                20.1534, -15.9002,\n                        -17.9579, -22.8093, -16.0888, -21.3706, -24.6740, -\n                22.2391, -20.4569,\n                        -15.0183, -20.9482, -21.5849, -19.2692, -22.2261, -\n                11.6206],\n                       [-12.4487, -19.8028, -19.4328, -21.2080, -16.6869, -\n                18.3926, -13.4515,\n                        -16.7002, -19.3837, -15.4199, -19.4241, -19.4828, -\n                19.7131, -17.8084,\n                        -14.4667, -17.6877, -18.9671, -17.9154, -20.1818, -\n                11.0768],\n                       [-13.6008, -22.1201, -20.5773, -21.3...\n\u001b[0m\u001b[1;38;5;178m     self.encode = <method 'VAE.encode' of VAE(\n                     (fc1): Linear(in_features=2352, out_features=400, bias=Tru\n                    e)\n                     (fc2): Linear(in_features=400, out_features=20, bias=True)\n                     (fc3): Linear(in_features=400, out_features=20, bias=True)\n                     (fc4): Linear(in_features=20, out_features=400, bias=True)\n                     (fc5): Linear(in_features=400, out_features=2352, bias=Tru\n                    e)\n                   ) <ipython-input-97-e36438a76042>:10>\n\u001b[0m\u001b[38;5;44m     z = tensor([[[-0.8137,  0.7375, -1.2675,  ..., -0.9067, -0.4767,\n           -2.2604],\n                  [-0.3004, -0.2652,  0.5045,  ..., -0.5620, -1.2513,\n            1.3448],\n                  [-1.2008, -0.2812,  1.6149,  ..., -1.1581,  1.0894,\n           -0.5494],\n                  ...,\n                  [ 0.0340, -0.4674, -1.8836,  ..., -2.1004,  0.7632,\n            0.3793],\n                  [ 0.2591,  1.5602, -1.6494,  ...,  0.3492, -0.7350,\n           -0.1066],\n                  [ 0.6601,  1.8076,  0.5675,  ...,  0.1949, -0.2704,\n            0.3333]]])\n\u001b[0m\u001b[38;5;26m     self.reparameterize = <method 'VAE.reparameterize' of VAE(\n                             (fc1): Linear(in_features=2352, out_features=400, bias=Tru\n                            e)\n                             (fc2): Linear(in_features=400, out_features=20, bias=True)\n                             (fc3): Linear(in_features=400, out_features=20, bias=True)\n                             (fc4): Linear(in_features=20, out_features=400, bias=True)\n                             (fc5): Linear(in_features=400, out_features=2352, bias=Tru\n                            e)\n                           ) <ipython-input-97-e36438a76042>:14>\n\u001b[0m\u001b[38;5;102m    ..................................................\u001b[0m\n\n\u001b[38;5;145mFile \u001b[0m\u001b[1;38;5;231m<ipython-input-97-e36438a76042>\u001b[0m\u001b[38;5;145m, line 11, in encode\n\u001b[0m\u001b[1;38;5;59m    10   \u001b[38;5;188m\u001b[0m\u001b[1;38;5;188mdef\u001b[0m\u001b[38;5;188m \u001b[0m\u001b[38;5;188mencode\u001b[0m\u001b[1;38;5;188m(\u001b[0m\u001b[38;5;20mself\u001b[0m\u001b[1;38;5;188m,\u001b[0m\u001b[38;5;188m \u001b[0m\u001b[1;38;5;56mx\u001b[0m\u001b[1;38;5;188m)\u001b[0m\u001b[38;5;188m \u001b[0m\u001b[1;38;5;188m:\u001b[0m\u001b[38;5;188m \n\u001b[0m\u001b[0m\u001b[1;38;5;188m--> 11   \u001b[38;5;188m    \u001b[0m\u001b[38;5;188mh\u001b[0m\u001b[38;5;188m \u001b[0m\u001b[1;38;5;188m=\u001b[0m\u001b[38;5;188m \u001b[0m\u001b[1;38;5;178mF.relu\u001b[0m\u001b[1;38;5;188m(\u001b[0m\u001b[1;38;5;148mself.fc1\u001b[0m\u001b[1;38;5;188m(\u001b[0m\u001b[1;38;5;56mx\u001b[0m\u001b[1;38;5;188m)\u001b[0m\u001b[1;38;5;188m)\u001b[0m\u001b[38;5;188m\n\u001b[0m\u001b[0m\u001b[1;38;5;59m    12   \u001b[38;5;188m    \u001b[0m\u001b[1;38;5;188mreturn\u001b[0m\u001b[38;5;188m \u001b[0m\u001b[38;5;26mself.fc2\u001b[0m\u001b[1;38;5;188m(\u001b[0m\u001b[38;5;188mh\u001b[0m\u001b[1;38;5;188m)\u001b[0m\u001b[1;38;5;188m,\u001b[0m\u001b[38;5;188m \u001b[0m\u001b[38;5;184mself.fc3\u001b[0m\u001b[1;38;5;188m(\u001b[0m\u001b[38;5;188mh\u001b[0m\u001b[1;38;5;188m)\u001b[0m\u001b[38;5;188m\n\u001b[0m\u001b[0m\u001b[38;5;102m    ..................................................\u001b[0m\n\u001b[38;5;20m     self = VAE(\n              (fc1): Linear(in_features=2352, out_features=400, bias=Tru\n             e)\n              (fc2): Linear(in_features=400, out_features=20, bias=True)\n              (fc3): Linear(in_features=400, out_features=20, bias=True)\n              (fc4): Linear(in_features=20, out_features=400, bias=True)\n              (fc5): Linear(in_features=400, out_features=2352, bias=Tru\n             e)\n            )\n\u001b[0m\u001b[1;38;5;56m     x = tensor([[[[0.7098, 0.3176, 0.6549,  ..., 0.2314, 0.4588, 0.2\n          941],\n                   [0.0392, 0.2471, 0.4706,  ..., 0.5608, 0.5020, 0.1\n          451],\n                   [0.3255, 0.9961, 0.6431,  ..., 0.4314, 0.1294, 0.3\n          490],\n                   ...,\n                   [1.0000, 0.9137, 0.9922,  ..., 0.6314, 1.0000, 0.8\n          275],\n                   [0.7098, 0.7647, 0.5647,  ..., 0.6784, 0.3176, 0.6\n          353],\n                   [1.0000, 0.6000, 0.5961,  ..., 0.1490, 0.3255, 0.4\n          118]],\n         \n                  [[0.1059, 0.4196, 0.3686,  ..., 0.7412, 0.9451, 0.7\n          686],\n                   [0.6902, 0....\n\u001b[0m\u001b[1;38;5;178m     F.relu = <function 'relu' functional.py:1050>\n\u001b[0m\u001b[1;38;5;148m     self.fc1 = Linear(in_features=2352, out_features=400, bias=True)\n\u001b[0m\u001b[38;5;26m     self.fc2 = Linear(in_features=400, out_features=20, bias=True)\n\u001b[0m\u001b[38;5;184m     self.fc3 = Linear(in_features=400, out_features=20, bias=True)\n\u001b[0m\u001b[38;5;102m    ..................................................\u001b[0m\n\n\u001b[38;5;145mFile /Library/anaconda3/lib/python3.7/site-packages/torch/nn/modules/\u001b[0m\u001b[1;38;5;231mmodule.py\u001b[0m\u001b[38;5;145m, line 550, in __call__\n\u001b[0m\u001b[1;38;5;59m    540  \u001b[38;5;188m\u001b[0m\u001b[1;38;5;188mdef\u001b[0m\u001b[38;5;188m \u001b[0m\u001b[38;5;188m__call__\u001b[0m\u001b[1;38;5;188m(\u001b[0m\u001b[38;5;148mself\u001b[0m\u001b[1;38;5;188m,\u001b[0m\u001b[38;5;188m \u001b[0m\u001b[1;38;5;188m*\u001b[0m\u001b[1;38;5;20minput\u001b[0m\u001b[1;38;5;188m,\u001b[0m\u001b[38;5;188m \u001b[0m\u001b[1;38;5;188m**\u001b[0m\u001b[1;38;5;112mkwargs\u001b[0m\u001b[1;38;5;188m)\u001b[0m\u001b[1;38;5;188m:\u001b[0m\u001b[38;5;188m\n\u001b[0m\u001b[0m\u001b[38;5;102m (...)\n\u001b[0m\u001b[1;38;5;59m    546  \u001b[38;5;188m            \u001b[0m\u001b[1;38;5;20minput\u001b[0m\u001b[38;5;188m \u001b[0m\u001b[1;38;5;188m=\u001b[0m\u001b[38;5;188m \u001b[0m\u001b[38;5;188mresult\u001b[0m\u001b[38;5;188m\n\u001b[0m\u001b[0m\u001b[1;38;5;59m    547  \u001b[38;5;188m    \u001b[0m\u001b[1;38;5;188mif\u001b[0m\u001b[38;5;188m \u001b[0m\u001b[38;5;188mtorch._C._get_tracing_state\u001b[0m\u001b[1;38;5;188m(\u001b[0m\u001b[1;38;5;188m)\u001b[0m\u001b[1;38;5;188m:\u001b[0m\u001b[38;5;188m\n\u001b[0m\u001b[0m\u001b[1;38;5;59m    548  \u001b[38;5;188m        \u001b[0m\u001b[38;5;188mresult\u001b[0m\u001b[38;5;188m \u001b[0m\u001b[1;38;5;188m=\u001b[0m\u001b[38;5;188m \u001b[0m\u001b[38;5;178mself._slow_forward\u001b[0m\u001b[1;38;5;188m(\u001b[0m\u001b[1;38;5;188m*\u001b[0m\u001b[1;38;5;20minput\u001b[0m\u001b[1;38;5;188m,\u001b[0m\u001b[38;5;188m \u001b[0m\u001b[1;38;5;188m**\u001b[0m\u001b[1;38;5;112mkwargs\u001b[0m\u001b[1;38;5;188m)\u001b[0m\u001b[38;5;188m\n\u001b[0m\u001b[0m\u001b[1;38;5;59m    549  \u001b[38;5;188m    \u001b[0m\u001b[1;38;5;188melse\u001b[0m\u001b[1;38;5;188m:\u001b[0m\u001b[38;5;188m\n\u001b[0m\u001b[0m\u001b[1;38;5;188m--> 550  \u001b[38;5;188m        \u001b[0m\u001b[38;5;188mresult\u001b[0m\u001b[38;5;188m \u001b[0m\u001b[1;38;5;188m=\u001b[0m\u001b[38;5;188m \u001b[0m\u001b[1;38;5;112mself.forward\u001b[0m\u001b[1;38;5;188m(\u001b[0m\u001b[1;38;5;188m*\u001b[0m\u001b[1;38;5;20minput\u001b[0m\u001b[1;38;5;188m,\u001b[0m\u001b[38;5;188m \u001b[0m\u001b[1;38;5;188m**\u001b[0m\u001b[1;38;5;112mkwargs\u001b[0m\u001b[1;38;5;188m)\u001b[0m\u001b[38;5;188m\n\u001b[0m\u001b[0m\u001b[1;38;5;59m    551  \u001b[38;5;188m    \u001b[0m\u001b[1;38;5;188mfor\u001b[0m\u001b[38;5;188m \u001b[0m\u001b[38;5;188mhook\u001b[0m\u001b[38;5;188m \u001b[0m\u001b[1;38;5;188min\u001b[0m\u001b[38;5;188m \u001b[0m\u001b[38;5;188mself._forward_hooks.values\u001b[0m\u001b[1;38;5;188m(\u001b[0m\u001b[1;38;5;188m)\u001b[0m\u001b[1;38;5;188m:\u001b[0m\u001b[38;5;188m\n\u001b[0m\u001b[0m\u001b[38;5;102m    ..................................................\u001b[0m\n\u001b[38;5;148m     self = Linear(in_features=2352, out_features=400, bias=True)\n\u001b[0m\u001b[1;38;5;20m     input = (\n              tensor([[[[0.7098, 0.3176, 0.6549,  ..., 0.2314, 0.4588, 0.\n              2941],\n                        [0.0392, 0.2471, 0.4706,  ..., 0.5608, 0.5020, 0.\n              1451],\n                        [0.3255, 0.9961, 0.6431,  ..., 0.4314, 0.1294, 0.\n              3490],\n                        ...,\n                        [1.0000, 0.9137, 0.9922,  ..., 0.6314, 1.0000, 0.\n              8275],\n                        [0.7098, 0.7647, 0.5647,  ..., 0.6784, 0.3176, 0.\n              6353],\n                        [1.0000, 0.6000, 0.5961,  ..., 0.1490, 0.3255, 0.\n              4118]],\n              \n                       [[0.1059, 0.4196, 0.3686,  ..., 0.7412, 0.9451, 0.\n              7686],...\n\u001b[0m\u001b[1;38;5;112m     kwargs = {}\n\u001b[0m\u001b[38;5;178m     self._slow_forward = <method 'Module._slow_forward' of Linear(in_features=2352, o\n                           ut_features=400, bias=True) module.py:521>\n\u001b[0m\u001b[1;38;5;112m     self.forward = <method 'Linear.forward' of Linear(in_features=2352, out_fea\n                     tures=400, bias=True) linear.py:86>\n\u001b[0m\u001b[38;5;102m    ..................................................\u001b[0m\n\n\u001b[38;5;145mFile /Library/anaconda3/lib/python3.7/site-packages/torch/nn/modules/\u001b[0m\u001b[1;38;5;231mlinear.py\u001b[0m\u001b[38;5;145m, line 87, in forward\n\u001b[0m\u001b[1;38;5;59m    86   \u001b[38;5;188m\u001b[0m\u001b[1;38;5;188mdef\u001b[0m\u001b[38;5;188m \u001b[0m\u001b[38;5;188mforward\u001b[0m\u001b[1;38;5;188m(\u001b[0m\u001b[38;5;148mself\u001b[0m\u001b[1;38;5;188m,\u001b[0m\u001b[38;5;188m \u001b[0m\u001b[1;38;5;56minput\u001b[0m\u001b[1;38;5;188m)\u001b[0m\u001b[1;38;5;188m:\u001b[0m\u001b[38;5;188m\n\u001b[0m\u001b[0m\u001b[1;38;5;188m--> 87   \u001b[38;5;188m    \u001b[0m\u001b[1;38;5;188mreturn\u001b[0m\u001b[38;5;188m \u001b[0m\u001b[1;38;5;148mF.linear\u001b[0m\u001b[1;38;5;188m(\u001b[0m\u001b[1;38;5;56minput\u001b[0m\u001b[1;38;5;188m,\u001b[0m\u001b[38;5;188m \u001b[0m\u001b[1;38;5;32mself.weight\u001b[0m\u001b[1;38;5;188m,\u001b[0m\u001b[38;5;188m \u001b[0m\u001b[1;38;5;184mself.bias\u001b[0m\u001b[1;38;5;188m)\u001b[0m\u001b[38;5;188m\n\u001b[0m\u001b[0m\u001b[38;5;102m    ..................................................\u001b[0m\n\u001b[38;5;148m     self = Linear(in_features=2352, out_features=400, bias=True)\n\u001b[0m\u001b[1;38;5;56m     input = tensor([[[[0.7098, 0.3176, 0.6549,  ..., 0.2314, 0.4588, 0.2\n              941],\n                       [0.0392, 0.2471, 0.4706,  ..., 0.5608, 0.5020, 0.1\n              451],\n                       [0.3255, 0.9961, 0.6431,  ..., 0.4314, 0.1294, 0.3\n              490],\n                       ...,\n                       [1.0000, 0.9137, 0.9922,  ..., 0.6314, 1.0000, 0.8\n              275],\n                       [0.7098, 0.7647, 0.5647,  ..., 0.6784, 0.3176, 0.6\n              353],\n                       [1.0000, 0.6000, 0.5961,  ..., 0.1490, 0.3255, 0.4\n              118]],\n             \n                      [[0.1059, 0.4196, 0.3686,  ..., 0.7412, 0.9451, 0.7\n              686],\n                       [0.6902, 0....\n\u001b[0m\u001b[1;38;5;148m     F.linear = <function 'linear' functional.py:1591>\n\u001b[0m\u001b[1;38;5;32m     self.weight = Parameter containing:\n                   tensor([[-0.0026,  0.0106, -0.0194,  ...,  0.0098, -0.0064, \n                     0.0112],\n                           [-0.0169, -0.0009,  0.0004,  ..., -0.0129, -0.0117, \n                    -0.0008],\n                           [-0.0104, -0.0252,  0.0005,  ..., -0.0138, -0.0265, \n                     0.0088],\n                           ...,\n                           [-0.0046, -0.0011, -0.0231,  ...,  0.0003, -0.0064, \n                     0.0092],\n                           [-0.0198,  0.0007, -0.0107,  ..., -0.0056,  0.0069, \n                     0.0021],\n                           [ 0.0127,  0.0134,  0.0090,  ...,  0.0005,  0.0043, \n                    -0.0152]],\n                          requires_grad=True)\n\u001b[0m\u001b[1;38;5;184m     self.bias = Parameter containing:\n                 tensor([ 2.3376e-03, -2.0395e-02, -1.1075e-02, -2.3832e-02, \n                  -2.5396e-02,\n                         -7.2462e-03, -1.9998e-01, -9.0464e-02,  1.1588e-02, \n                   1.1897e-02,\n                          1.1552e-02, -1.0661e-02, -1.7611e-01,  1.0849e-02, \n                  -1.8334e-01,\n                          4.2183e-03, -1.9587e-01, -1.6717e-01, -8.9086e-02, \n                   9.8578e-02,\n                         -1.0959e-02, -9.3863e-03, -1.9992e-02,  5.1720e-02, \n                  -1.3779e-01,\n                         -1.3988e-01, -1.3461e-02, -1.3819e-02, -6.8905e-03, \n                   6.6226e-03,\n                          4.6313e-03, -1.9408e-01, -9.699...\n\u001b[0m\u001b[38;5;102m    ..................................................\u001b[0m\n\n\u001b[38;5;145mFile /Library/anaconda3/lib/python3.7/site-packages/torch/nn/\u001b[0m\u001b[1;38;5;231mfunctional.py\u001b[0m\u001b[38;5;145m, line 1612, in linear\n\u001b[0m\u001b[1;38;5;59m    1591  \u001b[1;38;5;188mdef\u001b[0m\u001b[38;5;188m \u001b[0m\u001b[38;5;188mlinear\u001b[0m\u001b[1;38;5;188m(\u001b[0m\u001b[38;5;56minput\u001b[0m\u001b[1;38;5;188m,\u001b[0m\u001b[38;5;188m \u001b[0m\u001b[38;5;32mweight\u001b[0m\u001b[1;38;5;188m,\u001b[0m\u001b[38;5;188m \u001b[0m\u001b[38;5;184mbias\u001b[0m\u001b[1;38;5;188m=\u001b[0m\u001b[1;38;5;188mNone\u001b[0m\u001b[1;38;5;188m)\u001b[0m\u001b[1;38;5;188m:\u001b[0m\u001b[38;5;188m\n\u001b[0m\u001b[0m\u001b[38;5;102m (...)\n\u001b[0m\u001b[1;38;5;59m    1608  \u001b[38;5;188m    \u001b[0m\u001b[1;38;5;188mif\u001b[0m\u001b[38;5;188m \u001b[0m\u001b[38;5;188minput.dim\u001b[0m\u001b[1;38;5;188m(\u001b[0m\u001b[1;38;5;188m)\u001b[0m\u001b[38;5;188m \u001b[0m\u001b[1;38;5;188m==\u001b[0m\u001b[38;5;188m 2 \u001b[0m\u001b[1;38;5;188mand\u001b[0m\u001b[38;5;188m \u001b[0m\u001b[38;5;184mbias\u001b[0m\u001b[38;5;188m \u001b[0m\u001b[1;38;5;188mis\u001b[0m\u001b[38;5;188m \u001b[0m\u001b[1;38;5;188mnot\u001b[0m\u001b[38;5;188m \u001b[0m\u001b[1;38;5;188mNone\u001b[0m\u001b[1;38;5;188m:\u001b[0m\u001b[38;5;188m\n\u001b[0m\u001b[0m\u001b[1;38;5;59m    1609  \u001b[38;5;188m        \u001b[0m\u001b[38;5;59m# fused op is marginally faster\u001b[0m\u001b[38;5;188m\n\u001b[0m\u001b[0m\u001b[1;38;5;59m    1610  \u001b[38;5;188m        \u001b[0m\u001b[38;5;188mret\u001b[0m\u001b[38;5;188m \u001b[0m\u001b[1;38;5;188m=\u001b[0m\u001b[38;5;188m \u001b[0m\u001b[38;5;188mtorch.addmm\u001b[0m\u001b[1;38;5;188m(\u001b[0m\u001b[38;5;184mbias\u001b[0m\u001b[1;38;5;188m,\u001b[0m\u001b[38;5;188m \u001b[0m\u001b[38;5;56minput\u001b[0m\u001b[1;38;5;188m,\u001b[0m\u001b[38;5;188m \u001b[0m\u001b[38;5;188mweight.t\u001b[0m\u001b[1;38;5;188m(\u001b[0m\u001b[1;38;5;188m)\u001b[0m\u001b[1;38;5;188m)\u001b[0m\u001b[38;5;188m\n\u001b[0m\u001b[0m\u001b[1;38;5;59m    1611  \u001b[38;5;188m    \u001b[0m\u001b[1;38;5;188melse\u001b[0m\u001b[1;38;5;188m:\u001b[0m\u001b[38;5;188m\n\u001b[0m\u001b[0m\u001b[1;38;5;188m--> 1612  \u001b[38;5;188m        \u001b[0m\u001b[38;5;188moutput\u001b[0m\u001b[38;5;188m \u001b[0m\u001b[1;38;5;188m=\u001b[0m\u001b[38;5;188m \u001b[0m\u001b[38;5;188minput.matmul\u001b[0m\u001b[1;38;5;188m(\u001b[0m\u001b[38;5;188mweight.t\u001b[0m\u001b[1;38;5;188m(\u001b[0m\u001b[1;38;5;188m)\u001b[0m\u001b[1;38;5;188m)\u001b[0m\u001b[38;5;188m\n\u001b[0m\u001b[0m\u001b[1;38;5;59m    1613  \u001b[38;5;188m        \u001b[0m\u001b[1;38;5;188mif\u001b[0m\u001b[38;5;188m \u001b[0m\u001b[38;5;184mbias\u001b[0m\u001b[38;5;188m \u001b[0m\u001b[1;38;5;188mis\u001b[0m\u001b[38;5;188m \u001b[0m\u001b[1;38;5;188mnot\u001b[0m\u001b[38;5;188m \u001b[0m\u001b[1;38;5;188mNone\u001b[0m\u001b[1;38;5;188m:\u001b[0m\u001b[38;5;188m\n\u001b[0m\u001b[0m\u001b[38;5;102m    ..................................................\u001b[0m\n\u001b[38;5;56m     input = tensor([[[[0.7098, 0.3176, 0.6549,  ..., 0.2314, 0.4588, 0.2\n              941],\n                       [0.0392, 0.2471, 0.4706,  ..., 0.5608, 0.5020, 0.1\n              451],\n                       [0.3255, 0.9961, 0.6431,  ..., 0.4314, 0.1294, 0.3\n              490],\n                       ...,\n                       [1.0000, 0.9137, 0.9922,  ..., 0.6314, 1.0000, 0.8\n              275],\n                       [0.7098, 0.7647, 0.5647,  ..., 0.6784, 0.3176, 0.6\n              353],\n                       [1.0000, 0.6000, 0.5961,  ..., 0.1490, 0.3255, 0.4\n              118]],\n             \n                      [[0.1059, 0.4196, 0.3686,  ..., 0.7412, 0.9451, 0.7\n              686],\n                       [0.6902, 0....\n\u001b[0m\u001b[38;5;32m     weight = Parameter containing:\n              tensor([[-0.0026,  0.0106, -0.0194,  ...,  0.0098, -0.0064, \n                0.0112],\n                      [-0.0169, -0.0009,  0.0004,  ..., -0.0129, -0.0117, \n               -0.0008],\n                      [-0.0104, -0.0252,  0.0005,  ..., -0.0138, -0.0265, \n                0.0088],\n                      ...,\n                      [-0.0046, -0.0011, -0.0231,  ...,  0.0003, -0.0064, \n                0.0092],\n                      [-0.0198,  0.0007, -0.0107,  ..., -0.0056,  0.0069, \n                0.0021],\n                      [ 0.0127,  0.0134,  0.0090,  ...,  0.0005,  0.0043, \n               -0.0152]],\n                     requires_grad=True)\n\u001b[0m\u001b[38;5;184m     bias = Parameter containing:\n            tensor([ 2.3376e-03, -2.0395e-02, -1.1075e-02, -2.3832e-02, \n             -2.5396e-02,\n                    -7.2462e-03, -1.9998e-01, -9.0464e-02,  1.1588e-02, \n              1.1897e-02,\n                     1.1552e-02, -1.0661e-02, -1.7611e-01,  1.0849e-02, \n             -1.8334e-01,\n                     4.2183e-03, -1.9587e-01, -1.6717e-01, -8.9086e-02, \n              9.8578e-02,\n                    -1.0959e-02, -9.3863e-03, -1.9992e-02,  5.1720e-02, \n             -1.3779e-01,\n                    -1.3988e-01, -1.3461e-02, -1.3819e-02, -6.8905e-03, \n              6.6226e-03,\n                     4.6313e-03, -1.9408e-01, -9.699...\n\u001b[0m\u001b[38;5;102m    ..................................................\u001b[0m\n\n---- (full traceback above) ----\n\u001b[38;5;145mFile /Library/anaconda3/lib/python3.7/site-packages/IPython/core/\u001b[0m\u001b[1;38;5;231minteractiveshell.py\u001b[0m\u001b[38;5;145m, line 3325, in run_code\n\u001b[0m    \u001b[38;5;188m\u001b[0m\u001b[38;5;188mexec\u001b[0m\u001b[1;38;5;188m(\u001b[0m\u001b[38;5;188mcode_obj\u001b[0m\u001b[1;38;5;188m,\u001b[0m\u001b[38;5;188m \u001b[0m\u001b[38;5;188mself.user_global_ns\u001b[0m\u001b[1;38;5;188m,\u001b[0m\u001b[38;5;188m \u001b[0m\u001b[38;5;188mself.user_ns\u001b[0m\u001b[1;38;5;188m)\u001b[0m\u001b[38;5;188m\n\u001b[0m\u001b[38;5;145mFile \u001b[0m\u001b[1;38;5;231m<ipython-input-105-efff6ab889e5>\u001b[0m\u001b[38;5;145m, line 1, in <module>\n\u001b[0m    \u001b[38;5;188m_\u001b[0m\u001b[38;5;188m \u001b[0m\u001b[1;38;5;188m,\u001b[0m\u001b[38;5;188m \u001b[0m\u001b[38;5;188m_\u001b[0m\u001b[38;5;188m \u001b[0m\u001b[1;38;5;188m,\u001b[0m\u001b[38;5;188m \u001b[0m\u001b[38;5;188mout\u001b[0m\u001b[38;5;188m \u001b[0m\u001b[1;38;5;188m=\u001b[0m\u001b[38;5;188m \u001b[0m\u001b[38;5;188mmodel\u001b[0m\u001b[1;38;5;188m(\u001b[0m\u001b[38;5;188mx.float\u001b[0m\u001b[1;38;5;188m(\u001b[0m\u001b[1;38;5;188m)\u001b[0m\u001b[1;38;5;188m)\u001b[0m\u001b[38;5;188m\n\u001b[0m\u001b[38;5;145mFile /Library/anaconda3/lib/python3.7/site-packages/torch/nn/modules/\u001b[0m\u001b[1;38;5;231mmodule.py\u001b[0m\u001b[38;5;145m, line 550, in __call__\n\u001b[0m    \u001b[38;5;188m\u001b[0m\u001b[38;5;188mresult\u001b[0m\u001b[38;5;188m \u001b[0m\u001b[1;38;5;188m=\u001b[0m\u001b[38;5;188m \u001b[0m\u001b[38;5;188mself.forward\u001b[0m\u001b[1;38;5;188m(\u001b[0m\u001b[1;38;5;188m*\u001b[0m\u001b[38;5;188minput\u001b[0m\u001b[1;38;5;188m,\u001b[0m\u001b[38;5;188m \u001b[0m\u001b[1;38;5;188m**\u001b[0m\u001b[38;5;188mkwargs\u001b[0m\u001b[1;38;5;188m)\u001b[0m\u001b[38;5;188m\n\u001b[0m\u001b[38;5;145mFile \u001b[0m\u001b[1;38;5;231m<ipython-input-97-e36438a76042>\u001b[0m\u001b[38;5;145m, line 25, in forward\n\u001b[0m    \u001b[38;5;188m\u001b[0m\u001b[38;5;188mmu\u001b[0m\u001b[1;38;5;188m,\u001b[0m\u001b[38;5;188m \u001b[0m\u001b[38;5;188mlog_var\u001b[0m\u001b[38;5;188m \u001b[0m\u001b[1;38;5;188m=\u001b[0m\u001b[38;5;188m \u001b[0m\u001b[38;5;188mself.encode\u001b[0m\u001b[1;38;5;188m(\u001b[0m\u001b[38;5;188mx\u001b[0m\u001b[1;38;5;188m)\u001b[0m\u001b[38;5;188m\n\u001b[0m\u001b[38;5;145mFile \u001b[0m\u001b[1;38;5;231m<ipython-input-97-e36438a76042>\u001b[0m\u001b[38;5;145m, line 11, in encode\n\u001b[0m    \u001b[38;5;188m\u001b[0m\u001b[38;5;188mh\u001b[0m\u001b[38;5;188m \u001b[0m\u001b[1;38;5;188m=\u001b[0m\u001b[38;5;188m \u001b[0m\u001b[38;5;188mF.relu\u001b[0m\u001b[1;38;5;188m(\u001b[0m\u001b[38;5;188mself.fc1\u001b[0m\u001b[1;38;5;188m(\u001b[0m\u001b[38;5;188mx\u001b[0m\u001b[1;38;5;188m)\u001b[0m\u001b[1;38;5;188m)\u001b[0m\u001b[38;5;188m\n\u001b[0m\u001b[38;5;145mFile /Library/anaconda3/lib/python3.7/site-packages/torch/nn/modules/\u001b[0m\u001b[1;38;5;231mmodule.py\u001b[0m\u001b[38;5;145m, line 550, in __call__\n\u001b[0m    \u001b[38;5;188m\u001b[0m\u001b[38;5;188mresult\u001b[0m\u001b[38;5;188m \u001b[0m\u001b[1;38;5;188m=\u001b[0m\u001b[38;5;188m \u001b[0m\u001b[38;5;188mself.forward\u001b[0m\u001b[1;38;5;188m(\u001b[0m\u001b[1;38;5;188m*\u001b[0m\u001b[38;5;188minput\u001b[0m\u001b[1;38;5;188m,\u001b[0m\u001b[38;5;188m \u001b[0m\u001b[1;38;5;188m**\u001b[0m\u001b[38;5;188mkwargs\u001b[0m\u001b[1;38;5;188m)\u001b[0m\u001b[38;5;188m\n\u001b[0m\u001b[38;5;145mFile /Library/anaconda3/lib/python3.7/site-packages/torch/nn/modules/\u001b[0m\u001b[1;38;5;231mlinear.py\u001b[0m\u001b[38;5;145m, line 87, in forward\n\u001b[0m    \u001b[38;5;188m\u001b[0m\u001b[1;38;5;188mreturn\u001b[0m\u001b[38;5;188m \u001b[0m\u001b[38;5;188mF.linear\u001b[0m\u001b[1;38;5;188m(\u001b[0m\u001b[38;5;188minput\u001b[0m\u001b[1;38;5;188m,\u001b[0m\u001b[38;5;188m \u001b[0m\u001b[38;5;188mself.weight\u001b[0m\u001b[1;38;5;188m,\u001b[0m\u001b[38;5;188m \u001b[0m\u001b[38;5;188mself.bias\u001b[0m\u001b[1;38;5;188m)\u001b[0m\u001b[38;5;188m\n\u001b[0m\u001b[38;5;145mFile /Library/anaconda3/lib/python3.7/site-packages/torch/nn/\u001b[0m\u001b[1;38;5;231mfunctional.py\u001b[0m\u001b[38;5;145m, line 1612, in linear\n\u001b[0m    \u001b[38;5;188m\u001b[0m\u001b[38;5;188moutput\u001b[0m\u001b[38;5;188m \u001b[0m\u001b[1;38;5;188m=\u001b[0m\u001b[38;5;188m \u001b[0m\u001b[38;5;188minput.matmul\u001b[0m\u001b[1;38;5;188m(\u001b[0m\u001b[38;5;188mweight.t\u001b[0m\u001b[1;38;5;188m(\u001b[0m\u001b[1;38;5;188m)\u001b[0m\u001b[1;38;5;188m)\u001b[0m\u001b[38;5;188m\n\u001b[0m\n\u001b[1;38;5;160mRuntimeError: \u001b[0m\u001b[1;38;5;160msize mismatch, m1: [3948 x 28], m2: [2352 x 400] at ../aten/src/TH/generic/THTensorMath.cpp:41\u001b[0m"
     ]
    }
   ],
   "source": [
    " _ , _ , out = model(x.float())\n",
    "out = out.view(-1, 3, 28, 28).float()\n",
    "x = x.view(-1, 3, 28, 28).float()\n",
    "save_image(out, os.path.join('/Users/tommy84729/python/DL/ＨＷ2','compare_model-{}.png'.format(epoch+1)))\n",
    "save_image(x, os.path.join('/Users/tommy84729/python/DL/ＨＷ2','compare_x-{}.png'.format(epoch+1)))"
   ]
  },
  {
   "cell_type": "code",
   "execution_count": null,
   "metadata": {},
   "outputs": [],
   "source": []
  }
 ],
 "metadata": {
  "kernelspec": {
   "display_name": "Python 3",
   "language": "python",
   "name": "python3"
  },
  "language_info": {
   "codemirror_mode": {
    "name": "ipython",
    "version": 3
   },
   "file_extension": ".py",
   "mimetype": "text/x-python",
   "name": "python",
   "nbconvert_exporter": "python",
   "pygments_lexer": "ipython3",
   "version": "3.7.3"
  }
 },
 "nbformat": 4,
 "nbformat_minor": 4
}
