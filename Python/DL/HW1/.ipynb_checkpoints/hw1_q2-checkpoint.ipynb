{
 "cells": [
  {
   "cell_type": "code",
   "execution_count": 631,
   "metadata": {},
   "outputs": [],
   "source": [
    "import numpy as np\n",
    "import matplotlib.pyplot as plt\n",
    "import random\n",
    "import stackprinter\n",
    "import seaborn as sns\n",
    "from itertools import chain\n",
    "import os\n",
    "from PIL import Image\n",
    "import torch\n",
    "import torch.nn as nn\n",
    "import torch.nn.functional as fun\n",
    "from torch.autograd import Variable\n",
    "from sklearn.metrics import confusion_matrix\n",
    "from tqdm import tqdm, trange\n",
    "from time import sleep\n",
    "stackprinter.set_excepthook(style='darkbg2')"
   ]
  },
  {
   "cell_type": "code",
   "execution_count": 52,
   "metadata": {},
   "outputs": [],
   "source": [
    "train_file = pd.read_csv('/Users/tommy84729/python/DL/HW1/train.csv')\n",
    "test_file = pd.read_csv('/Users/tommy84729/python/DL/HW1/test.csv')"
   ]
  },
  {
   "cell_type": "code",
   "execution_count": 151,
   "metadata": {},
   "outputs": [
    {
     "data": {
      "text/html": [
       "<div>\n",
       "<style scoped>\n",
       "    .dataframe tbody tr th:only-of-type {\n",
       "        vertical-align: middle;\n",
       "    }\n",
       "\n",
       "    .dataframe tbody tr th {\n",
       "        vertical-align: top;\n",
       "    }\n",
       "\n",
       "    .dataframe thead th {\n",
       "        text-align: right;\n",
       "    }\n",
       "</style>\n",
       "<table border=\"1\" class=\"dataframe\">\n",
       "  <thead>\n",
       "    <tr style=\"text-align: right;\">\n",
       "      <th></th>\n",
       "      <th>filename</th>\n",
       "      <th>width</th>\n",
       "      <th>height</th>\n",
       "      <th>label</th>\n",
       "      <th>xmin</th>\n",
       "      <th>ymin</th>\n",
       "      <th>xmax</th>\n",
       "      <th>ymax</th>\n",
       "    </tr>\n",
       "  </thead>\n",
       "  <tbody>\n",
       "    <tr>\n",
       "      <th>0</th>\n",
       "      <td>11893820-3x2-xlarge.jpg</td>\n",
       "      <td>862</td>\n",
       "      <td>575</td>\n",
       "      <td>bad</td>\n",
       "      <td>12</td>\n",
       "      <td>238</td>\n",
       "      <td>92</td>\n",
       "      <td>318</td>\n",
       "    </tr>\n",
       "    <tr>\n",
       "      <th>1</th>\n",
       "      <td>11893820-3x2-xlarge.jpg</td>\n",
       "      <td>862</td>\n",
       "      <td>575</td>\n",
       "      <td>bad</td>\n",
       "      <td>46</td>\n",
       "      <td>42</td>\n",
       "      <td>104</td>\n",
       "      <td>97</td>\n",
       "    </tr>\n",
       "    <tr>\n",
       "      <th>2</th>\n",
       "      <td>11893820-3x2-xlarge.jpg</td>\n",
       "      <td>862</td>\n",
       "      <td>575</td>\n",
       "      <td>good</td>\n",
       "      <td>103</td>\n",
       "      <td>24</td>\n",
       "      <td>150</td>\n",
       "      <td>79</td>\n",
       "    </tr>\n",
       "    <tr>\n",
       "      <th>3</th>\n",
       "      <td>11893820-3x2-xlarge.jpg</td>\n",
       "      <td>862</td>\n",
       "      <td>575</td>\n",
       "      <td>good</td>\n",
       "      <td>243</td>\n",
       "      <td>2</td>\n",
       "      <td>291</td>\n",
       "      <td>51</td>\n",
       "    </tr>\n",
       "    <tr>\n",
       "      <th>4</th>\n",
       "      <td>11893820-3x2-xlarge.jpg</td>\n",
       "      <td>862</td>\n",
       "      <td>575</td>\n",
       "      <td>bad</td>\n",
       "      <td>166</td>\n",
       "      <td>36</td>\n",
       "      <td>228</td>\n",
       "      <td>99</td>\n",
       "    </tr>\n",
       "    <tr>\n",
       "      <th>...</th>\n",
       "      <td>...</td>\n",
       "      <td>...</td>\n",
       "      <td>...</td>\n",
       "      <td>...</td>\n",
       "      <td>...</td>\n",
       "      <td>...</td>\n",
       "      <td>...</td>\n",
       "      <td>...</td>\n",
       "    </tr>\n",
       "    <tr>\n",
       "      <th>3523</th>\n",
       "      <td>kljlhk.jpg</td>\n",
       "      <td>1548</td>\n",
       "      <td>1032</td>\n",
       "      <td>good</td>\n",
       "      <td>1481</td>\n",
       "      <td>239</td>\n",
       "      <td>1546</td>\n",
       "      <td>353</td>\n",
       "    </tr>\n",
       "    <tr>\n",
       "      <th>3524</th>\n",
       "      <td>kljlhk.jpg</td>\n",
       "      <td>1548</td>\n",
       "      <td>1032</td>\n",
       "      <td>good</td>\n",
       "      <td>328</td>\n",
       "      <td>273</td>\n",
       "      <td>361</td>\n",
       "      <td>312</td>\n",
       "    </tr>\n",
       "    <tr>\n",
       "      <th>3525</th>\n",
       "      <td>kljlhk.jpg</td>\n",
       "      <td>1548</td>\n",
       "      <td>1032</td>\n",
       "      <td>good</td>\n",
       "      <td>283</td>\n",
       "      <td>245</td>\n",
       "      <td>318</td>\n",
       "      <td>289</td>\n",
       "    </tr>\n",
       "    <tr>\n",
       "      <th>3526</th>\n",
       "      <td>kljlhk.jpg</td>\n",
       "      <td>1548</td>\n",
       "      <td>1032</td>\n",
       "      <td>good</td>\n",
       "      <td>226</td>\n",
       "      <td>251</td>\n",
       "      <td>257</td>\n",
       "      <td>289</td>\n",
       "    </tr>\n",
       "    <tr>\n",
       "      <th>3527</th>\n",
       "      <td>kljlhk.jpg</td>\n",
       "      <td>1548</td>\n",
       "      <td>1032</td>\n",
       "      <td>good</td>\n",
       "      <td>169</td>\n",
       "      <td>250</td>\n",
       "      <td>205</td>\n",
       "      <td>281</td>\n",
       "    </tr>\n",
       "  </tbody>\n",
       "</table>\n",
       "<p>3528 rows × 8 columns</p>\n",
       "</div>"
      ],
      "text/plain": [
       "                     filename  width  height label  xmin  ymin  xmax  ymax\n",
       "0     11893820-3x2-xlarge.jpg    862     575   bad    12   238    92   318\n",
       "1     11893820-3x2-xlarge.jpg    862     575   bad    46    42   104    97\n",
       "2     11893820-3x2-xlarge.jpg    862     575  good   103    24   150    79\n",
       "3     11893820-3x2-xlarge.jpg    862     575  good   243     2   291    51\n",
       "4     11893820-3x2-xlarge.jpg    862     575   bad   166    36   228    99\n",
       "...                       ...    ...     ...   ...   ...   ...   ...   ...\n",
       "3523               kljlhk.jpg   1548    1032  good  1481   239  1546   353\n",
       "3524               kljlhk.jpg   1548    1032  good   328   273   361   312\n",
       "3525               kljlhk.jpg   1548    1032  good   283   245   318   289\n",
       "3526               kljlhk.jpg   1548    1032  good   226   251   257   289\n",
       "3527               kljlhk.jpg   1548    1032  good   169   250   205   281\n",
       "\n",
       "[3528 rows x 8 columns]"
      ]
     },
     "execution_count": 151,
     "metadata": {},
     "output_type": "execute_result"
    }
   ],
   "source": [
    "train_file"
   ]
  },
  {
   "cell_type": "code",
   "execution_count": 135,
   "metadata": {},
   "outputs": [],
   "source": [
    "train_filename = train_file.filename.unique()\n",
    "test_filename = test_file.filename.unique()"
   ]
  },
  {
   "cell_type": "markdown",
   "metadata": {},
   "source": [
    "# Preprocessing : according to train/test file to select train area ,and use the mean size of train to resize train/test data, also do standardization by divided 255. Last, tranform the image data to nd.array"
   ]
  },
  {
   "cell_type": "code",
   "execution_count": 273,
   "metadata": {},
   "outputs": [],
   "source": [
    "inp_path = '/Users/tommy84729/python/DL/HW1/images'"
   ]
  },
  {
   "cell_type": "code",
   "execution_count": 372,
   "metadata": {},
   "outputs": [],
   "source": [
    "def preprocessing(data,width,height) : \n",
    "    a = []\n",
    "    width = width\n",
    "    height = height\n",
    "    for filename, xmin, xmax, ymin, ymax in zip(data['filename'], data['xmin'], data['xmax'], data['ymin'], data['ymax']) : \n",
    "        path_=os.path.join(inp_path,filename)\n",
    "        img = Image.open(path_).convert(mode = 'RGB').crop((xmin,ymin,xmax,ymax))\n",
    "        a.append(np.transpose(np.array(img.resize((width,height),Image.ANTIALIAS)))/255)\n",
    "    return a"
   ]
  },
  {
   "cell_type": "code",
   "execution_count": 663,
   "metadata": {},
   "outputs": [],
   "source": [
    "train = preprocessing(train_file,80, 80)\n",
    "test = preprocessing(test_file, 80, 80)"
   ]
  },
  {
   "cell_type": "code",
   "execution_count": 664,
   "metadata": {},
   "outputs": [],
   "source": [
    "train = np.array(train)\n",
    "test = np.array(test)"
   ]
  },
  {
   "cell_type": "code",
   "execution_count": 668,
   "metadata": {},
   "outputs": [
    {
     "data": {
      "text/plain": [
       "numpy.ndarray"
      ]
     },
     "execution_count": 668,
     "metadata": {},
     "output_type": "execute_result"
    }
   ],
   "source": [
    "kk = np.load()"
   ]
  },
  {
   "cell_type": "code",
   "execution_count": 665,
   "metadata": {},
   "outputs": [],
   "source": [
    "np.save('train_array', train)\n",
    "np.save('test_array' , test)"
   ]
  },
  {
   "cell_type": "code",
   "execution_count": 669,
   "metadata": {},
   "outputs": [],
   "source": [
    "label_train = []\n",
    "label_test = []\n",
    "for i in range(len(train_file['label'])) : \n",
    "    if train_file['label'][i] == 'bad' : \n",
    "        label_train.append(0)\n",
    "    elif train_file['label'][i] == 'none' : \n",
    "        label_train.append(1)\n",
    "    else :\n",
    "        label_train.append(2)\n",
    "\n",
    "for i in range(len(test_file['label'])) : \n",
    "    if test_file['label'][i] == 'bad' : \n",
    "        label_test.append(0)\n",
    "    elif test_file['label'][i] == 'none' : \n",
    "        label_test.append(1)\n",
    "    else :\n",
    "        label_test.append(2)\n",
    "label_train = np.array(label_train)\n",
    "label_test = np.array(label_test)"
   ]
  },
  {
   "cell_type": "code",
   "execution_count": 670,
   "metadata": {},
   "outputs": [],
   "source": [
    "np.save('label_train_array', label_train)\n",
    "np.save('label_test_array' , label_test)"
   ]
  },
  {
   "cell_type": "markdown",
   "metadata": {},
   "source": [
    "# CNN_Model by pytorch"
   ]
  },
  {
   "cell_type": "markdown",
   "metadata": {},
   "source": [
    "## Data preparation"
   ]
  },
  {
   "cell_type": "code",
   "execution_count": 405,
   "metadata": {},
   "outputs": [],
   "source": [
    "feature_train = torch.from_numpy(train)\n",
    "feature_test = torch.from_numpy(test)\n",
    "target_train = torch.from_numpy(label_train).type(torch.LongTensor)\n",
    "target_test = torch.from_numpy(label_test).type(torch.LongTensor)"
   ]
  },
  {
   "cell_type": "code",
   "execution_count": 406,
   "metadata": {},
   "outputs": [
    {
     "data": {
      "text/plain": [
       "3528"
      ]
     },
     "execution_count": 406,
     "metadata": {},
     "output_type": "execute_result"
    }
   ],
   "source": [
    "len(feature_train)"
   ]
  },
  {
   "cell_type": "code",
   "execution_count": 407,
   "metadata": {},
   "outputs": [],
   "source": [
    "train = torch.utils.data.TensorDataset(feature_train, target_train)\n",
    "test = torch.utils.data.TensorDataset(feature_test, target_test)"
   ]
  },
  {
   "cell_type": "markdown",
   "metadata": {},
   "source": [
    "## Hyper parameter"
   ]
  },
  {
   "cell_type": "code",
   "execution_count": 650,
   "metadata": {},
   "outputs": [],
   "source": [
    "learning_rate = 0.005\n",
    "batch_size = 200\n",
    "epochs = 50"
   ]
  },
  {
   "cell_type": "code",
   "execution_count": 613,
   "metadata": {},
   "outputs": [],
   "source": [
    "train_loader = torch.utils.data.DataLoader(train, batch_size = batch_size, shuffle = True, drop_last = False)\n",
    "test_loader = torch.utils.data.DataLoader(test, batch_size = batch_size, shuffle = True, drop_last = False)"
   ]
  },
  {
   "cell_type": "markdown",
   "metadata": {},
   "source": [
    "## Build Model"
   ]
  },
  {
   "cell_type": "code",
   "execution_count": 546,
   "metadata": {},
   "outputs": [
    {
     "data": {
      "text/plain": [
       "(torch.Size([200, 3, 80, 80]), torch.Size([200]))"
      ]
     },
     "execution_count": 546,
     "metadata": {},
     "output_type": "execute_result"
    }
   ],
   "source": [
    "images,labels=next(iter(train_loader))\n",
    "images.shape,labels.shape"
   ]
  },
  {
   "cell_type": "code",
   "execution_count": 568,
   "metadata": {},
   "outputs": [],
   "source": [
    "class CNN(nn.Module) : \n",
    "    def __init__(self) : \n",
    "        super(CNN, self).__init__() \n",
    "        ## cnn input(3,80,80)\n",
    "        self.cnn_1 = nn.Conv2d(in_channels = 3, out_channels = 16, kernel_size = 5, stride = 1, padding = 0) # out_put shape : 16*76*76\n",
    "        # out_channels : filter的個數，kernel_size : feature_detector size(5*5), stride : 移動步伐 , padding = 0 : 周圍不補零 \n",
    "        self.bn1 = nn.BatchNorm2d(num_features=16)\n",
    "        self.relu = nn.LeakyReLU()\n",
    "        self.maxpool_1 = nn.MaxPool2d(kernel_size = 2) # out_put shape : 16*38*38\n",
    "        # kernel : matrix size \n",
    "        self.cnn_2 = nn.Conv2d(in_channels = 16, out_channels = 32, kernel_size = 5, stride = 1, padding = 0) # out_put shape : 30*34*34\n",
    "        self.bn2 = nn.BatchNorm2d(num_features=32)\n",
    "        self.maxpool_2 = nn.MaxPool2d(kernel_size = 2) # 30*17*17\n",
    "        self.cnn_3 = nn.Conv2d(in_channels = 32, out_channels = 16, kernel_size = 3, stride = 1, padding = 0) # out_put shape : 16*14*14\n",
    "        self.bn3 = nn.BatchNorm2d(num_features=16)\n",
    "        self.maxpool_3 = nn.MaxPool2d(kernel_size = 2) # 16*7*7\n",
    "        self.cnn_4 = nn.Conv2d(in_channels = 16, out_channels = 8, kernel_size = 3, stride = 1, padding = 0) # out_put shape : 8*5*5\n",
    "        self.bn4 = nn.BatchNorm2d(num_features=8)\n",
    "        self.maxpool_4 = nn.MaxPool2d(kernel_size = 2) # 8*2*2\n",
    "        self.fc1 = nn.Linear(8 * 2 * 2, 64) \n",
    "        self.bn5 = nn.BatchNorm1d(num_features=64)\n",
    "        self.fc2 = nn.Linear(64, 3) \n",
    "        self.bn6 = nn.BatchNorm1d(num_features=3)\n",
    "        \n",
    "    def forward(self, x) : \n",
    "        x = x.float()\n",
    "        out = self.cnn_1(x) \n",
    "        out = self.bn1(out)\n",
    "        out = self.relu(out)\n",
    "        out = self.maxpool_1(out)\n",
    "        out = self.cnn_2(out) \n",
    "        out = self.bn2(out)\n",
    "        out = self.relu(out) \n",
    "        out = self.maxpool_2(out) \n",
    "        out = self.cnn_3(out)\n",
    "        out = self.bn3(out) \n",
    "        out = self.relu(out)\n",
    "        out = self.maxpool_3(out) \n",
    "        out = self.cnn_4(out) \n",
    "        out = self.bn4(out)\n",
    "        out = self.relu(out)\n",
    "        out = self.maxpool_4(out)\n",
    " \n",
    "        out = out.view(-1, 8*2*2) # last CNN faltten con. Linear NN\n",
    "        out = self.fc1(out) # Linear function \n",
    "        out = self.bn5(out)\n",
    "        out = self.relu(out)\n",
    "        out = self.fc2(out)\n",
    "        out = self.bn6(out)        \n",
    "        out = self.relu(out)\n",
    "        \n",
    "        return fun.log_softmax(out, dim = 1)"
   ]
  },
  {
   "cell_type": "code",
   "execution_count": 651,
   "metadata": {},
   "outputs": [
    {
     "name": "stdout",
     "output_type": "stream",
     "text": [
      "CNN(\n",
      "  (cnn_1): Conv2d(3, 16, kernel_size=(5, 5), stride=(1, 1))\n",
      "  (relu_1): ReLU()\n",
      "  (maxpool_1): MaxPool2d(kernel_size=2, stride=2, padding=0, dilation=1, ceil_mode=False)\n",
      "  (cnn_2): Conv2d(16, 32, kernel_size=(5, 5), stride=(1, 1))\n",
      "  (relu_2): ReLU()\n",
      "  (maxpool_2): MaxPool2d(kernel_size=2, stride=2, padding=0, dilation=1, ceil_mode=False)\n",
      "  (cnn_3): Conv2d(32, 16, kernel_size=(3, 3), stride=(1, 1))\n",
      "  (relu_3): ReLU()\n",
      "  (maxpool_3): MaxPool2d(kernel_size=2, stride=2, padding=0, dilation=1, ceil_mode=False)\n",
      "  (cnn_4): Conv2d(16, 8, kernel_size=(3, 3), stride=(1, 1))\n",
      "  (relu_4): ReLU()\n",
      "  (maxpool_4): MaxPool2d(kernel_size=2, stride=2, padding=0, dilation=1, ceil_mode=False)\n",
      "  (fc1): Linear(in_features=32, out_features=32, bias=True)\n",
      "  (bn1): BatchNorm1d(32, eps=1e-05, momentum=0.1, affine=True, track_running_stats=True)\n",
      "  (relu_5): ReLU()\n",
      "  (fc2): Linear(in_features=32, out_features=3, bias=True)\n",
      ")\n"
     ]
    }
   ],
   "source": [
    "model = CNN().cuda()\n",
    "print(model)\n",
    "optimizer = torch.optim.Adam(model.parameters(), lr = learning_rate)  \n",
    "#loss_fun_1 = nn.CrossEntropyLoss()   \n",
    "#loss_fun_2 = nn.NLLLoss()\n",
    "\n",
    "def fit_model(model, optimizer, epoch, train_loader, test_loader, weight) : \n",
    "    train_loss = []\n",
    "    train_acc = []\n",
    "    test_loss = []\n",
    "    test_acc = []\n",
    "    if weight == 'True' : \n",
    "      loss_fun = nn.CrossEntropyLoss(weight = torch.tensor([1,6,0.2]).cuda())\n",
    "    else : \n",
    "      loss_fun = nn.CrossEntropyLoss()\n",
    "\n",
    "    for i in range(epoch) : \n",
    "        correct_train = 0\n",
    "        total_train = 0\n",
    "        total_test = 0\n",
    "        correct_test = 0\n",
    "        running_loss = 0.0\n",
    "        testing_loss = 0.0\n",
    "        predict_epoch = []\n",
    "        label_train = []\n",
    "        label_test = []\n",
    "        predict_epoch_test = []\n",
    "        print(f'epoch: {i+1}/{epoch}', end = '\\n')\n",
    "        for train ,label in (train_loader) : \n",
    "            train = train.cuda()\n",
    "            label = label.cuda()\n",
    "            optimizer.zero_grad() # forward \n",
    "            output = model(train)\n",
    "\n",
    "            loss = loss_fun(output,label)\n",
    "            running_loss += loss.item()\n",
    "            #a = list(model.parameters())[0].clone()\n",
    "            loss.backward() # gradient\n",
    "            optimizer.step() # update parameters\n",
    "            #b = list(model.parameters())[0].clone()\n",
    "            #print(torch.equal(a.data, b.data))\n",
    "            predict = torch.max(output.data,1)[1]\n",
    "            predict_epoch.extend(predict.cpu().numpy())\n",
    "            label_train.extend(label.cpu().numpy())\n",
    "            total_train += label.size(0)\n",
    "            correct_train += (predict == label).sum().item() ## correct num\n",
    "\n",
    "        train_acc.append(correct_train/total_train)\n",
    "        train_loss.append(running_loss)\n",
    "        for test ,label in (test_loader) : \n",
    "            #test, label = data\n",
    "            test , label = test.cuda(), label.cuda()\n",
    "            output = model(test)\n",
    "            #loss_test = loss_fun(output,label)\n",
    "            #testing_loss += loss_test.item()\n",
    "            predict = torch.max(output.data, 1)[1]\n",
    "            predict_epoch_test.extend(predict.cpu().numpy())\n",
    "            label_test.extend(label.cpu().numpy())\n",
    "            total_test +=label.size(0)\n",
    "            correct_test += (predict == label).sum().item()\n",
    "        test_acc.append(correct_test/total_test)\n",
    "        \n",
    "    return train_acc, train_loss, test_acc, confusion_matrix(label_train, predict_epoch), confusion_matrix(label_test, predict_epoch_test)"
   ]
  },
  {
   "cell_type": "code",
   "execution_count": 671,
   "metadata": {
    "collapsed": true,
    "jupyter": {
     "outputs_hidden": true
    }
   },
   "outputs": [
    {
     "name": "stdout",
     "output_type": "stream",
     "text": [
      "epoch: 1\n",
      "epoch: 2\n",
      "epoch: 3\n",
      "epoch: 4\n",
      "epoch: 5\n"
     ]
    },
    {
     "ename": "KeyboardInterrupt",
     "evalue": "",
     "output_type": "error",
     "traceback": [
      "\u001b[38;5;145mFile /Library/anaconda3/lib/python3.7/site-packages/IPython/core/\u001b[0m\u001b[1;38;5;231minteractiveshell.py\u001b[0m\u001b[38;5;145m, line 3325, in run_code\n\u001b[0m    \u001b[38;5;188m\u001b[0m\u001b[38;5;188mexec\u001b[0m\u001b[1;38;5;188m(\u001b[0m\u001b[38;5;188mcode_obj\u001b[0m\u001b[1;38;5;188m,\u001b[0m\u001b[38;5;188m \u001b[0m\u001b[38;5;188mself.user_global_ns\u001b[0m\u001b[1;38;5;188m,\u001b[0m\u001b[38;5;188m \u001b[0m\u001b[38;5;188mself.user_ns\u001b[0m\u001b[1;38;5;188m)\u001b[0m\u001b[38;5;188m\n\u001b[0m\u001b[38;5;145mFile \u001b[0m\u001b[1;38;5;231m<ipython-input-671-6de6726042c5>\u001b[0m\u001b[38;5;145m, line 1, in <module>\n\u001b[0m    \u001b[1;38;5;148mtrain_acc\u001b[0m\u001b[1;38;5;188m,\u001b[0m\u001b[38;5;188m \u001b[0m\u001b[1;38;5;184mtrain_loss\u001b[0m\u001b[1;38;5;188m,\u001b[0m\u001b[38;5;188m \u001b[0m\u001b[1;38;5;41mtest_acc\u001b[0m\u001b[1;38;5;188m,\u001b[0m\u001b[38;5;188m  \u001b[0m\u001b[1;38;5;178mcnf_train\u001b[0m\u001b[1;38;5;188m,\u001b[0m\u001b[38;5;188m \u001b[0m\u001b[1;38;5;184mcnf_test\u001b[0m\u001b[38;5;188m \u001b[0m\u001b[1;38;5;188m=\u001b[0m\u001b[38;5;188m \u001b[0m\u001b[38;5;188mfit_model\u001b[0m\u001b[1;38;5;188m(\u001b[0m\u001b[1;38;5;172mmodel\u001b[0m\u001b[1;38;5;188m,\u001b[0m\u001b[38;5;188m \u001b[0m\u001b[1;38;5;43minput_shape\u001b[0m\u001b[1;38;5;188m,\u001b[0m\u001b[38;5;188m \u001b[0m\u001b[1;38;5;44mloss_fun\u001b[0m\u001b[1;38;5;188m,\u001b[0m\u001b[38;5;188m \u001b[0m\u001b[1;38;5;26moptimizer\u001b[0m\u001b[1;38;5;188m,\u001b[0m\u001b[38;5;188m \u001b[0m\u001b[1;38;5;20mepochs\u001b[0m\u001b[1;38;5;188m,\u001b[0m\u001b[38;5;188m \u001b[0m\u001b[1;38;5;76mtrain_loader\u001b[0m\u001b[1;38;5;188m,\u001b[0m\u001b[38;5;188m \u001b[0m\u001b[1;38;5;76mtest_loader\u001b[0m\u001b[1;38;5;188m)\u001b[0m\u001b[38;5;188m\n\u001b[0m\u001b[38;5;102m    ..................................................\u001b[0m\n\u001b[1;38;5;148m     train_acc = [0.8032879818594104, 0.9197845804988662, 0.935374149659864, \n                  0.9401927437641724, 0.9404761904761905, 0.9452947845804989, \n                  0.9450113378684807, 0.9492630385487528, 0.9523809523809523, \n                  0.9458616780045351, 0.9441609977324263, 0.9444444444444444, \n                  0.9484126984126984, 0.9486961451247166, 0.9549319727891157, \n                  0.953798185941043, 0.9512471655328798, 0.95578231292517, 0.9\n                  589002267573696, 0.9583333333333334, 0.9569160997732427, 0.9\n                  554988662131519, 0.9554988662131519, 0.95578231292517, 0.955\n                  4988662131519, 0.961...\n\u001b[0m\u001b[1;38;5;184m     train_loss = [10.900695711374283, 4.836294069886208, 3.760323166847229, 3\n                   .2609471902251244, 3.1334699988365173, 2.9609225913882256, 2\n                   .9107043743133545, 2.727167010307312, 2.592418648302555, 2.6\n                   69857367873192, 2.910389170050621, 2.7306029945611954, 2.736\n                   0928058624268, 2.633697286248207, 2.439420387148857, 2.30063\n                   4317100048, 2.470782123506069, 2.333190120756626, 2.15651947\n                   25990295, 2.2743963077664375, 2.239690624177456, 2.324376501\n                   1429787, 2.2507427632808685, 2.1969915851950645, 2.132458291\n                   9478416, 2.023436732...\n\u001b[0m\u001b[1;38;5;41m     test_acc = [0.8578680203045685, 0.9060913705583756, 0.9010152284263959,\n                  0.9010152284263959, 0.9111675126903553, 0.9137055837563451,\n                  0.9010152284263959, 0.8984771573604061, 0.9213197969543148,\n                  0.9263959390862944, 0.8959390862944162, 0.916243654822335, \n                 0.9289340101522843, 0.8984771573604061, 0.9213197969543148, \n                 0.9035532994923858, 0.9111675126903553, 0.9390862944162437, \n                 0.9137055837563451, 0.9289340101522843, 0.9086294416243654, \n                 0.9390862944162437, 0.9467005076142132, 0.9111675126903553, \n                 0.9086294416243654,...\n\u001b[0m\u001b[1;38;5;178m     cnf_train = 3x3 array([[ 556    5   17]\n                            [  13   70   21]\n                            [  19    8 2819]])\n\u001b[0m\u001b[1;38;5;184m     cnf_test = 3x3 array([[ 72   1  16]\n                           [  6  13   3]\n                           [  2   4 277]])\n\u001b[0m\u001b[1;38;5;172m     model = CNN(\n               (cnn_1): Conv2d(3, 16, kernel_size=(5, 5), stride=(1, 1))\n               (relu_1): ReLU()\n               (maxpool_1): MaxPool2d(kernel_size=2, stride=2, padding=0,\n               dilation=1, ceil_mode=False)\n               (cnn_2): Conv2d(16, 32, kernel_size=(5, 5), stride=(1, 1))\n               (relu_2): ReLU()\n               (maxpool_2): MaxPool2d(kernel_size=2, stride=2, padding=0,\n               dilation=1, ceil_mode=False)\n               (cnn_3): Conv2d(32, 16, kernel_size=(3, 3), stride=(1, 1))\n               (relu_3): ReLU()\n               (maxpool_3): MaxPool2d(kernel_size=2, stride=2, padding=0,\n               dilation=1, cei...\n\u001b[0m\u001b[1;38;5;43m     input_shape = (-1, 3, 80, 80, )\n\u001b[0m\u001b[1;38;5;44m     loss_fun = CrossEntropyLoss()\n\u001b[0m\u001b[1;38;5;26m     optimizer = Adam (\n                 Parameter Group 0\n                     amsgrad: False\n                     betas: (0.9, 0.999)\n                     eps: 1e-08\n                     lr: 0.005\n                     weight_decay: 0\n                 )\n\u001b[0m\u001b[1;38;5;20m     epochs = 50\n\u001b[0m\u001b[1;38;5;76m     train_loader = <torch.utils.data.dataloader.DataLoader object at 0x1a60c755\n                     88>\n\u001b[0m\u001b[1;38;5;76m     test_loader = <torch.utils.data.dataloader.DataLoader object at 0x1a60c752\n                    08>\n\u001b[0m\u001b[38;5;102m    ..................................................\u001b[0m\n\n\u001b[38;5;145mFile \u001b[0m\u001b[1;38;5;231m<ipython-input-651-dcbbb3734d29>\u001b[0m\u001b[38;5;145m, line 32, in fit_model\n\u001b[0m\u001b[1;38;5;59m    7    \u001b[1;38;5;188mdef\u001b[0m\u001b[38;5;188m \u001b[0m\u001b[38;5;188mfit_model\u001b[0m\u001b[1;38;5;188m(\u001b[0m\u001b[38;5;172mmodel\u001b[0m\u001b[1;38;5;188m,\u001b[0m\u001b[38;5;188m \u001b[0m\u001b[38;5;43minput_shape\u001b[0m\u001b[1;38;5;188m,\u001b[0m\u001b[38;5;188m \u001b[0m\u001b[38;5;44mloss_fun\u001b[0m\u001b[1;38;5;188m,\u001b[0m\u001b[38;5;188m \u001b[0m\u001b[38;5;26moptimizer\u001b[0m\u001b[1;38;5;188m,\u001b[0m\u001b[38;5;188m \u001b[0m\u001b[38;5;20mepoch\u001b[0m\u001b[1;38;5;188m,\u001b[0m\u001b[38;5;188m \u001b[0m\u001b[38;5;76mtrain_loader\u001b[0m\u001b[1;38;5;188m,\u001b[0m\u001b[38;5;188m \u001b[0m\u001b[38;5;76mtest_loader\u001b[0m\u001b[1;38;5;188m)\u001b[0m\u001b[38;5;188m \u001b[0m\u001b[1;38;5;188m:\u001b[0m\u001b[38;5;188m \n\u001b[0m\u001b[0m\u001b[38;5;102m (...)\n\u001b[0m\u001b[1;38;5;59m    28   \u001b[38;5;188m\n\u001b[0m\u001b[0m\u001b[1;38;5;59m    29   \u001b[38;5;188m            \u001b[0m\u001b[38;5;112mloss\u001b[0m\u001b[38;5;188m \u001b[0m\u001b[1;38;5;188m=\u001b[0m\u001b[38;5;188m \u001b[0m\u001b[38;5;44mloss_fun\u001b[0m\u001b[1;38;5;188m(\u001b[0m\u001b[38;5;38moutput\u001b[0m\u001b[1;38;5;188m,\u001b[0m\u001b[38;5;44mlabel\u001b[0m\u001b[1;38;5;188m)\u001b[0m\u001b[38;5;188m\n\u001b[0m\u001b[0m\u001b[1;38;5;59m    30   \u001b[38;5;188m            \u001b[0m\u001b[38;5;76mrunning_loss\u001b[0m\u001b[38;5;188m \u001b[0m\u001b[1;38;5;188m+=\u001b[0m\u001b[38;5;188m \u001b[0m\u001b[38;5;188mloss.item\u001b[0m\u001b[1;38;5;188m(\u001b[0m\u001b[1;38;5;188m)\u001b[0m\u001b[38;5;188m\n\u001b[0m\u001b[0m\u001b[1;38;5;59m    31   \u001b[38;5;188m            \u001b[0m\u001b[38;5;59m#a = list(model.parameters())[0].clone()\u001b[0m\u001b[38;5;188m\n\u001b[0m\u001b[0m\u001b[1;38;5;188m--> 32   \u001b[38;5;188m            \u001b[0m\u001b[1;38;5;112mloss.backward\u001b[0m\u001b[1;38;5;188m(\u001b[0m\u001b[1;38;5;188m)\u001b[0m\u001b[38;5;188m \u001b[0m\u001b[38;5;59m# gradient\u001b[0m\u001b[38;5;188m\n\u001b[0m\u001b[0m\u001b[1;38;5;59m    33   \u001b[38;5;188m            \u001b[0m\u001b[38;5;178moptimizer.step\u001b[0m\u001b[1;38;5;188m(\u001b[0m\u001b[1;38;5;188m)\u001b[0m\u001b[38;5;188m \u001b[0m\u001b[38;5;59m# update parameters\u001b[0m\u001b[38;5;188m\n\u001b[0m\u001b[0m\u001b[38;5;102m    ..................................................\u001b[0m\n\u001b[38;5;172m     model = CNN(\n               (cnn_1): Conv2d(3, 16, kernel_size=(5, 5), stride=(1, 1))\n               (relu_1): ReLU()\n               (maxpool_1): MaxPool2d(kernel_size=2, stride=2, padding=0,\n               dilation=1, ceil_mode=False)\n               (cnn_2): Conv2d(16, 32, kernel_size=(5, 5), stride=(1, 1))\n               (relu_2): ReLU()\n               (maxpool_2): MaxPool2d(kernel_size=2, stride=2, padding=0,\n               dilation=1, ceil_mode=False)\n               (cnn_3): Conv2d(32, 16, kernel_size=(3, 3), stride=(1, 1))\n               (relu_3): ReLU()\n               (maxpool_3): MaxPool2d(kernel_size=2, stride=2, padding=0,\n               dilation=1, cei...\n\u001b[0m\u001b[38;5;43m     input_shape = (-1, 3, 80, 80, )\n\u001b[0m\u001b[38;5;44m     loss_fun = CrossEntropyLoss()\n\u001b[0m\u001b[38;5;26m     optimizer = Adam (\n                 Parameter Group 0\n                     amsgrad: False\n                     betas: (0.9, 0.999)\n                     eps: 1e-08\n                     lr: 0.005\n                     weight_decay: 0\n                 )\n\u001b[0m\u001b[38;5;20m     epoch = 50\n\u001b[0m\u001b[38;5;76m     train_loader = <torch.utils.data.dataloader.DataLoader object at 0x1a60c755\n                     88>\n\u001b[0m\u001b[38;5;76m     test_loader = <torch.utils.data.dataloader.DataLoader object at 0x1a60c752\n                    08>\n\u001b[0m\u001b[38;5;112m     loss = tensor(0.1002, grad_fn=<NllLossBackward>)\n\u001b[0m\u001b[38;5;38m     output = tensor([[-1.6613e-02, -4.4931e+00, -5.2419e+00],\n                      [-1.4847e+01, -9.8911e+00, -5.1020e-05],\n                      [-1.8724e+01, -1.3446e+01, -1.4305e-06],\n                      [-1.3954e+01, -9.9905e+00, -4.6729e-05],\n                      [-1.4404e+01, -9.2601e+00, -9.5720e-05],\n                      [-2.0025e+01, -1.7958e+01,  0.0000e+00],\n                      [-5.4364e-03, -5.9983e+00, -5.8298e+00],\n                      [-1.4505e+01, -1.6588e+01, -5.9605e-07],\n                      [-1.0959e+01, -7.9817e+00, -3.5911e-04],\n                      [-1.4924e+01, -1.5592e+01, -4.7684e-07],\n                      [-...\n\u001b[0m\u001b[38;5;44m     label = tensor([0, 2, 2, 2, 2, 2, 0, 2, 2, 2, 2, 2, 2, 0, 2, 0, 2, 2\n              , 2, 2, 2, 2, 0, 0,\n                     0, 0, 2, 2, 1, 2, 0, 2, 2, 2, 2, 0, 2, 2, 2, 2, 2, 2\n              , 2, 2, 2, 2, 2, 2,\n                     0, 2, 2, 2, 2, 2, 2, 2, 2, 2, 2, 2, 2, 1, 0, 2, 2, 0\n              , 2, 0, 2, 2, 2, 1,\n                     1, 2, 2, 0, 2, 2, 2, 0, 2, 2, 0, 2, 2, 2, 0, 2, 2, 2\n              , 0, 2, 2, 2, 2, 2,\n                     2, 2, 2, 2, 2, 2, 2, 2, 2, 2, 0, 0, 2, 2, 2, 1, 2, 2\n              , 2, 2, 2, 2, 2, 2,\n                     0, 1, 2, 0, 2, 2, 2, 2, 2, 2, 2, 2, 2, 0, 2, 2, 2, 2\n              , 2, 1, 2, 2, 0, 2,\n                     2, 2, 2, 1,...\n\u001b[0m\u001b[38;5;76m     running_loss = 0.9841709230095148\n\u001b[0m\u001b[1;38;5;112m     loss.backward = <method 'Tensor.backward' of tensor(0.1002, grad_fn=<NllLoss\n                      Backward>) tensor.py:167>\n\u001b[0m\u001b[38;5;178m     optimizer.step = <method 'Adam.step' of Adam (\n                      Parameter Group 0\n                          amsgrad: False\n                          betas: (0.9, 0.999)\n                          eps: 1e-08\n                          lr: 0.005\n                          weight_decay: 0\n                      ) adam.py:49>\n\u001b[0m\u001b[38;5;102m    ..................................................\u001b[0m\n\n\u001b[38;5;145mFile /Library/anaconda3/lib/python3.7/site-packages/torch/\u001b[0m\u001b[1;38;5;231mtensor.py\u001b[0m\u001b[38;5;145m, line 195, in backward\n\u001b[0m\u001b[1;38;5;59m    167  \u001b[38;5;188m\u001b[0m\u001b[1;38;5;188mdef\u001b[0m\u001b[38;5;188m \u001b[0m\u001b[38;5;188mbackward\u001b[0m\u001b[1;38;5;188m(\u001b[0m\u001b[1;38;5;112mself\u001b[0m\u001b[1;38;5;188m,\u001b[0m\u001b[38;5;188m \u001b[0m\u001b[1;38;5;32mgradient\u001b[0m\u001b[1;38;5;188m=\u001b[0m\u001b[1;38;5;188mNone\u001b[0m\u001b[1;38;5;188m,\u001b[0m\u001b[38;5;188m \u001b[0m\u001b[1;38;5;32mretain_graph\u001b[0m\u001b[1;38;5;188m=\u001b[0m\u001b[1;38;5;188mNone\u001b[0m\u001b[1;38;5;188m,\u001b[0m\u001b[38;5;188m \u001b[0m\u001b[1;38;5;172mcreate_graph\u001b[0m\u001b[1;38;5;188m=\u001b[0m\u001b[1;38;5;188mFalse\u001b[0m\u001b[1;38;5;188m)\u001b[0m\u001b[1;38;5;188m:\u001b[0m\u001b[38;5;188m\n\u001b[0m\u001b[0m\u001b[38;5;102m (...)\n\u001b[0m\u001b[1;38;5;59m    191  \u001b[38;5;188m        create_graph (bool, optional): If ``True``, graph of the derivative will\n\u001b[0m\u001b[0m\u001b[1;38;5;59m    192  \u001b[38;5;188m            be constructed, allowing to compute higher order derivative\n\u001b[0m\u001b[0m\u001b[1;38;5;59m    193  \u001b[38;5;188m            products. Defaults to ``False``.\n\u001b[0m\u001b[0m\u001b[1;38;5;59m    194  \u001b[38;5;188m    \"\"\"\n\u001b[0m\u001b[0m\u001b[1;38;5;188m--> 195  \u001b[38;5;188m    \u001b[0m\u001b[1;38;5;43mtorch.autograd.backward\u001b[0m\u001b[1;38;5;188m(\u001b[0m\u001b[1;38;5;112mself\u001b[0m\u001b[1;38;5;188m,\u001b[0m\u001b[38;5;188m \u001b[0m\u001b[1;38;5;32mgradient\u001b[0m\u001b[1;38;5;188m,\u001b[0m\u001b[38;5;188m \u001b[0m\u001b[1;38;5;32mretain_graph\u001b[0m\u001b[1;38;5;188m,\u001b[0m\u001b[38;5;188m \u001b[0m\u001b[1;38;5;172mcreate_graph\u001b[0m\u001b[1;38;5;188m)\u001b[0m\u001b[38;5;188m\n\u001b[0m\u001b[0m\u001b[38;5;102m    ..................................................\u001b[0m\n\u001b[1;38;5;112m     self = tensor(0.1002, grad_fn=<NllLossBackward>)\n\u001b[0m\u001b[1;38;5;32m     gradient = None\n\u001b[0m\u001b[1;38;5;32m     retain_graph = None\n\u001b[0m\u001b[1;38;5;172m     create_graph = False\n\u001b[0m\u001b[1;38;5;43m     torch.autograd.backward = <function 'backward' __init__.py:44>\n\u001b[0m\u001b[38;5;102m    ..................................................\u001b[0m\n\n\u001b[38;5;145mFile /Library/anaconda3/lib/python3.7/site-packages/torch/autograd/\u001b[0m\u001b[1;38;5;231m__init__.py\u001b[0m\u001b[38;5;145m, line 99, in backward\n\u001b[0m\u001b[1;38;5;59m    44   \u001b[1;38;5;188mdef\u001b[0m\u001b[38;5;188m \u001b[0m\u001b[38;5;188mbackward\u001b[0m\u001b[1;38;5;188m(\u001b[0m\u001b[38;5;184mtensors\u001b[0m\u001b[1;38;5;188m,\u001b[0m\u001b[38;5;188m \u001b[0m\u001b[38;5;40mgrad_tensors\u001b[0m\u001b[1;38;5;188m=\u001b[0m\u001b[1;38;5;188mNone\u001b[0m\u001b[1;38;5;188m,\u001b[0m\u001b[38;5;188m \u001b[0m\u001b[38;5;172mretain_graph\u001b[0m\u001b[1;38;5;188m=\u001b[0m\u001b[1;38;5;188mNone\u001b[0m\u001b[1;38;5;188m,\u001b[0m\u001b[38;5;188m \u001b[0m\u001b[38;5;172mcreate_graph\u001b[0m\u001b[1;38;5;188m=\u001b[0m\u001b[1;38;5;188mFalse\u001b[0m\u001b[1;38;5;188m,\u001b[0m\u001b[38;5;188m \u001b[0m\u001b[38;5;32mgrad_variables\u001b[0m\u001b[1;38;5;188m=\u001b[0m\u001b[1;38;5;188mNone\u001b[0m\u001b[1;38;5;188m)\u001b[0m\u001b[1;38;5;188m:\u001b[0m\u001b[38;5;188m\n\u001b[0m\u001b[0m\u001b[38;5;102m (...)\n\u001b[0m\u001b[1;38;5;59m    95   \u001b[38;5;188m        \u001b[0m\u001b[38;5;172mretain_graph\u001b[0m\u001b[38;5;188m \u001b[0m\u001b[1;38;5;188m=\u001b[0m\u001b[38;5;188m \u001b[0m\u001b[38;5;172mcreate_graph\u001b[0m\u001b[38;5;188m\n\u001b[0m\u001b[0m\u001b[1;38;5;59m    96   \u001b[38;5;188m\n\u001b[0m\u001b[0m\u001b[1;38;5;59m    97   \u001b[38;5;188m    \u001b[0m\u001b[38;5;188mVariable._execution_engine.run_backward\u001b[0m\u001b[1;38;5;188m(\u001b[0m\u001b[38;5;188m\n\u001b[0m\u001b[0m\u001b[1;38;5;59m    98   \u001b[38;5;188m        \u001b[0m\u001b[38;5;184mtensors\u001b[0m\u001b[1;38;5;188m,\u001b[0m\u001b[38;5;188m \u001b[0m\u001b[38;5;40mgrad_tensors\u001b[0m\u001b[1;38;5;188m,\u001b[0m\u001b[38;5;188m \u001b[0m\u001b[38;5;172mretain_graph\u001b[0m\u001b[1;38;5;188m,\u001b[0m\u001b[38;5;188m \u001b[0m\u001b[38;5;172mcreate_graph\u001b[0m\u001b[1;38;5;188m,\u001b[0m\u001b[38;5;188m\n\u001b[0m\u001b[0m\u001b[1;38;5;188m--> 99   \u001b[38;5;188m        \u001b[0m\u001b[38;5;188mallow_unreachable\u001b[0m\u001b[1;38;5;188m=\u001b[0m\u001b[1;38;5;188mTrue\u001b[0m\u001b[1;38;5;188m)\u001b[0m\u001b[38;5;188m  \u001b[0m\u001b[38;5;59m# allow_unreachable flag\u001b[0m\u001b[38;5;188m\n\u001b[0m\u001b[0m\u001b[38;5;102m    ..................................................\u001b[0m\n\u001b[38;5;184m     tensors = (tensor(0.1002, grad_fn=<NllLossBackward>), )\n\u001b[0m\u001b[38;5;40m     grad_tensors = (tensor(1.), )\n\u001b[0m\u001b[38;5;172m     retain_graph = False\n\u001b[0m\u001b[38;5;172m     create_graph = False\n\u001b[0m\u001b[38;5;32m     grad_variables = None\n\u001b[0m\u001b[38;5;102m    ..................................................\u001b[0m\n\n---- (full traceback above) ----\n\u001b[38;5;145mFile /Library/anaconda3/lib/python3.7/site-packages/IPython/core/\u001b[0m\u001b[1;38;5;231minteractiveshell.py\u001b[0m\u001b[38;5;145m, line 3325, in run_code\n\u001b[0m    \u001b[38;5;188m\u001b[0m\u001b[38;5;188mexec\u001b[0m\u001b[1;38;5;188m(\u001b[0m\u001b[38;5;188mcode_obj\u001b[0m\u001b[1;38;5;188m,\u001b[0m\u001b[38;5;188m \u001b[0m\u001b[38;5;188mself.user_global_ns\u001b[0m\u001b[1;38;5;188m,\u001b[0m\u001b[38;5;188m \u001b[0m\u001b[38;5;188mself.user_ns\u001b[0m\u001b[1;38;5;188m)\u001b[0m\u001b[38;5;188m\n\u001b[0m\u001b[38;5;145mFile \u001b[0m\u001b[1;38;5;231m<ipython-input-671-6de6726042c5>\u001b[0m\u001b[38;5;145m, line 1, in <module>\n\u001b[0m    \u001b[38;5;188mtrain_acc\u001b[0m\u001b[1;38;5;188m,\u001b[0m\u001b[38;5;188m \u001b[0m\u001b[38;5;188mtrain_loss\u001b[0m\u001b[1;38;5;188m,\u001b[0m\u001b[38;5;188m \u001b[0m\u001b[38;5;188mtest_acc\u001b[0m\u001b[1;38;5;188m,\u001b[0m\u001b[38;5;188m  \u001b[0m\u001b[38;5;188mcnf_train\u001b[0m\u001b[1;38;5;188m,\u001b[0m\u001b[38;5;188m \u001b[0m\u001b[38;5;188mcnf_test\u001b[0m\u001b[38;5;188m \u001b[0m\u001b[1;38;5;188m=\u001b[0m\u001b[38;5;188m \u001b[0m\u001b[38;5;188mfit_model\u001b[0m\u001b[1;38;5;188m(\u001b[0m\u001b[38;5;188mmodel\u001b[0m\u001b[1;38;5;188m,\u001b[0m\u001b[38;5;188m \u001b[0m\u001b[38;5;188minput_shape\u001b[0m\u001b[1;38;5;188m,\u001b[0m\u001b[38;5;188m \u001b[0m\u001b[38;5;188mloss_fun\u001b[0m\u001b[1;38;5;188m,\u001b[0m\u001b[38;5;188m \u001b[0m\u001b[38;5;188moptimizer\u001b[0m\u001b[1;38;5;188m,\u001b[0m\u001b[38;5;188m \u001b[0m\u001b[38;5;188mepochs\u001b[0m\u001b[1;38;5;188m,\u001b[0m\u001b[38;5;188m \u001b[0m\u001b[38;5;188mtrain_loader\u001b[0m\u001b[1;38;5;188m,\u001b[0m\u001b[38;5;188m \u001b[0m\u001b[38;5;188mtest_loader\u001b[0m\u001b[1;38;5;188m)\u001b[0m\u001b[38;5;188m\n\u001b[0m\u001b[38;5;145mFile \u001b[0m\u001b[1;38;5;231m<ipython-input-651-dcbbb3734d29>\u001b[0m\u001b[38;5;145m, line 32, in fit_model\n\u001b[0m    \u001b[38;5;188m\u001b[0m\u001b[38;5;188mloss.backward\u001b[0m\u001b[1;38;5;188m(\u001b[0m\u001b[1;38;5;188m)\u001b[0m\u001b[38;5;188m \u001b[0m\u001b[38;5;59m# gradient\u001b[0m\u001b[38;5;188m\n\u001b[0m\u001b[38;5;145mFile /Library/anaconda3/lib/python3.7/site-packages/torch/\u001b[0m\u001b[1;38;5;231mtensor.py\u001b[0m\u001b[38;5;145m, line 195, in backward\n\u001b[0m    \u001b[38;5;188m\u001b[0m\u001b[38;5;188mtorch.autograd.backward\u001b[0m\u001b[1;38;5;188m(\u001b[0m\u001b[38;5;188mself\u001b[0m\u001b[1;38;5;188m,\u001b[0m\u001b[38;5;188m \u001b[0m\u001b[38;5;188mgradient\u001b[0m\u001b[1;38;5;188m,\u001b[0m\u001b[38;5;188m \u001b[0m\u001b[38;5;188mretain_graph\u001b[0m\u001b[1;38;5;188m,\u001b[0m\u001b[38;5;188m \u001b[0m\u001b[38;5;188mcreate_graph\u001b[0m\u001b[1;38;5;188m)\u001b[0m\u001b[38;5;188m\n\u001b[0m\u001b[38;5;145mFile /Library/anaconda3/lib/python3.7/site-packages/torch/autograd/\u001b[0m\u001b[1;38;5;231m__init__.py\u001b[0m\u001b[38;5;145m, line 99, in backward\n\u001b[0m    \u001b[38;5;188m\u001b[0m\u001b[38;5;188mallow_unreachable\u001b[0m\u001b[1;38;5;188m=\u001b[0m\u001b[1;38;5;188mTrue\u001b[0m\u001b[1;38;5;188m)\u001b[0m\u001b[38;5;188m  \u001b[0m\u001b[38;5;59m# allow_unreachable flag\u001b[0m\u001b[38;5;188m\n\u001b[0m\n\u001b[1;38;5;160mKeyboardInterrupt\u001b[0m\u001b[1;38;5;160m\u001b[0m"
     ]
    }
   ],
   "source": [
    "train_acc, train_loss, test_acc,  cnf_train, cnf_test = fit_model(model, input_shape, loss_fun, optimizer, epochs, train_loader, test_loader)"
   ]
  },
  {
   "cell_type": "code",
   "execution_count": 661,
   "metadata": {},
   "outputs": [
    {
     "data": {
      "text/plain": [
       "array([[ 72,   1,  16],\n",
       "       [  6,  13,   3],\n",
       "       [  2,   4, 277]])"
      ]
     },
     "execution_count": 661,
     "metadata": {},
     "output_type": "execute_result"
    }
   ],
   "source": [
    "cnf_test"
   ]
  },
  {
   "cell_type": "code",
   "execution_count": 634,
   "metadata": {},
   "outputs": [
    {
     "data": {
      "text/plain": [
       "[0.7786281179138322,\n",
       " 0.9291383219954649,\n",
       " 0.9382086167800453,\n",
       " 0.9447278911564626,\n",
       " 0.9458616780045351,\n",
       " 0.9469954648526077,\n",
       " 0.9503968253968254,\n",
       " 0.9461451247165533,\n",
       " 0.9529478458049887,\n",
       " 0.953514739229025]"
      ]
     },
     "execution_count": 634,
     "metadata": {},
     "output_type": "execute_result"
    }
   ],
   "source": [
    "train_acc"
   ]
  },
  {
   "cell_type": "code",
   "execution_count": 658,
   "metadata": {},
   "outputs": [
    {
     "data": {
      "text/plain": [
       "<matplotlib.legend.Legend at 0x1a4b340048>"
      ]
     },
     "execution_count": 658,
     "metadata": {},
     "output_type": "execute_result"
    },
    {
     "data": {
      "image/png": "[encoded data removed]",
      "text/plain": [
       "<Figure size 432x288 with 1 Axes>"
      ]
     },
     "metadata": {
      "needs_background": "light"
     },
     "output_type": "display_data"
    }
   ],
   "source": [
    "plt.plot(range(epochs), train_loss, 'b-', label='Training_loss')\n",
    "plt.xlabel('Number of epochs')\n",
    "plt.ylabel('Loss')\n",
    "plt.title('Training Loss')\n",
    "plt.legend()\n",
    "plt.savefig('/content/drive/My Drive/DL/DL_HW1/train_loss_q2', dpi = 600)"
   ]
  },
  {
   "cell_type": "code",
   "execution_count": 655,
   "metadata": {},
   "outputs": [
    {
     "data": {
      "text/plain": [
       "<matplotlib.legend.Legend at 0x1a4b42d320>"
      ]
     },
     "execution_count": 655,
     "metadata": {},
     "output_type": "execute_result"
    },
    {
     "data": {
      "image/png": "[encoded data removed]",
      "text/plain": [
       "<Figure size 432x288 with 1 Axes>"
      ]
     },
     "metadata": {
      "needs_background": "light"
     },
     "output_type": "display_data"
    }
   ],
   "source": [
    "plt.plot(range(epochs), train_acc, 'b-', label='Training_accuracy')\n",
    "plt.plot(range(epochs), test_acc, 'r-', label='Testing_accuracy')\n",
    "plt.xlabel('Number of epochs')\n",
    "plt.ylabel('accuracy')\n",
    "plt.title('Accuracy')\n",
    "plt.legend()\n",
    "plt.savefig('/content/drive/My Drive/DL/DL_HW1/accuracy_q2', dpi = 600)"
   ]
  },
  {
   "cell_type": "code",
   "execution_count": null,
   "metadata": {},
   "outputs": [],
   "source": [
    "for i in range(3) : \n",
    "  print(f'label_{i} accuracy : ',cnf_test[i,i]/np.sum(cnf_test[i,:]))"
   ]
  },
  {
   "cell_type": "code",
   "execution_count": null,
   "metadata": {},
   "outputs": [],
   "source": [
    "model_w = CNN().cuda()\n",
    "optimizer_w = torch.optim.Adam(model_w.parameters(), lr = learning_rate) \n",
    "train_acc, train_loss, test_acc,  cnf_train, cnf_test = fit_model(model_w,  optimizer_w, epochs, train_loader, test_loader, 'True')"
   ]
  },
  {
   "cell_type": "code",
   "execution_count": null,
   "metadata": {},
   "outputs": [],
   "source": [
    "plt.plot(range(epochs), train_loss, 'b-', label='Training_loss')\n",
    "plt.xlabel('Number of epochs')\n",
    "plt.ylabel('Loss')\n",
    "plt.title('Loss of weighted model')\n",
    "plt.legend()"
   ]
  },
  {
   "cell_type": "code",
   "execution_count": null,
   "metadata": {},
   "outputs": [],
   "source": [
    "plt.plot(range(epochs), train_acc, 'b-', label='Training_accuracy')\n",
    "plt.plot(range(epochs), test_acc, 'r-', label='Testing_accuracy')\n",
    "plt.xlabel('Number of epochs')\n",
    "plt.ylabel('accuracy')\n",
    "plt.legend()"
   ]
  },
  {
   "cell_type": "code",
   "execution_count": null,
   "metadata": {},
   "outputs": [],
   "source": [
    "for i in range(3) : \n",
    "  print(f'label_{i} accuracy : ',cnf_test[i,i]/np.sum(cnf_test[i,:]))"
   ]
  }
 ],
 "metadata": {
  "kernelspec": {
   "display_name": "Python 3",
   "language": "python",
   "name": "python3"
  },
  "language_info": {
   "codemirror_mode": {
    "name": "ipython",
    "version": 3
   },
   "file_extension": ".py",
   "mimetype": "text/x-python",
   "name": "python",
   "nbconvert_exporter": "python",
   "pygments_lexer": "ipython3",
   "version": "3.7.3"
  }
 },
 "nbformat": 4,
 "nbformat_minor": 4
}
