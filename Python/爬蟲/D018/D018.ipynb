{
 "cells": [
  {
   "cell_type": "markdown",
   "metadata": {},
   "source": [
    "# 瀏覽器開發者工具介紹\n",
    "\n",
    "\n",
    "* 知道瀏覽器的開發者工具\n",
    "* 能夠使用瀏覽器的開發者工具觀察資料\n"
   ]
  },
  {
   "cell_type": "markdown",
   "metadata": {},
   "source": [
    "## 作業目標\n",
    "\n",
    "利用開發者工具去尋找「 https://www.zhihu.com/explore 」和「 http://aicoin.cn 」網站的 HTTP 網址，以及他所帶的 Headers 分別是哪些，試著用 request 去發送有沒有帶 Headers 的差異。\n"
   ]
  },
  {
   "cell_type": "markdown",
   "metadata": {},
   "source": [
    "### 1. https://www.zhihu.com/explore "
   ]
  },
  {
   "cell_type": "code",
   "execution_count": 2,
   "metadata": {
    "scrolled": true
   },
   "outputs": [
    {
     "name": "stdout",
     "output_type": "stream",
     "text": [
      "<html>\n",
      "<head><title>400 Bad Request</title></head>\n",
      "<body bgcolor=\"white\">\n",
      "<center><h1>400 Bad Request</h1></center>\n",
      "<hr><center>openresty</center>\n",
      "</body>\n",
      "</html>\n",
      "\n"
     ]
    }
   ],
   "source": [
    "import requests\n",
    "url = 'https://www.zhihu.com/explore'\n",
    "r = requests.get(url)\n",
    "r.encoding = 'utf-8'\n",
    "print(r.text)"
   ]
  },
  {
   "cell_type": "markdown",
   "metadata": {},
   "source": [
    "### 利用查看開發者工具觀察 Headers\n",
    "![](/Users/tommy84729/Desktop/D018.png)"
   ]
  },
  {
   "cell_type": "code",
   "execution_count": 2,
   "metadata": {},
   "outputs": [
    {
     "name": "stdout",
     "output_type": "stream",
     "text": [
      "<!doctype html>\n",
      "<html lang=\"zh\" data-hairline=\"true\" data-theme=\"light\"><head><meta charSet=\"utf-8\"/><title data-react-helmet=\"true\">知乎 - 有问题，上知乎</title><meta name=\"viewport\" content=\"width=device-width,initial-scale=1,maximum-scale=1\"/><meta name=\"renderer\" content=\"webkit\"/><meta name=\"force-rendering\" content=\"webkit\"/><meta http-equiv=\"X-UA-Compatible\" content=\"IE=edge,chrome=1\"/><meta name=\"google-site-verification\" content=\"FTeR0c8arOPKh8c5DYh_9uu98_zJbaWw53J-Sch9MTg\"/><meta name=\"description\" property=\"og:description\" content=\"有问题，上知乎。知乎，可信赖的问答社区，以让每个人高效获得可信赖的解答为使命。知乎凭借认真、专业和友善的社区氛围，结构化、易获得的优质内容，基于问答的内容生产方式和独特的社区机制，吸引、聚集了各行各业中大量的亲历者、内行人、领域专家、领域爱好者，将高质量的内容透过人的节点来成规模地生产和分享。用户通过问答等交流方式建立信任和连接，打造和提升个人影响力，并发现、获得新机会。\"/><link data-react-helmet=\"true\" rel=\"apple-touch-icon\" href=\"https://static.zhihu.com/heifetz/assets/apple-touch-icon-152.67c7b278.png\"/><link data-react-helmet=\"true\" rel=\"apple-touch-icon\" href=\"https://static.zhihu.com/heifetz/assets/apple-touch-icon-152.67c7b278.png\"\n"
     ]
    }
   ],
   "source": [
    "import requests\n",
    "url = 'http://www.zhihu.com'\n",
    "\n",
    "headers = {\n",
    "'authority': 'zhihu-web-analytics.zhihu.com',\n",
    "'method' : 'POST',\n",
    "'path': '/api/v2/za/logs/batch',\n",
    "'scheme': 'https',\n",
    "'accept': '*/*',\n",
    "'accept-encoding': 'gzip, deflate, br',\n",
    "'accept-language': 'zh-TW,zh;q=0.9,en-US;q=0.8,en;q=0.7,zh-CN;q=0.6',\n",
    "'content-encoding': 'gzip',\n",
    "'content-length': '437',\n",
    "'content-type': 'application/x-protobuf',\n",
    "'origin': 'https://www.zhihu.com',\n",
    "'referer': 'https://www.zhihu.com/explore',\n",
    "'sec-fetch-mode': 'cors',\n",
    "'sec-fetch-site': 'same-site',\n",
    "'user-agent': 'Mozilla/5.0 (Macintosh; Intel Mac OS X 10_15_2) AppleWebKit/537.36 (KHTML, like Gecko) Chrome/79.0.3945.88 Safari/537.36',\n",
    "'x-za-batch-size': '1',\n",
    "'x-za-clientid': '4abc2b0f-4c24-44e6-8d1f-df7f868d43ca',\n",
    "'x-za-log-version': '2.6.25',\n",
    "'x-za-platform': 'DesktopWeb',\n",
    "'x-za-product': 'Zhihu'\n",
    "}\n",
    "\n",
    "r = requests.get(url, headers=headers)\n",
    "\n",
    "r.encoding = 'utf-8'\n",
    "print(r.text[:1000])"
   ]
  },
  {
   "cell_type": "markdown",
   "metadata": {},
   "source": [
    "### 2. http://aicoin.cn"
   ]
  },
  {
   "cell_type": "code",
   "execution_count": 4,
   "metadata": {},
   "outputs": [
    {
     "name": "stdout",
     "output_type": "stream",
     "text": [
      "<!DOCTYPE html><html style=\"height:100%;width:100%\"><head><meta http-equiv=\"Content-Type\" content=\"text/html; charset=utf-8\" /><meta http-equiv=\"Server\" content=\"CloudWAF\" /><title id=\"title\">访问被拦截！</title><script>function bindall() {var requestid = \"30-30-13-20200113215711-20889d7a\";if(requestid==null || requestid == \"\"){return;}document.getElementById(\"d\").innerText = requestid;}</script></head><body onload=\"bindall()\" style=\"height:100%;width:100%;margin:0px;font-family:Microsoft yahei\"><div>\n"
     ]
    }
   ],
   "source": [
    "import requests\n",
    "\n",
    "url = 'http://aicoin.cn/'\n",
    "r = requests.get(url)\n",
    "r.encoding = 'utf-8'\n",
    "print(r.text[:500])"
   ]
  },
  {
   "cell_type": "markdown",
   "metadata": {},
   "source": [
    "### 利用查看開發者工具觀察 Headers\n",
    "\n",
    "```\n",
    "'''\n",
    "放上截圖\n",
    "'''\n",
    "```"
   ]
  },
  {
   "cell_type": "code",
   "execution_count": 11,
   "metadata": {},
   "outputs": [
    {
     "name": "stdout",
     "output_type": "stream",
     "text": [
      "<!DOCTYPE html><html lang=\"zh\"><head><meta charSet=\"utf-8\" class=\"next-head\"/><meta name=\"viewport\" content=\"width=device-width, initial-scale=1\" class=\"jsx-1671588135 next-head\"/><meta name=\"description\" content=\"AICoin拥有全面而优质的区块链资源，提供实时行情、专业K线、数据分析、资产管理等专业服务，更高效地提供有价值的信息，提升资产管理的效率，成为行情数据分析的领跑者。\" class=\"jsx-1671588135 next-head\"/><link rel=\"canonical\" href=\"https://www.aicoin.cn?lang=zh\" class=\"jsx-1671588135 next-head\"/><title class=\"jsx-1671588135 next-head\">AICoin - 为价值 · 更高效</title><link rel=\"preload\" href=\"https://assets-www.aicoin.net.cn/beta-v20/_next/static/3hdwr6cp~cZO9E88WfpBK/pages/new-homepage.js\" as=\"script\"/><link rel=\"preload\" href=\"https://assets-www.aicoin.net.cn/beta-v20/_next/static/3hdwr6cp~cZO9E88WfpBK/pages/_app.js\" as=\"script\"/><link rel=\"preload\" href=\"https://assets-www.aicoin.net.cn/beta-v20/_next/static/3hdwr6cp~cZO9E88WfpBK/pages/_error.js\" as=\"script\"/><link rel=\"preload\" href=\"https://assets-www.aicoin.net.cn/beta-v20/_next/static/runtime/webpack-c8899873\n"
     ]
    }
   ],
   "source": [
    "import requests\n",
    "url = 'http://aicoin.cn/'\n",
    "\n",
    "headers = {\n",
    "    'Accept' : 'text/html,application/xhtml+xml,application/xml;q=0.9,image/webp,image/apng,*/*;q=0.8,application/signed-exchange;v=b3;q=0.9',\n",
    "    'User-Agent': 'Mozilla/5.0 (Macintosh; Intel Mac OS X 10_15_2) AppleWebKit/537.36 (KHTML, like Gecko) Chrome/79.0.3945.88 Safari/537.36'\n",
    "}\n",
    "r = requests.get(url, headers=headers)\n",
    "print(r.text[0:1000])"
   ]
  },
  {
   "cell_type": "code",
   "execution_count": 9,
   "metadata": {},
   "outputs": [
    {
     "name": "stdout",
     "output_type": "stream",
     "text": [
      "<!DOCTYPE html><html lang=\"zh\"><head><meta charSet=\"utf-8\" class=\"next-head\"/><meta name=\"viewport\" content=\"width=device-width, initial-scale=1\" class=\"jsx-1671588135 next-head\"/><meta name=\"description\" content=\"AICoin拥有全面而优质的区块链资源，提供实时行情、专业K线、数据分析、资产管理等专业服务，更高效地提供有价值的信息，提升资产管理的效率，成为行情数据分析的领跑者。\" class=\"jsx-1671588135 next-head\"/><link rel=\"canonical\" href=\"https://www.aicoin.cn?lang=zh\" class=\"jsx-1671588135 next-head\"/><title class=\"jsx-1671588135 next-head\">AICoin - 为价值 · 更高效</title><link rel=\"preload\" href=\"https://assets-www.aicoin.net.cn/beta-v20/_next/static/3hdwr6cp~cZO9E88WfpBK/pages/new-homepage.js\" as=\"script\"/><link rel=\"preload\" href=\"https://assets-www.aicoin.net.cn/beta-v20/_next/static/3hdwr6cp~cZO9E88WfpBK/pages/_app.js\" as=\"script\"/><link rel=\"preload\" href=\"https://assets-www.aicoin.net.cn/beta-v20/_next/static/3hdwr6cp~cZO9E88WfpBK/pages/_error.js\" as=\"script\"/><link rel=\"preload\" href=\"https://assets-www.aicoin.net.cn/beta-v20/_next/static/runtime/webpack-c8899873\n"
     ]
    }
   ],
   "source": [
    "url = 'http://aicoin.cn/'\n",
    "\n",
    "headers = {\n",
    "    'Accept': 'text/html,application/xhtml+xml,application/xml;q=0.9,image/webp,image/apng,*/*;q=0.8,application/signed-exchange;v=b3;q=0.9',\n",
    "    'User-Agent': 'Mozilla/5.0 (Windows NT 10.0; Win64; x64) AppleWebKit/537.36 (KHTML, like Gecko) Chrome/79.0.3945.117 Safari/537.36'\n",
    "}\n",
    "r = requests.get(url, headers=headers)\n",
    "r.encoding = 'utf-8'\n",
    "print(r.text[0:1000])"
   ]
  },
  {
   "cell_type": "code",
   "execution_count": null,
   "metadata": {},
   "outputs": [],
   "source": []
  }
 ],
 "metadata": {
  "kernelspec": {
   "display_name": "Python 3",
   "language": "python",
   "name": "python3"
  },
  "language_info": {
   "codemirror_mode": {
    "name": "ipython",
    "version": 3
   },
   "file_extension": ".py",
   "mimetype": "text/x-python",
   "name": "python",
   "nbconvert_exporter": "python",
   "pygments_lexer": "ipython3",
   "version": "3.7.3"
  }
 },
 "nbformat": 4,
 "nbformat_minor": 4
}
