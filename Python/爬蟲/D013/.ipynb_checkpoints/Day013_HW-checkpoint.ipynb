{
 "cells": [
  {
   "cell_type": "markdown",
   "metadata": {},
   "source": [
    "# PTT 網路爬蟲實作練習\n",
    "\n",
    "\n",
    "* 能夠利用 Request + BeatifulSour 撰寫爬蟲，並存放到合適的資料結構\n"
   ]
  },
  {
   "cell_type": "markdown",
   "metadata": {},
   "source": [
    "## 作業目標\n",
    "\n",
    "根據範例 ，完成以下問題：\n",
    "\n",
    "* ① 印出最新文章的「作者」「標題」「時間」\n",
    "* ② 印出第一頁所有文章的「作者」「標題」「時間」\n"
   ]
  },
  {
   "cell_type": "markdown",
   "metadata": {},
   "source": [
    "### ① 印出最新文章的「作者」「標題」「時間」"
   ]
  },
  {
   "cell_type": "code",
   "execution_count": 52,
   "metadata": {},
   "outputs": [],
   "source": [
    "import requests \n",
    "from bs4 import BeautifulSoup\n",
    "import pandas as pd \n",
    "import re"
   ]
  },
  {
   "cell_type": "code",
   "execution_count": 65,
   "metadata": {},
   "outputs": [],
   "source": [
    "url = 'https://www.ptt.cc/bbs/NBA/index.html'\n",
    "r = requests.get(url)\n",
    "r.text\n",
    "\n",
    "soup = BeautifulSoup(r.text, 'html5lib')"
   ]
  },
  {
   "cell_type": "code",
   "execution_count": 77,
   "metadata": {},
   "outputs": [
    {
     "name": "stdout",
     "output_type": "stream",
     "text": [
      "[Live] 太陽 @ 快艇\n",
      "作者：Rambo (香帥)\n",
      "時間：Wed Dec 18 11:00:01 2019\n"
     ]
    }
   ],
   "source": [
    "pattern = re.compile('r-ent|r-list-sep')\n",
    "for d in soup.find_all(class_= pattern) : \n",
    "    try : \n",
    "        if d.text == '' : \n",
    "            break\n",
    "        latest = d\n",
    "    except : \n",
    "        continue\n",
    "print(latest.find(class_= 'title').text.strip())\n",
    "r = BeautifulSoup(requests.get('https://www.ptt.cc'+latest.find('a')['href']).text, 'html5lib')\n",
    "print('作者：' + r.find_all(class_ = 'article-meta-value')[0].text)\n",
    "print('時間：' + r.find_all(class_ ='article-meta-value')[3].text)"
   ]
  },
  {
   "cell_type": "markdown",
   "metadata": {},
   "source": [
    "### ② 印出第一頁所有文章的「作者」「標題」「時間」"
   ]
  },
  {
   "cell_type": "code",
   "execution_count": 78,
   "metadata": {},
   "outputs": [
    {
     "name": "stdout",
     "output_type": "stream",
     "text": [
      "[新聞] 戴維斯腳踝扭傷 缺席湖人挑戰客場15連勝\n",
      "作者：LinBaoYan (負酬者聯盟)\n",
      "時間：Wed Dec 18 09:52:06 2019\n",
      "--------\n",
      "[BOX ] Lakers 102:105 Pacers 數據\n",
      "[BOX ] Kings 102:110 Hornets 數據\n",
      "[情報] LeBron James 生涯罰球數史上第6\n",
      "作者：TheBatman (蝙蝠俠)\n",
      "時間：Wed Dec 18 10:49:17 2019\n",
      "--------\n",
      "[BOX ] Hawks 120:143 Knicks 數據\n",
      "[Live] 太陽 @ 快艇\n",
      "作者：Rambo (香帥)\n",
      "時間：Wed Dec 18 11:00:01 2019\n",
      "--------\n",
      "[公告] 板規v6.7\n",
      "[公告] 樂透取消及未來不再開啟樂透\n",
      "作者：Vedan (味丹)\n",
      "時間：Mon Jun 24 15:08:02 2019\n",
      "--------\n",
      "[公告] 版主上任相關事項 \n",
      "作者：qazwsx879345 (Rajon Rondo)\n",
      "時間：Fri Oct 25 10:44:03 2019\n",
      "--------\n",
      "[情報] SEASON Schedule 賽程 December 19–20\n",
      "作者：JerroLi (銀色小刀)\n",
      "時間：Fri Nov 29 00:46:01 2019\n",
      "--------\n",
      "[公告] 是否禁止記者鄭廷瑋文章投票開始\n",
      "作者：dragon803 (好想去露營啊~)\n",
      "時間：Mon Dec 16 18:28:57 2019\n",
      "--------\n"
     ]
    }
   ],
   "source": [
    "for d in soup.find_all(class_ = 'title') : \n",
    "    print(d.text.replace('\\t', '').replace('\\n', ''))\n",
    "    try : \n",
    "        r = BeautifulSoup(requests.get('https://www.ptt.cc'+d.find('a')['href']).text, 'html5lib')\n",
    "        print('作者：' + r.find_all(class_ = 'article-meta-value')[0].text)\n",
    "        print('時間：' + r.find_all(class_ ='article-meta-value')[3].text)\n",
    "        print('--------')\n",
    "    except : \n",
    "        continue"
   ]
  },
  {
   "cell_type": "markdown",
   "metadata": {},
   "source": [
    "### ③ 試著爬爬看其他版的文章"
   ]
  },
  {
   "cell_type": "code",
   "execution_count": 79,
   "metadata": {},
   "outputs": [
    {
     "name": "stdout",
     "output_type": "stream",
     "text": [
      "(本文已被刪除) [Rin5566]\n",
      "(本文已被刪除) [Rin5566]\n",
      "[新聞] 納智捷URX熱賣 甫上市就缺車\n",
      "作者：Reewalker (報告饅頭班長不夠)\n",
      "時間：Wed Dec 18 06:14:22 2019\n",
      "--------\n",
      "(本文已被刪除) [chanjay]\n",
      "[閒聊] 2019/12/18 盤中閒聊\n",
      "作者：justforsing (雯晴啦不是晴雯)\n",
      "時間：Wed Dec 18 08:30:00 2019\n",
      "--------\n",
      "(本文已被刪除) [gn01765288]\n",
      "[請益] 新手證券開戶選擇\n",
      "作者：richard730 (Life Bubble GT)\n",
      "時間：Wed Dec 18 08:57:20 2019\n",
      "--------\n",
      "[新聞]  奇力新搭上5G高速列車 電感事業爆發在即\n",
      "作者：roxiang (天空之城)\n",
      "時間：Wed Dec 18 09:15:12 2019\n",
      "--------\n",
      "[新聞] 貿易戰損失慘? 中國醞釀大灑幣10兆人民\n",
      "作者：SP500StrongB (標普500十萬點)\n",
      "時間：Wed Dec 18 09:26:32 2019\n",
      "--------\n",
      "Fw: [新聞] 週刊爆富士康盜賣蘋果iPhone零件 庫克下\n",
      "作者：Merkle (居然被桶三個月 我QQ)\n",
      "時間：Wed Dec 18 09:41:06 2019\n",
      "--------\n",
      "[新聞] 帆宣、瑞淇電大漲 樺漢潛在利益近15股本\n",
      "作者：cakepupu (4000點快來吧)\n",
      "時間：Wed Dec 18 09:47:55 2019\n",
      "--------\n",
      "[新聞] 張綱維神隱又現身 揭交通部施壓內幕\n",
      "作者：joanzkow (星浪)\n",
      "時間：Wed Dec 18 10:07:03 2019\n",
      "--------\n",
      "[標的] 智邦 穩穩多\n",
      "作者：Sunrisesky (伴讀書僮)\n",
      "時間：Wed Dec 18 10:17:10 2019\n",
      "--------\n",
      "[請益] 請問這是什麼軟體（新手）\n",
      "作者：addison123 (鄉下小鮮肉)\n",
      "時間：Wed Dec 18 11:03:49 2019\n",
      "--------\n",
      "[其他] 憑什麼台股可以過12000,這樣穩嗎?\n",
      "作者：commander666 (NOCOM)\n",
      "時間：Wed Dec 18 11:04:24 2019\n",
      "--------\n",
      "Re: [請益] 該把持股全換成台G嗎\n",
      "作者：fantasy14 (我可以看見嗎)\n",
      "時間：Wed Dec 18 11:05:56 2019\n",
      "--------\n",
      "[公告] 精華區導覽Q&A\n",
      "作者：IanLi (IanLi)\n",
      "時間：Sun Jan 25 23:18:20 2015\n",
      "--------\n",
      "[公告] Stock 板規V2.6             (2019/06/20)\n",
      "[閒聊] 2019/12/18 盤中閒聊\n",
      "作者：justforsing (雯晴啦不是晴雯)\n",
      "時間：Wed Dec 18 08:30:00 2019\n",
      "--------\n"
     ]
    }
   ],
   "source": [
    "url = 'https://www.ptt.cc/bbs/Stock/index.html'\n",
    "r = requests.get(url)\n",
    "soup = BeautifulSoup(r.text, 'html5lib')\n",
    "\n",
    "for d in soup.find_all(class_ = 'title') : \n",
    "    print(d.text.replace('\\t', '').replace('\\n', ''))\n",
    "    try : \n",
    "        r = BeautifulSoup(requests.get('https://www.ptt.cc'+d.find('a')['href']).text, 'html5lib')\n",
    "        print('作者：' + r.find_all(class_ = 'article-meta-value')[0].text)\n",
    "        print('時間：' + r.find_all(class_ ='article-meta-value')[3].text)\n",
    "        print('--------')\n",
    "    except : \n",
    "        continue"
   ]
  },
  {
   "cell_type": "code",
   "execution_count": null,
   "metadata": {},
   "outputs": [],
   "source": []
  }
 ],
 "metadata": {
  "kernelspec": {
   "display_name": "Python 3",
   "language": "python",
   "name": "python3"
  },
  "language_info": {
   "codemirror_mode": {
    "name": "ipython",
    "version": 3
   },
   "file_extension": ".py",
   "mimetype": "text/x-python",
   "name": "python",
   "nbconvert_exporter": "python",
   "pygments_lexer": "ipython3",
   "version": "3.7.3"
  }
 },
 "nbformat": 4,
 "nbformat_minor": 4
}
