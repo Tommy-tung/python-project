{
 "cells": [
  {
   "cell_type": "code",
   "execution_count": 1,
   "metadata": {},
   "outputs": [],
   "source": [
    "from bs4 import BeautifulSoup\n",
    "import requests"
   ]
  },
  {
   "cell_type": "markdown",
   "metadata": {},
   "source": [
    "### 設定url，並發出request來獲取網頁資訊，再透過find找尋所需的內容"
   ]
  },
  {
   "cell_type": "code",
   "execution_count": 6,
   "metadata": {},
   "outputs": [],
   "source": [
    "r = requests.get('https://tw.stock.yahoo.com/q/bc?s=2609')\n",
    "soup = BeautifulSoup(r.text,\"html.parser\")"
   ]
  },
  {
   "cell_type": "code",
   "execution_count": 9,
   "metadata": {},
   "outputs": [
    {
     "data": {
      "text/plain": [
       "'陽明'"
      ]
     },
     "execution_count": 9,
     "metadata": {},
     "output_type": "execute_result"
    }
   ],
   "source": [
    "soup.find('tbody').find('td').find('td').find('div', {'style' : 'display: inline-block' }).text"
   ]
  },
  {
   "cell_type": "markdown",
   "metadata": {},
   "source": [
    "## Headers and Referer"
   ]
  },
  {
   "cell_type": "markdown",
   "metadata": {},
   "source": [
    "### 某些網站無法單純透過發送request來獲得訊息，因此要使用headers來繞過這樣的反爬蟲機制"
   ]
  },
  {
   "cell_type": "code",
   "execution_count": 7,
   "metadata": {},
   "outputs": [],
   "source": [
    "headers = {'User-Agent' : 'Mozilla/5.0 (Macintosh; Intel Mac OS X 10_15_7) AppleWebKit/537.36 (KHTML, like Gecko) Chrome/90.0.4430.85 Safari/537.36'}"
   ]
  },
  {
   "cell_type": "markdown",
   "metadata": {},
   "source": [
    "### referer紀錄了我們是從哪一個網站進入到目前的網站，如果我們直接進入到目前的網站，referer就不存在，而某些網站就會透過這樣的方式來進行反爬蟲"
   ]
  },
  {
   "cell_type": "code",
   "execution_count": 8,
   "metadata": {},
   "outputs": [],
   "source": [
    "headers_r = {'User-Agent' : 'Mozilla/5.0 (Macintosh; Intel Mac OS X 10_15_7) AppleWebKit/537.36 (KHTML, like Gecko) Chrome/90.0.4430.85 Safari/537.36',\n",
    "          'Referer' : 'https://www.cmoney.tw/finance/f00036.aspx?s=2609'}"
   ]
  },
  {
   "cell_type": "markdown",
   "metadata": {},
   "source": [
    "## AJAX動態載入網頁"
   ]
  },
  {
   "cell_type": "markdown",
   "metadata": {},
   "source": [
    "### 有些網頁為了提升使用體驗及維持執行效能，會使用AJAX的技術，非同步向伺服器傳送參數，取得資料來進行顯示，使用者不會感受到畫面有任何的閃爍或停頓，依然能夠正常的使用網頁。不過想要爬取這種類型的網頁，點擊滑鼠右鍵檢視原始碼時，會看到滿滿的Unicode編碼資料，沒有HTML標籤，必須透過其他處理來進行"
   ]
  },
  {
   "cell_type": "markdown",
   "metadata": {},
   "source": [
    "### 透過Network頁籤可以看到每一個Request，接著找出哪一個請求的回應網頁上的資料，在點擊查看其headers或referer為何，而要看這個請求(Request)的回應內容，可以切換到「Preview」頁籤來檢視，找到後使用headers底下的Request URL，即可獲得網頁的資訊"
   ]
  },
  {
   "cell_type": "code",
   "execution_count": 11,
   "metadata": {},
   "outputs": [
    {
     "data": {
      "text/plain": [
       "[{'Date': '20210428',\n",
       "  'ForeignInvestorsBuySell': '-16183',\n",
       "  'InvestmentTrustBuySell': '17055',\n",
       "  'DealerBuySell': '-82',\n",
       "  'ForeignInvestorsShareholding': '240444',\n",
       "  'InvestmentTrustShareholding': '68257',\n",
       "  'DealerShareholding': '30454',\n",
       "  'ForeignInvestorsShareholdingRate': '9.24',\n",
       "  'InvestmentTrustShareholdingRate': '2.05',\n",
       "  'DealerShareholdingRate': '0.91'},\n",
       " {'Date': '20210427',\n",
       "  'ForeignInvestorsBuySell': '-8467',\n",
       "  'InvestmentTrustBuySell': '14440',\n",
       "  'DealerBuySell': '199',\n",
       "  'ForeignInvestorsShareholding': '254654',\n",
       "  'InvestmentTrustShareholding': '51202',\n",
       "  'DealerShareholding': '30536',\n",
       "  'ForeignInvestorsShareholdingRate': '9.78',\n",
       "  'InvestmentTrustShareholdingRate': '1.54',\n",
       "  'DealerShareholdingRate': '0.92'},\n",
       " {'Date': '20210426',\n",
       "  'ForeignInvestorsBuySell': '684',\n",
       "  'InvestmentTrustBuySell': '615',\n",
       "  'DealerBuySell': '2197',\n",
       "  'ForeignInvestorsShareholding': '261147',\n",
       "  'InvestmentTrustShareholding': '36762',\n",
       "  'DealerShareholding': '30338',\n",
       "  'ForeignInvestorsShareholdingRate': '10.03',\n",
       "  'InvestmentTrustShareholdingRate': '1.10',\n",
       "  'DealerShareholdingRate': '0.91'},\n",
       " {'Date': '20210423',\n",
       "  'ForeignInvestorsBuySell': '-3638',\n",
       "  'InvestmentTrustBuySell': '2408',\n",
       "  'DealerBuySell': '-4877',\n",
       "  'ForeignInvestorsShareholding': '259799',\n",
       "  'InvestmentTrustShareholding': '36147',\n",
       "  'DealerShareholding': '28141',\n",
       "  'ForeignInvestorsShareholdingRate': '9.98',\n",
       "  'InvestmentTrustShareholdingRate': '1.08',\n",
       "  'DealerShareholdingRate': '0.84'},\n",
       " {'Date': '20210422',\n",
       "  'ForeignInvestorsBuySell': '1393',\n",
       "  'InvestmentTrustBuySell': '32',\n",
       "  'DealerBuySell': '-345',\n",
       "  'ForeignInvestorsShareholding': '261754',\n",
       "  'InvestmentTrustShareholding': '33739',\n",
       "  'DealerShareholding': '33018',\n",
       "  'ForeignInvestorsShareholdingRate': '10.06',\n",
       "  'InvestmentTrustShareholdingRate': '1.01',\n",
       "  'DealerShareholdingRate': '0.99'}]"
      ]
     },
     "execution_count": 11,
     "metadata": {},
     "output_type": "execute_result"
    }
   ],
   "source": [
    "headers_aj = {'User-Agent' : 'Mozilla/5.0 (Macintosh; Intel Mac OS X 10_15_7) AppleWebKit/537.36 (KHTML, like Gecko) Chrome/90.0.4430.85 Safari/537.36',\n",
    "          'Referer' : 'https://www.cmoney.tw/finance/f00036.aspx?s=2609'}\n",
    "r_aj = requests.get('https://www.cmoney.tw/finance/ashx/mainpage.ashx?action=GetInstitutionalInvestorsShareholding&stockId=2609&cmkey=fldsAVVJDd4Z07UarNJ6RQ%3D%3D', headers = headers_aj)\n",
    "r_aj.json()"
   ]
  },
  {
   "cell_type": "code",
   "execution_count": null,
   "metadata": {},
   "outputs": [],
   "source": []
  }
 ],
 "metadata": {
  "kernelspec": {
   "display_name": "Python 3",
   "language": "python",
   "name": "python3"
  },
  "language_info": {
   "codemirror_mode": {
    "name": "ipython",
    "version": 3
   },
   "file_extension": ".py",
   "mimetype": "text/x-python",
   "name": "python",
   "nbconvert_exporter": "python",
   "pygments_lexer": "ipython3",
   "version": "3.7.3"
  }
 },
 "nbformat": 4,
 "nbformat_minor": 4
}
