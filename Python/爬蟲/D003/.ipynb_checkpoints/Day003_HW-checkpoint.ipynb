{
 "cells": [
  {
   "cell_type": "markdown",
   "metadata": {},
   "source": [
    "# Python 下載XML檔案與解析\n",
    "\n",
    "\n",
    "* 了解 xml 檔案格式與內容\n",
    "* 能夠利用套件存取 xml 格式的檔案\n"
   ]
  },
  {
   "cell_type": "markdown",
   "metadata": {},
   "source": [
    "## 作業目標\n",
    "\n",
    "* 比較一下範例檔案中的「File I/O」與「xmltodict」讀出來的內容有什麼差異\n",
    "\n",
    "* 根據範例檔案的結果：\n",
    "    1. 請問高雄市有多少地區有溫度資料？\n",
    "    2. 請取出每一個地區所記錄的第一個時間點跟溫度\n",
    "    3. 請取出第一個地區所記錄的每一個時間點跟溫度"
   ]
  },
  {
   "cell_type": "markdown",
   "metadata": {},
   "source": [
    "### 比較一下範例檔案中的「File I/O」與「xmltodict」讀出來的內容有什麼差異\n"
   ]
  },
  {
   "cell_type": "markdown",
   "metadata": {},
   "source": [
    "### 1: File I/O"
   ]
  },
  {
   "cell_type": "code",
   "execution_count": 165,
   "metadata": {},
   "outputs": [],
   "source": [
    "fh = open(\"/Users/tommy84729/python/1st-PyCrawlerMarathon/D3/example/64_72hr_CH.xml\", \"r\")\n",
    "xml = fh.read()\n",
    "fh.close()\n",
    "#print(xml)"
   ]
  },
  {
   "cell_type": "markdown",
   "metadata": {},
   "source": [
    "### 2 : xmltodict"
   ]
  },
  {
   "cell_type": "code",
   "execution_count": 163,
   "metadata": {},
   "outputs": [],
   "source": [
    "import xmltodict\n",
    "d = dict(xmltodict.parse(xml))\n"
   ]
  },
  {
   "cell_type": "code",
   "execution_count": 164,
   "metadata": {},
   "outputs": [
    {
     "name": "stdout",
     "output_type": "stream",
     "text": [
      "臺灣各縣市鄉鎮未來3天(72小時)逐3小時天氣預報\n"
     ]
    }
   ],
   "source": [
    "datasetDescription = d['cwbopendata']['dataset']['datasetInfo']['datasetDescription']\n",
    "print(datasetDescription)"
   ]
  },
  {
   "cell_type": "markdown",
   "metadata": {},
   "source": [
    "### 根據範例檔案的結果：\n",
    "\n",
    "1. 請問高雄市有多少地區有溫度資料？\n",
    "2. 請取出每一個地區所記錄的第一個時間點跟溫度\n",
    "3. 請取出第一個地區所記錄的每一個時間點跟溫度"
   ]
  },
  {
   "cell_type": "markdown",
   "metadata": {},
   "source": [
    "## 1. 請問高雄市有多少地區有溫度資料？"
   ]
  },
  {
   "cell_type": "code",
   "execution_count": 12,
   "metadata": {},
   "outputs": [],
   "source": [
    "with open('/Users/tommy84729/python/1st-PyCrawlerMarathon/D3/example/64_72hr_CH.xml') as fd:\n",
    "    doc = dict(xmltodict.parse(fd.read()))\n"
   ]
  },
  {
   "cell_type": "code",
   "execution_count": 159,
   "metadata": {},
   "outputs": [
    {
     "data": {
      "text/plain": [
       "38"
      ]
     },
     "execution_count": 159,
     "metadata": {},
     "output_type": "execute_result"
    }
   ],
   "source": [
    "len(doc['cwbopendata']['dataset']['locations']['location'])"
   ]
  },
  {
   "cell_type": "code",
   "execution_count": 162,
   "metadata": {},
   "outputs": [
    {
     "name": "stdout",
     "output_type": "stream",
     "text": [
      "鹽埕區\n",
      "鼓山區\n",
      "左營區\n",
      "楠梓區\n",
      "三民區\n",
      "新興區\n",
      "前金區\n",
      "苓雅區\n",
      "前鎮區\n",
      "旗津區\n",
      "小港區\n",
      "鳳山區\n",
      "林園區\n",
      "大寮區\n",
      "大樹區\n",
      "大社區\n",
      "仁武區\n",
      "鳥松區\n",
      "岡山區\n",
      "橋頭區\n",
      "燕巢區\n",
      "田寮區\n",
      "阿蓮區\n",
      "路竹區\n",
      "湖內區\n",
      "茄萣區\n",
      "永安區\n",
      "彌陀區\n",
      "梓官區\n",
      "旗山區\n",
      "美濃區\n",
      "六龜區\n",
      "甲仙區\n",
      "杉林區\n",
      "內門區\n",
      "茂林區\n",
      "桃源區\n",
      "那瑪夏區\n"
     ]
    }
   ],
   "source": [
    "doc1 = doc['cwbopendata']['dataset']['locations']['location']\n",
    "for i in range(len(doc1)) : \n",
    "    k = doc1[i]\n",
    "    print(k['locationName'])"
   ]
  },
  {
   "cell_type": "markdown",
   "metadata": {},
   "source": [
    "### 有38個地區擁有溫度資料"
   ]
  },
  {
   "cell_type": "markdown",
   "metadata": {},
   "source": [
    "## 2.請取出每一個地區所記錄的第一個時間點跟溫度"
   ]
  },
  {
   "cell_type": "code",
   "execution_count": 166,
   "metadata": {},
   "outputs": [
    {
     "name": "stdout",
     "output_type": "stream",
     "text": [
      "鹽埕區  2019-06-28T12:00:00+08:00   33\n",
      "鼓山區  2019-06-28T12:00:00+08:00   33\n",
      "左營區  2019-06-28T12:00:00+08:00   33\n",
      "楠梓區  2019-06-28T12:00:00+08:00   34\n",
      "三民區  2019-06-28T12:00:00+08:00   32\n",
      "新興區  2019-06-28T12:00:00+08:00   33\n",
      "前金區  2019-06-28T12:00:00+08:00   33\n",
      "苓雅區  2019-06-28T12:00:00+08:00   33\n",
      "前鎮區  2019-06-28T12:00:00+08:00   33\n",
      "旗津區  2019-06-28T12:00:00+08:00   32\n",
      "小港區  2019-06-28T12:00:00+08:00   33\n",
      "鳳山區  2019-06-28T12:00:00+08:00   34\n",
      "林園區  2019-06-28T12:00:00+08:00   33\n",
      "大寮區  2019-06-28T12:00:00+08:00   34\n",
      "大樹區  2019-06-28T12:00:00+08:00   34\n",
      "大社區  2019-06-28T12:00:00+08:00   34\n",
      "仁武區  2019-06-28T12:00:00+08:00   33\n",
      "鳥松區  2019-06-28T12:00:00+08:00   34\n",
      "岡山區  2019-06-28T12:00:00+08:00   34\n",
      "橋頭區  2019-06-28T12:00:00+08:00   35\n",
      "燕巢區  2019-06-28T12:00:00+08:00   34\n",
      "田寮區  2019-06-28T12:00:00+08:00   34\n",
      "阿蓮區  2019-06-28T12:00:00+08:00   34\n",
      "路竹區  2019-06-28T12:00:00+08:00   33\n",
      "湖內區  2019-06-28T12:00:00+08:00   33\n",
      "茄萣區  2019-06-28T12:00:00+08:00   33\n",
      "永安區  2019-06-28T12:00:00+08:00   32\n",
      "彌陀區  2019-06-28T12:00:00+08:00   32\n",
      "梓官區  2019-06-28T12:00:00+08:00   32\n",
      "旗山區  2019-06-28T12:00:00+08:00   34\n",
      "美濃區  2019-06-28T12:00:00+08:00   34\n",
      "六龜區  2019-06-28T12:00:00+08:00   34\n",
      "甲仙區  2019-06-28T12:00:00+08:00   33\n",
      "杉林區  2019-06-28T12:00:00+08:00   36\n",
      "內門區  2019-06-28T12:00:00+08:00   34\n",
      "茂林區  2019-06-28T12:00:00+08:00   34\n",
      "桃源區  2019-06-28T12:00:00+08:00   31\n",
      "那瑪夏區  2019-06-28T12:00:00+08:00   29\n"
     ]
    }
   ],
   "source": [
    "for i in range(len(doc1)) : \n",
    "    a = doc1[i]\n",
    "    b = a['weatherElement'][0]['time'][0] \n",
    "    print(a['locationName'], '' ,b['dataTime'] ,' ' ,b['elementValue']['value'])"
   ]
  },
  {
   "cell_type": "markdown",
   "metadata": {},
   "source": [
    "## 3. 請取出第一個地區(鹽埕區)所記錄的每一個時間點跟溫度"
   ]
  },
  {
   "cell_type": "code",
   "execution_count": 171,
   "metadata": {},
   "outputs": [
    {
     "name": "stdout",
     "output_type": "stream",
     "text": [
      "鹽埕區\n",
      "2019-06-28T12:00:00+08:00 33\n",
      "2019-06-28T15:00:00+08:00 33\n",
      "2019-06-28T18:00:00+08:00 32\n",
      "2019-06-28T21:00:00+08:00 30\n",
      "2019-06-29T00:00:00+08:00 30\n",
      "2019-06-29T03:00:00+08:00 29\n",
      "2019-06-29T06:00:00+08:00 28\n",
      "2019-06-29T09:00:00+08:00 31\n",
      "2019-06-29T12:00:00+08:00 32\n",
      "2019-06-29T15:00:00+08:00 32\n",
      "2019-06-29T18:00:00+08:00 31\n",
      "2019-06-29T21:00:00+08:00 30\n",
      "2019-06-30T00:00:00+08:00 29\n",
      "2019-06-30T03:00:00+08:00 28\n",
      "2019-06-30T06:00:00+08:00 28\n",
      "2019-06-30T09:00:00+08:00 31\n",
      "2019-06-30T12:00:00+08:00 32\n",
      "2019-06-30T15:00:00+08:00 32\n",
      "2019-06-30T18:00:00+08:00 31\n",
      "2019-06-30T21:00:00+08:00 30\n",
      "2019-07-01T00:00:00+08:00 29\n",
      "2019-07-01T03:00:00+08:00 29\n",
      "2019-07-01T06:00:00+08:00 28\n",
      "2019-07-01T09:00:00+08:00 31\n"
     ]
    }
   ],
   "source": [
    "c = doc1[0]['weatherElement'][0]['time']\n",
    "print(doc1[0]['locationName'])\n",
    "for i in range(len(c)) : \n",
    "    d = c[i]\n",
    "    print(d['dataTime'] , d['elementValue']['value'])"
   ]
  }
 ],
 "metadata": {
  "kernelspec": {
   "display_name": "Python 3",
   "language": "python",
   "name": "python3"
  },
  "language_info": {
   "codemirror_mode": {
    "name": "ipython",
    "version": 3
   },
   "file_extension": ".py",
   "mimetype": "text/x-python",
   "name": "python",
   "nbconvert_exporter": "python",
   "pygments_lexer": "ipython3",
   "version": "3.7.3"
  }
 },
 "nbformat": 4,
 "nbformat_minor": 4
}
